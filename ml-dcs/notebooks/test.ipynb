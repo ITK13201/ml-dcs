{
 "cells": [
  {
   "cell_type": "code",
   "id": "fae06a7a-aab0-4166-8cd3-54b61783485d",
   "metadata": {
    "ExecuteTime": {
     "end_time": "2024-07-18T12:05:37.571621Z",
     "start_time": "2024-07-18T12:05:36.374529Z"
    }
   },
   "source": "!conda env export -n ml-dcs > /usr/local/src/ml-dcs/environment.yaml",
   "outputs": [],
   "execution_count": 3
  }
 ],
 "metadata": {
  "kernelspec": {
   "display_name": "Python 3 (ipykernel)",
   "language": "python",
   "name": "python3"
  },
  "language_info": {
   "codemirror_mode": {
    "name": "ipython",
    "version": 3
   },
   "file_extension": ".py",
   "mimetype": "text/x-python",
   "name": "python",
   "nbconvert_exporter": "python",
   "pygments_lexer": "ipython3",
   "version": "3.12.4"
  }
 },
 "nbformat": 4,
 "nbformat_minor": 5
}
