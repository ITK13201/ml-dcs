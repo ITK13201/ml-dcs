{
 "cells": [
  {
   "cell_type": "code",
   "id": "1a83d8a78ca323a9",
   "metadata": {
    "ExecuteTime": {
     "end_time": "2024-07-21T13:54:22.598360Z",
     "start_time": "2024-07-21T13:54:22.522232Z"
    }
   },
   "source": [
    "import pprint\n",
    "\n",
    "from ml_dcs.internal.mtsa.data_utils import MTSADataUtil\n",
    "\n",
    "util = MTSADataUtil(input_dir_path=\"./tmp/2024-07-04/input\")\n",
    "data = util._parse_data()\n",
    "\n",
    "for mtsa_result in data:\n",
    "    print(\"{}\\t{}\\t{}\\t{}\\t{}\\t{}\\t{}\".format(\n",
    "        mtsa_result.lts, mtsa_result.duration, \n",
    "        mtsa_result.significant_duration, \n",
    "        mtsa_result.compile_step.total_number_of_states, \n",
    "        mtsa_result.compile_step.total_number_of_transitions, \n",
    "        mtsa_result.compile_step.total_number_of_controllable_actions,\n",
    "        mtsa_result.compile_step.total_number_of_uncontrollable_actions\n",
    "    ))"
   ],
   "outputs": [
    {
     "name": "stdout",
     "output_type": "stream",
     "text": [
      "ArtGallery（N, 5 room）\t0:03:00.622000\t0:00:35.821000\t2016110\t12912500\t11496235\t1416265\n",
      "AT（4, 4）\t0:00:01.618000\t0:00:00.634000\t3824\t15905\t11184\t4721\n",
      "AT（4, 5）\t0:00:02.571000\t0:00:00.992000\t6207\t27705\t20776\t6929\n",
      "AT（2, 4）\t0:00:00.437000\t0:00:00.204000\t90\t237\t184\t53\n",
      "ArtGallery（N, 3 room）\t0:00:03.307000\t0:00:01.074000\t14146\t61852\t52061\t9791\n",
      "BW（3, 4）\t0:00:00.667000\t0:00:00.292000\t736\t2939\t978\t1961\n",
      "KIVA_system（S, 5 pod）\t0:01:00.416000\t0:00:23.525000\t16162\t498559\t498559\t0\n",
      "BW（5, 3）\t0:00:07.160000\t0:00:03.722000\t16814\t108076\t36021\t72055\n",
      "BW（2, 4）\t0:00:00.258000\t0:00:00.102000\t88\t235\t78\t157\n",
      "CM（2, 4）\t0:00:07.851000\t0:00:03.365000\t45144\t131751\t62568\t69183\n",
      "CM（2, 2）\t0:00:01.065000\t0:00:00.439000\t3940\t10455\t5120\t5335\n",
      "KIVA_system（S, 10 pod）\t0:02:42.042000\t0:00:57.576000\t113262\t4737939\t4737939\t0\n",
      "BW（5, 5）\t0:01:02.516000\t0:00:36.985000\t161058\t1098106\t366031\t732075\n",
      "CM（2, 3）\t0:00:03.264000\t0:00:01.485000\t15946\t45003\t21588\t23415\n",
      "BW（4, 4）\t0:00:03.867000\t0:00:01.822000\t6568\t35019\t11670\t23349\n",
      "ArtGallery（N, 4 room）\t0:00:30.800000\t0:00:10.472000\t277528\t1514608\t1300188\t214420\n",
      "AT（3, 3）\t0:00:00.495000\t0:00:00.212000\t354\t1105\t732\t373\n",
      "BW（2, 3）\t0:00:00.291000\t0:00:00.101000\t56\t145\t48\t97\n",
      "ArtGallery（N, 2 room）\t0:00:00.659000\t0:00:00.270000\t1148\t3848\t2779\t1069\n",
      "AT（3, 5）\t0:00:00.788000\t0:00:00.287000\t752\t2749\t2112\t637\n",
      "BW（3, 5）\t0:00:00.853000\t0:00:00.384000\t1338\t5468\t1821\t3647\n",
      "BW（3, 2）\t0:00:00.299000\t0:00:00.143000\t132\t473\t156\t317\n",
      "AT（2, 2）\t0:00:00.314000\t0:00:00.127000\t50\t105\t64\t41\n",
      "BW（2, 5）\t0:00:00.280000\t0:00:00.156000\t128\t349\t116\t233\n",
      "BW（4, 3）\t0:00:01.595000\t0:00:00.751000\t2408\t12375\t4122\t8253\n",
      "BW（4, 5）\t0:00:05.399000\t0:00:02.540000\t14648\t79887\t26626\t53261\n",
      "CM（3, 3）\t0:03:04.377000\t0:01:47.050000\t1362074\t5405449\t2831850\t2573599\n",
      "KIVA_system（N, 2 robot）\t0:00:14.143000\t0:00:06.680000\t2542\t57139\t54811\t2328\n",
      "AT（2, 5）\t0:00:00.432000\t0:00:00.137000\t113\t327\t268\t59\n",
      "KIVA_system（N, 4 robot）\t0:08:48.083000\t0:05:42.522000\t83188\t3222514\t3222514\t0\n",
      "CM（3, 4）\t0:47:04.043000\t0:36:48.475000\t6601122\t27224649\t14009976\t13214673\n",
      "AT（2, 3）\t0:00:00.366000\t0:00:00.102000\t69\t163\t116\t47\n",
      "BW（3, 3）\t0:00:00.453000\t0:00:00.234000\t350\t1346\t447\t899\n",
      "BW（5, 4）\t0:00:20.918000\t0:00:11.028000\t59056\t393691\t131226\t262465\n",
      "BW（4, 2）\t0:00:00.692000\t0:00:00.301000\t632\t3027\t1006\t2021\n",
      "AT（5, 10）\t0:02:11.135000\t0:01:05.020000\t514251\t3329796\t2857420\t472376\n",
      "AT\t0:02:13.547000\t0:01:04.372000\t514251\t3329796\t2857420\t472376\n",
      "KIVA_system（S, 20 pod）\t1:10:13.172000\t0:17:38.512000\t1115662\t69587899\t69587899\t0\n",
      "AT（3, 4）\t0:00:00.638000\t0:00:00.279000\t529\t1804\t1308\t496\n",
      "AT（5, 5）\t0:00:16.010000\t0:00:05.592000\t53326\t276921\t205220\t71701\n",
      "CM（2, 5）\t0:00:15.109000\t0:00:06.735000\t103246\t307659\t145244\t162415\n",
      "CM（3, 2）\t0:00:14.368000\t0:00:05.408000\t160890\t591705\t321780\t269925\n",
      "BW（5, 2）\t0:00:01.975000\t0:00:00.912000\t3132\t18781\t6256\t12525\n",
      "KIVA_system（N, 3 robot）\t0:04:21.601000\t0:02:29.683000\t55539\t1798657\t1757183\t41474\n"
     ]
    }
   ],
   "execution_count": 1
  },
  {
   "cell_type": "code",
   "id": "c83bcb6b24180f79",
   "metadata": {
    "ExecuteTime": {
     "end_time": "2024-07-21T13:54:22.600675Z",
     "start_time": "2024-07-21T13:54:22.599229Z"
    }
   },
   "source": "",
   "outputs": [],
   "execution_count": 1
  },
  {
   "cell_type": "code",
   "id": "27dece4edb77289f",
   "metadata": {
    "ExecuteTime": {
     "end_time": "2024-07-21T13:54:22.602540Z",
     "start_time": "2024-07-21T13:54:22.601274Z"
    }
   },
   "source": [],
   "outputs": [],
   "execution_count": 1
  }
 ],
 "metadata": {
  "kernelspec": {
   "display_name": "Python 3 (ipykernel)",
   "language": "python",
   "name": "python3"
  },
  "language_info": {
   "codemirror_mode": {
    "name": "ipython",
    "version": 3
   },
   "file_extension": ".py",
   "mimetype": "text/x-python",
   "name": "python",
   "nbconvert_exporter": "python",
   "pygments_lexer": "ipython3",
   "version": "3.12.4"
  }
 },
 "nbformat": 4,
 "nbformat_minor": 5
}
