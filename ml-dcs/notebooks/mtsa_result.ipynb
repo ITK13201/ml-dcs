{
 "cells": [
  {
   "cell_type": "code",
   "id": "1a83d8a78ca323a9",
   "metadata": {
    "ExecuteTime": {
     "end_time": "2024-07-21T10:25:58.146404Z",
     "start_time": "2024-07-21T10:25:58.064684Z"
    }
   },
   "source": [
    "import pprint\n",
    "\n",
    "from ml_dcs.internal.mtsa.data_utils import MTSADataUtil\n",
    "\n",
    "util = MTSADataUtil(input_dir_path=\"./tmp/2024-07-04/input\")\n",
    "data = util._parse_data()\n",
    "\n",
    "for mtsa_result in data:\n",
    "    pprint.pp(mtsa_result.duration)"
   ],
   "outputs": [
    {
     "name": "stdout",
     "output_type": "stream",
     "text": [
      "datetime.timedelta(seconds=180, microseconds=622000)\n",
      "datetime.timedelta(seconds=1, microseconds=618000)\n",
      "datetime.timedelta(seconds=2, microseconds=571000)\n",
      "datetime.timedelta(microseconds=437000)\n",
      "datetime.timedelta(seconds=3, microseconds=307000)\n",
      "datetime.timedelta(microseconds=667000)\n",
      "datetime.timedelta(seconds=60, microseconds=416000)\n",
      "datetime.timedelta(seconds=7, microseconds=160000)\n",
      "datetime.timedelta(microseconds=258000)\n",
      "datetime.timedelta(seconds=7, microseconds=851000)\n",
      "datetime.timedelta(seconds=1, microseconds=65000)\n",
      "datetime.timedelta(seconds=162, microseconds=42000)\n",
      "datetime.timedelta(seconds=62, microseconds=516000)\n",
      "datetime.timedelta(seconds=3, microseconds=264000)\n",
      "datetime.timedelta(seconds=3, microseconds=867000)\n",
      "datetime.timedelta(seconds=30, microseconds=800000)\n",
      "datetime.timedelta(microseconds=495000)\n",
      "datetime.timedelta(microseconds=291000)\n",
      "datetime.timedelta(microseconds=659000)\n",
      "datetime.timedelta(microseconds=788000)\n",
      "datetime.timedelta(microseconds=853000)\n",
      "datetime.timedelta(microseconds=299000)\n",
      "datetime.timedelta(microseconds=314000)\n",
      "datetime.timedelta(microseconds=280000)\n",
      "datetime.timedelta(seconds=1, microseconds=595000)\n",
      "datetime.timedelta(seconds=5, microseconds=399000)\n",
      "datetime.timedelta(seconds=184, microseconds=377000)\n",
      "datetime.timedelta(seconds=14, microseconds=143000)\n",
      "datetime.timedelta(microseconds=432000)\n",
      "datetime.timedelta(seconds=528, microseconds=83000)\n",
      "datetime.timedelta(seconds=2824, microseconds=43000)\n",
      "datetime.timedelta(microseconds=366000)\n",
      "datetime.timedelta(microseconds=453000)\n",
      "datetime.timedelta(seconds=20, microseconds=918000)\n",
      "datetime.timedelta(microseconds=692000)\n",
      "datetime.timedelta(seconds=131, microseconds=135000)\n",
      "datetime.timedelta(seconds=133, microseconds=547000)\n",
      "datetime.timedelta(seconds=4213, microseconds=172000)\n",
      "datetime.timedelta(microseconds=638000)\n",
      "datetime.timedelta(seconds=16, microseconds=10000)\n",
      "datetime.timedelta(seconds=15, microseconds=109000)\n",
      "datetime.timedelta(seconds=14, microseconds=368000)\n",
      "datetime.timedelta(seconds=1, microseconds=975000)\n",
      "datetime.timedelta(seconds=261, microseconds=601000)\n"
     ]
    }
   ],
   "execution_count": 1
  },
  {
   "cell_type": "code",
   "id": "c83bcb6b24180f79",
   "metadata": {
    "ExecuteTime": {
     "end_time": "2024-07-21T10:25:58.148564Z",
     "start_time": "2024-07-21T10:25:58.147319Z"
    }
   },
   "source": [],
   "outputs": [],
   "execution_count": 1
  },
  {
   "cell_type": "code",
   "id": "27dece4edb77289f",
   "metadata": {
    "ExecuteTime": {
     "end_time": "2024-07-21T10:25:58.150165Z",
     "start_time": "2024-07-21T10:25:58.149034Z"
    }
   },
   "source": [],
   "outputs": [],
   "execution_count": 1
  }
 ],
 "metadata": {
  "kernelspec": {
   "display_name": "Python 3 (ipykernel)",
   "language": "python",
   "name": "python3"
  },
  "language_info": {
   "codemirror_mode": {
    "name": "ipython",
    "version": 3
   },
   "file_extension": ".py",
   "mimetype": "text/x-python",
   "name": "python",
   "nbconvert_exporter": "python",
   "pygments_lexer": "ipython3",
   "version": "3.12.4"
  }
 },
 "nbformat": 4,
 "nbformat_minor": 5
}
