{
 "cells": [
  {
   "metadata": {
    "ExecuteTime": {
     "end_time": "2025-03-20T18:21:44.916943Z",
     "start_time": "2025-03-20T18:21:42.759869Z"
    }
   },
   "cell_type": "code",
   "source": [
    "from ml_dcs.domain.result import UnknownScenarioResult\n",
    "from ml_dcs.config import config  # NOQA\n",
    "\n",
    "simple_gbdt_result = UnknownScenarioResult()\n",
    "simple_rf_result = UnknownScenarioResult()\n",
    "simple_dt_result = UnknownScenarioResult()\n",
    "simple_lr_result = UnknownScenarioResult()\n",
    "gnn_l1_result = UnknownScenarioResult()\n",
    "gnn_l2_result = UnknownScenarioResult()\n",
    "gnn_l3_result = UnknownScenarioResult()"
   ],
   "id": "8e55e2b504f4641f",
   "outputs": [
    {
     "name": "stdout",
     "output_type": "stream",
     "text": [
      "PyTorch Device: cuda\n"
     ]
    }
   ],
   "execution_count": 1
  },
  {
   "metadata": {},
   "cell_type": "markdown",
   "source": "## Testing",
   "id": "6daed581b8f18ab5"
  },
  {
   "metadata": {
    "ExecuteTime": {
     "end_time": "2025-03-20T18:21:44.942693Z",
     "start_time": "2025-03-20T18:21:44.922403Z"
    }
   },
   "cell_type": "code",
   "source": [
    "# HC\n",
    "SIMPLE_INPUT_PATH = (\n",
    "    lambda algorithm: f\"tmp/prod-results/results-20241220/20241220_memory-usage_ArtGallery/simple/20241219-075911/testing-result_{algorithm}.json\"\n",
    ")\n",
    "GNN_INPUT_PATH_L1 = \"tmp/prod-results/results-20241220/20241220_memory-usage_ArtGallery/gnn-L1/20241219-080937/testing-result.json\"\n",
    "GNN_INPUT_PATH_L2 = \"tmp/prod-results/results-20241220/20241220_memory-usage_ArtGallery/gnn-L2/20241219-113355/testing-result.json\"\n",
    "GNN_INPUT_PATH_L3 = \"tmp/prod-results/results-20241220/20241220_memory-usage_ArtGallery/gnn-L3/20241219-121749/testing-result.json\"\n",
    "\n",
    "simple_gbdt_result.update_with_simple_from_testing(SIMPLE_INPUT_PATH(\"GBDT\"))\n",
    "simple_rf_result.update_with_simple_from_testing(SIMPLE_INPUT_PATH(\"RF\"))\n",
    "simple_dt_result.update_with_simple_from_testing(SIMPLE_INPUT_PATH(\"DT\"))\n",
    "simple_lr_result.update_with_simple_from_testing(SIMPLE_INPUT_PATH(\"LR\"))\n",
    "gnn_l1_result.update_with_gnn_from_testing(GNN_INPUT_PATH_L1)\n",
    "gnn_l2_result.update_with_gnn_from_testing(GNN_INPUT_PATH_L2)\n",
    "gnn_l3_result.update_with_gnn_from_testing(GNN_INPUT_PATH_L3)"
   ],
   "id": "97e7d88b4f03453c",
   "outputs": [],
   "execution_count": 2
  },
  {
   "metadata": {
    "ExecuteTime": {
     "end_time": "2025-03-20T18:21:45.023993Z",
     "start_time": "2025-03-20T18:21:44.985511Z"
    }
   },
   "cell_type": "code",
   "source": [
    "# AT\n",
    "SIMPLE_INPUT_PATH = (\n",
    "    lambda algorithm: f\"tmp/prod-results/results-20241220/20241220_memory-usage_AT/simple/20241219-124706/testing-result_{algorithm}.json\"\n",
    ")\n",
    "GNN_INPUT_PATH_L1 = \"tmp/prod-results/results-20241220/20241220_memory-usage_AT/gnn-L1/20241219-125731/testing-result.json\"\n",
    "GNN_INPUT_PATH_L2 = \"tmp/prod-results/results-20241220/20241220_memory-usage_AT/gnn-L2/20241219-132816/testing-result.json\"\n",
    "GNN_INPUT_PATH_L3 = \"tmp/prod-results/results-20241220/20241220_memory-usage_AT/gnn-L3/20241219-135830/testing-result.json\"\n",
    "\n",
    "simple_gbdt_result.update_with_simple_from_testing(SIMPLE_INPUT_PATH(\"GBDT\"))\n",
    "simple_rf_result.update_with_simple_from_testing(SIMPLE_INPUT_PATH(\"RF\"))\n",
    "simple_dt_result.update_with_simple_from_testing(SIMPLE_INPUT_PATH(\"DT\"))\n",
    "simple_lr_result.update_with_simple_from_testing(SIMPLE_INPUT_PATH(\"LR\"))\n",
    "gnn_l1_result.update_with_gnn_from_testing(GNN_INPUT_PATH_L1)\n",
    "gnn_l2_result.update_with_gnn_from_testing(GNN_INPUT_PATH_L2)\n",
    "gnn_l3_result.update_with_gnn_from_testing(GNN_INPUT_PATH_L3)"
   ],
   "id": "7facdcb11fc5c0cc",
   "outputs": [],
   "execution_count": 3
  },
  {
   "metadata": {
    "ExecuteTime": {
     "end_time": "2025-03-20T18:21:45.039290Z",
     "start_time": "2025-03-20T18:21:45.031227Z"
    }
   },
   "cell_type": "code",
   "source": [
    "# BW\n",
    "SIMPLE_INPUT_PATH = (\n",
    "    lambda algorithm: f\"tmp/prod-results/results-20241220/20241220_memory-usage_BW/simple/20241219-142259/testing-result_{algorithm}.json\"\n",
    ")\n",
    "GNN_INPUT_PATH_L1 = \"tmp/prod-results/results-20241220/20241220_memory-usage_BW/gnn-L1/20241219-143330/testing-result.json\"\n",
    "GNN_INPUT_PATH_L2 = \"tmp/prod-results/results-20241220/20241220_memory-usage_BW/gnn-L2/20241219-153526/testing-result.json\"\n",
    "GNN_INPUT_PATH_L3 = \"tmp/prod-results/results-20241220/20241220_memory-usage_BW/gnn-L3/20241219-160015/testing-result.json\"\n",
    "\n",
    "simple_gbdt_result.update_with_simple_from_testing(SIMPLE_INPUT_PATH(\"GBDT\"))\n",
    "simple_rf_result.update_with_simple_from_testing(SIMPLE_INPUT_PATH(\"RF\"))\n",
    "simple_dt_result.update_with_simple_from_testing(SIMPLE_INPUT_PATH(\"DT\"))\n",
    "simple_lr_result.update_with_simple_from_testing(SIMPLE_INPUT_PATH(\"LR\"))\n",
    "gnn_l1_result.update_with_gnn_from_testing(GNN_INPUT_PATH_L1)\n",
    "gnn_l2_result.update_with_gnn_from_testing(GNN_INPUT_PATH_L2)\n",
    "gnn_l3_result.update_with_gnn_from_testing(GNN_INPUT_PATH_L3)"
   ],
   "id": "f2ca11f270f37f05",
   "outputs": [],
   "execution_count": 4
  },
  {
   "metadata": {
    "ExecuteTime": {
     "end_time": "2025-03-20T18:21:45.062954Z",
     "start_time": "2025-03-20T18:21:45.045127Z"
    }
   },
   "cell_type": "code",
   "source": [
    "# CM\n",
    "SIMPLE_INPUT_PATH = (\n",
    "    lambda algorithm: f\"tmp/prod-results/results-20241220/20241220_memory-usage_CM/simple/20241219-163809/testing-result_{algorithm}.json\"\n",
    ")\n",
    "GNN_INPUT_PATH_L1 = \"tmp/prod-results/results-20241220/20241220_memory-usage_CM/gnn-L1/20241219-164836/testing-result.json\"\n",
    "GNN_INPUT_PATH_L2 = \"tmp/prod-results/results-20241220/20241220_memory-usage_CM/gnn-L2/20241219-171234/testing-result.json\"\n",
    "GNN_INPUT_PATH_L3 = \"tmp/prod-results/results-20241220/20241220_memory-usage_CM/gnn-L3/20241219-175807/testing-result.json\"\n",
    "\n",
    "simple_gbdt_result.update_with_simple_from_testing(SIMPLE_INPUT_PATH(\"GBDT\"))\n",
    "simple_rf_result.update_with_simple_from_testing(SIMPLE_INPUT_PATH(\"RF\"))\n",
    "simple_dt_result.update_with_simple_from_testing(SIMPLE_INPUT_PATH(\"DT\"))\n",
    "simple_lr_result.update_with_simple_from_testing(SIMPLE_INPUT_PATH(\"LR\"))\n",
    "gnn_l1_result.update_with_gnn_from_testing(GNN_INPUT_PATH_L1)\n",
    "gnn_l2_result.update_with_gnn_from_testing(GNN_INPUT_PATH_L2)\n",
    "gnn_l3_result.update_with_gnn_from_testing(GNN_INPUT_PATH_L3)"
   ],
   "id": "dd99acd7b8ed03c4",
   "outputs": [],
   "execution_count": 5
  },
  {
   "metadata": {},
   "cell_type": "markdown",
   "source": "## Training",
   "id": "35c1cdba4be227ce"
  },
  {
   "metadata": {
    "ExecuteTime": {
     "end_time": "2025-03-20T18:21:45.082124Z",
     "start_time": "2025-03-20T18:21:45.069091Z"
    }
   },
   "cell_type": "code",
   "source": [
    "# HC\n",
    "SIMPLE_INPUT_PATH = (\n",
    "    lambda algorithm: f\"tmp/prod-results/results-20241220/20241220_memory-usage_ArtGallery/simple/20241219-075911/training-result_{algorithm}.json\"\n",
    ")\n",
    "GNN_INPUT_PATH_L1 = \"tmp/prod-results/results-20241220/20241220_memory-usage_ArtGallery/gnn-L1/20241219-080937/training-result.json\"\n",
    "GNN_INPUT_PATH_L2 = \"tmp/prod-results/results-20241220/20241220_memory-usage_ArtGallery/gnn-L2/20241219-113355/training-result.json\"\n",
    "GNN_INPUT_PATH_L3 = \"tmp/prod-results/results-20241220/20241220_memory-usage_ArtGallery/gnn-L3/20241219-121749/training-result.json\"\n",
    "\n",
    "simple_gbdt_result.update_with_simple_from_training(SIMPLE_INPUT_PATH(\"GBDT\"))\n",
    "simple_rf_result.update_with_simple_from_training(SIMPLE_INPUT_PATH(\"RF\"))\n",
    "simple_dt_result.update_with_simple_from_training(SIMPLE_INPUT_PATH(\"DT\"))\n",
    "simple_lr_result.update_with_simple_from_training(SIMPLE_INPUT_PATH(\"LR\"))\n",
    "gnn_l1_result.update_with_gnn_from_training(GNN_INPUT_PATH_L1)\n",
    "gnn_l2_result.update_with_gnn_from_training(GNN_INPUT_PATH_L2)\n",
    "gnn_l3_result.update_with_gnn_from_training(GNN_INPUT_PATH_L3)"
   ],
   "id": "dbebb7eb6ff0f7f4",
   "outputs": [],
   "execution_count": 6
  },
  {
   "metadata": {
    "ExecuteTime": {
     "end_time": "2025-03-20T18:21:45.096257Z",
     "start_time": "2025-03-20T18:21:45.088237Z"
    }
   },
   "cell_type": "code",
   "source": [
    "# AT\n",
    "SIMPLE_INPUT_PATH = (\n",
    "    lambda algorithm: f\"tmp/prod-results/results-20241220/20241220_memory-usage_AT/simple/20241219-124706/training-result_{algorithm}.json\"\n",
    ")\n",
    "GNN_INPUT_PATH_L1 = \"tmp/prod-results/results-20241220/20241220_memory-usage_AT/gnn-L1/20241219-125731/training-result.json\"\n",
    "GNN_INPUT_PATH_L2 = \"tmp/prod-results/results-20241220/20241220_memory-usage_AT/gnn-L2/20241219-132816/training-result.json\"\n",
    "GNN_INPUT_PATH_L3 = \"tmp/prod-results/results-20241220/20241220_memory-usage_AT/gnn-L3/20241219-135830/training-result.json\"\n",
    "\n",
    "simple_gbdt_result.update_with_simple_from_training(SIMPLE_INPUT_PATH(\"GBDT\"))\n",
    "simple_rf_result.update_with_simple_from_training(SIMPLE_INPUT_PATH(\"RF\"))\n",
    "simple_dt_result.update_with_simple_from_training(SIMPLE_INPUT_PATH(\"DT\"))\n",
    "simple_lr_result.update_with_simple_from_training(SIMPLE_INPUT_PATH(\"LR\"))\n",
    "gnn_l1_result.update_with_gnn_from_training(GNN_INPUT_PATH_L1)\n",
    "gnn_l2_result.update_with_gnn_from_training(GNN_INPUT_PATH_L2)\n",
    "gnn_l3_result.update_with_gnn_from_training(GNN_INPUT_PATH_L3)"
   ],
   "id": "b434cef9a76365ba",
   "outputs": [],
   "execution_count": 7
  },
  {
   "metadata": {
    "ExecuteTime": {
     "end_time": "2025-03-20T18:21:45.108372Z",
     "start_time": "2025-03-20T18:21:45.102153Z"
    }
   },
   "cell_type": "code",
   "source": [
    "# BW\n",
    "SIMPLE_INPUT_PATH = (\n",
    "    lambda algorithm: f\"tmp/prod-results/results-20241220/20241220_memory-usage_BW/simple/20241219-142259/training-result_{algorithm}.json\"\n",
    ")\n",
    "GNN_INPUT_PATH_L1 = \"tmp/prod-results/results-20241220/20241220_memory-usage_BW/gnn-L1/20241219-143330/training-result.json\"\n",
    "GNN_INPUT_PATH_L2 = \"tmp/prod-results/results-20241220/20241220_memory-usage_BW/gnn-L2/20241219-153526/training-result.json\"\n",
    "GNN_INPUT_PATH_L3 = \"tmp/prod-results/results-20241220/20241220_memory-usage_BW/gnn-L3/20241219-160015/training-result.json\"\n",
    "\n",
    "simple_gbdt_result.update_with_simple_from_training(SIMPLE_INPUT_PATH(\"GBDT\"))\n",
    "simple_rf_result.update_with_simple_from_training(SIMPLE_INPUT_PATH(\"RF\"))\n",
    "simple_dt_result.update_with_simple_from_training(SIMPLE_INPUT_PATH(\"DT\"))\n",
    "simple_lr_result.update_with_simple_from_training(SIMPLE_INPUT_PATH(\"LR\"))\n",
    "gnn_l1_result.update_with_gnn_from_training(GNN_INPUT_PATH_L1)\n",
    "gnn_l2_result.update_with_gnn_from_training(GNN_INPUT_PATH_L2)\n",
    "gnn_l3_result.update_with_gnn_from_training(GNN_INPUT_PATH_L3)"
   ],
   "id": "171e21e3d70ab",
   "outputs": [],
   "execution_count": 8
  },
  {
   "metadata": {
    "ExecuteTime": {
     "end_time": "2025-03-20T18:21:45.121464Z",
     "start_time": "2025-03-20T18:21:45.114170Z"
    }
   },
   "cell_type": "code",
   "source": [
    "# CM\n",
    "SIMPLE_INPUT_PATH = (\n",
    "    lambda algorithm: f\"tmp/prod-results/results-20241220/20241220_memory-usage_CM/simple/20241219-163809/training-result_{algorithm}.json\"\n",
    ")\n",
    "GNN_INPUT_PATH_L1 = \"tmp/prod-results/results-20241220/20241220_memory-usage_CM/gnn-L1/20241219-164836/training-result.json\"\n",
    "GNN_INPUT_PATH_L2 = \"tmp/prod-results/results-20241220/20241220_memory-usage_CM/gnn-L2/20241219-171234/training-result.json\"\n",
    "GNN_INPUT_PATH_L3 = \"tmp/prod-results/results-20241220/20241220_memory-usage_CM/gnn-L3/20241219-175807/training-result.json\"\n",
    "\n",
    "simple_gbdt_result.update_with_simple_from_training(SIMPLE_INPUT_PATH(\"GBDT\"))\n",
    "simple_rf_result.update_with_simple_from_training(SIMPLE_INPUT_PATH(\"RF\"))\n",
    "simple_dt_result.update_with_simple_from_training(SIMPLE_INPUT_PATH(\"DT\"))\n",
    "simple_lr_result.update_with_simple_from_training(SIMPLE_INPUT_PATH(\"LR\"))\n",
    "gnn_l1_result.update_with_gnn_from_training(GNN_INPUT_PATH_L1)\n",
    "gnn_l2_result.update_with_gnn_from_training(GNN_INPUT_PATH_L2)\n",
    "gnn_l3_result.update_with_gnn_from_training(GNN_INPUT_PATH_L3)"
   ],
   "id": "e414000a709fc847",
   "outputs": [],
   "execution_count": 9
  },
  {
   "metadata": {},
   "cell_type": "markdown",
   "source": "## Table",
   "id": "b934eabf64e0303c"
  },
  {
   "metadata": {
    "ExecuteTime": {
     "end_time": "2025-03-20T18:21:45.137410Z",
     "start_time": "2025-03-20T18:21:45.127725Z"
    }
   },
   "cell_type": "code",
   "source": [
    "# FOR TABLE\n",
    "import pandas as pd\n",
    "\n",
    "pd.DataFrame(\n",
    "    {\n",
    "        \"Epochs\": [\n",
    "            simple_gbdt_result.epochs,\n",
    "            simple_rf_result.epochs,\n",
    "            simple_dt_result.epochs,\n",
    "            simple_lr_result.epochs,\n",
    "            gnn_l1_result.epochs,\n",
    "            gnn_l2_result.epochs,\n",
    "            gnn_l3_result.epochs,\n",
    "        ],\n",
    "        \"MAE\": [\n",
    "            simple_gbdt_result.mae,\n",
    "            simple_rf_result.mae,\n",
    "            simple_dt_result.mae,\n",
    "            simple_lr_result.mae,\n",
    "            gnn_l1_result.mae,\n",
    "            gnn_l2_result.mae,\n",
    "            gnn_l3_result.mae,\n",
    "        ],\n",
    "        \"RMSE\": [\n",
    "            simple_gbdt_result.rmse,\n",
    "            simple_rf_result.rmse,\n",
    "            simple_dt_result.rmse,\n",
    "            simple_lr_result.rmse,\n",
    "            gnn_l1_result.rmse,\n",
    "            gnn_l2_result.rmse,\n",
    "            gnn_l3_result.rmse,\n",
    "        ],\n",
    "        \"MAPE\": [\n",
    "            simple_gbdt_result.mape,\n",
    "            simple_rf_result.mape,\n",
    "            simple_dt_result.mape,\n",
    "            simple_lr_result.mape,\n",
    "            gnn_l1_result.mape,\n",
    "            gnn_l2_result.mape,\n",
    "            gnn_l3_result.mape,\n",
    "        ],\n",
    "        \"T_train\": [\n",
    "            simple_gbdt_result.t_train,\n",
    "            simple_rf_result.t_train,\n",
    "            simple_dt_result.t_train,\n",
    "            simple_lr_result.t_train,\n",
    "            gnn_l1_result.t_train,\n",
    "            gnn_l2_result.t_train,\n",
    "            gnn_l3_result.t_train,\n",
    "        ],\n",
    "        \"T_pred\": [\n",
    "            simple_gbdt_result.t_pred,\n",
    "            simple_rf_result.t_pred,\n",
    "            simple_dt_result.t_pred,\n",
    "            simple_lr_result.t_pred,\n",
    "            gnn_l1_result.t_pred,\n",
    "            gnn_l2_result.t_pred,\n",
    "            gnn_l3_result.t_pred,\n",
    "        ],\n",
    "    }\n",
    ")"
   ],
   "id": "97306cefddcd7e",
   "outputs": [
    {
     "data": {
      "text/plain": [
       "   Epochs          MAE         RMSE       MAPE      T_train   T_pred\n",
       "0     NaN  1092.562907  1585.463608   8.351885     0.152837  0.94200\n",
       "1     NaN   974.832684  1426.820392   6.251382     0.327168  8.88375\n",
       "2     NaN  1239.945584  1739.241354   6.990320     0.004376  0.18800\n",
       "3     NaN   565.674527  1235.712832   2.094176     6.199959  5.74700\n",
       "4  659.50  1877.831938  2431.748729  40.672121  4171.033628  1.65675\n",
       "5  187.75  4147.321366  4714.578132  27.627555  1523.102314  2.43625\n",
       "6  123.50  3330.857606  4285.310063  12.638900  1400.369984  3.29275"
      ],
      "text/html": [
       "<div>\n",
       "<style scoped>\n",
       "    .dataframe tbody tr th:only-of-type {\n",
       "        vertical-align: middle;\n",
       "    }\n",
       "\n",
       "    .dataframe tbody tr th {\n",
       "        vertical-align: top;\n",
       "    }\n",
       "\n",
       "    .dataframe thead th {\n",
       "        text-align: right;\n",
       "    }\n",
       "</style>\n",
       "<table border=\"1\" class=\"dataframe\">\n",
       "  <thead>\n",
       "    <tr style=\"text-align: right;\">\n",
       "      <th></th>\n",
       "      <th>Epochs</th>\n",
       "      <th>MAE</th>\n",
       "      <th>RMSE</th>\n",
       "      <th>MAPE</th>\n",
       "      <th>T_train</th>\n",
       "      <th>T_pred</th>\n",
       "    </tr>\n",
       "  </thead>\n",
       "  <tbody>\n",
       "    <tr>\n",
       "      <th>0</th>\n",
       "      <td>NaN</td>\n",
       "      <td>1092.562907</td>\n",
       "      <td>1585.463608</td>\n",
       "      <td>8.351885</td>\n",
       "      <td>0.152837</td>\n",
       "      <td>0.94200</td>\n",
       "    </tr>\n",
       "    <tr>\n",
       "      <th>1</th>\n",
       "      <td>NaN</td>\n",
       "      <td>974.832684</td>\n",
       "      <td>1426.820392</td>\n",
       "      <td>6.251382</td>\n",
       "      <td>0.327168</td>\n",
       "      <td>8.88375</td>\n",
       "    </tr>\n",
       "    <tr>\n",
       "      <th>2</th>\n",
       "      <td>NaN</td>\n",
       "      <td>1239.945584</td>\n",
       "      <td>1739.241354</td>\n",
       "      <td>6.990320</td>\n",
       "      <td>0.004376</td>\n",
       "      <td>0.18800</td>\n",
       "    </tr>\n",
       "    <tr>\n",
       "      <th>3</th>\n",
       "      <td>NaN</td>\n",
       "      <td>565.674527</td>\n",
       "      <td>1235.712832</td>\n",
       "      <td>2.094176</td>\n",
       "      <td>6.199959</td>\n",
       "      <td>5.74700</td>\n",
       "    </tr>\n",
       "    <tr>\n",
       "      <th>4</th>\n",
       "      <td>659.50</td>\n",
       "      <td>1877.831938</td>\n",
       "      <td>2431.748729</td>\n",
       "      <td>40.672121</td>\n",
       "      <td>4171.033628</td>\n",
       "      <td>1.65675</td>\n",
       "    </tr>\n",
       "    <tr>\n",
       "      <th>5</th>\n",
       "      <td>187.75</td>\n",
       "      <td>4147.321366</td>\n",
       "      <td>4714.578132</td>\n",
       "      <td>27.627555</td>\n",
       "      <td>1523.102314</td>\n",
       "      <td>2.43625</td>\n",
       "    </tr>\n",
       "    <tr>\n",
       "      <th>6</th>\n",
       "      <td>123.50</td>\n",
       "      <td>3330.857606</td>\n",
       "      <td>4285.310063</td>\n",
       "      <td>12.638900</td>\n",
       "      <td>1400.369984</td>\n",
       "      <td>3.29275</td>\n",
       "    </tr>\n",
       "  </tbody>\n",
       "</table>\n",
       "</div>"
      ]
     },
     "execution_count": 10,
     "metadata": {},
     "output_type": "execute_result"
    }
   ],
   "execution_count": 10
  }
 ],
 "metadata": {
  "kernelspec": {
   "name": "python3",
   "language": "python",
   "display_name": "Python 3 (ipykernel)"
  }
 },
 "nbformat": 5,
 "nbformat_minor": 9
}
