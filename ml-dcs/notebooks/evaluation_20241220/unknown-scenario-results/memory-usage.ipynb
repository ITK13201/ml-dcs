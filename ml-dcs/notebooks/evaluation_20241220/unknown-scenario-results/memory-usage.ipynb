{
 "cells": [
  {
   "metadata": {
    "ExecuteTime": {
     "end_time": "2025-03-22T11:02:27.486546Z",
     "start_time": "2025-03-22T11:02:25.400892Z"
    }
   },
   "cell_type": "code",
   "source": [
    "from ml_dcs.domain.result import UnknownScenarioResult\n",
    "from ml_dcs.config import config  # NOQA\n",
    "\n",
    "simple_gbdt_result = UnknownScenarioResult()\n",
    "simple_rf_result = UnknownScenarioResult()\n",
    "simple_dt_result = UnknownScenarioResult()\n",
    "simple_lr_result = UnknownScenarioResult()\n",
    "gnn_l1_result = UnknownScenarioResult()\n",
    "gnn_l2_result = UnknownScenarioResult()\n",
    "gnn_l3_result = UnknownScenarioResult()"
   ],
   "id": "8e55e2b504f4641f",
   "outputs": [
    {
     "name": "stdout",
     "output_type": "stream",
     "text": [
      "PyTorch Device: cuda\n"
     ]
    }
   ],
   "execution_count": 1
  },
  {
   "metadata": {},
   "cell_type": "markdown",
   "source": "## Testing",
   "id": "6daed581b8f18ab5"
  },
  {
   "metadata": {
    "ExecuteTime": {
     "end_time": "2025-03-22T11:02:27.514033Z",
     "start_time": "2025-03-22T11:02:27.496749Z"
    }
   },
   "cell_type": "code",
   "source": [
    "# HC\n",
    "SIMPLE_INPUT_PATH = (\n",
    "    lambda algorithm: f\"tmp/prod-results/results-20241220/20241220_memory-usage_ArtGallery/simple/20241219-075911/testing-result_{algorithm}.json\"\n",
    ")\n",
    "GNN_INPUT_PATH_L1 = \"tmp/prod-results/results-20241220/20241220_memory-usage_ArtGallery/gnn-L1/20241219-080937/testing-result.json\"\n",
    "GNN_INPUT_PATH_L2 = \"tmp/prod-results/results-20241220/20241220_memory-usage_ArtGallery/gnn-L2/20241219-113355/testing-result.json\"\n",
    "GNN_INPUT_PATH_L3 = \"tmp/prod-results/results-20241220/20241220_memory-usage_ArtGallery/gnn-L3/20241219-121749/testing-result.json\"\n",
    "\n",
    "simple_gbdt_result.update_with_simple_from_testing(SIMPLE_INPUT_PATH(\"GBDT\"))\n",
    "simple_rf_result.update_with_simple_from_testing(SIMPLE_INPUT_PATH(\"RF\"))\n",
    "simple_dt_result.update_with_simple_from_testing(SIMPLE_INPUT_PATH(\"DT\"))\n",
    "simple_lr_result.update_with_simple_from_testing(SIMPLE_INPUT_PATH(\"LR\"))\n",
    "gnn_l1_result.update_with_gnn_from_testing(GNN_INPUT_PATH_L1)\n",
    "gnn_l2_result.update_with_gnn_from_testing(GNN_INPUT_PATH_L2)\n",
    "gnn_l3_result.update_with_gnn_from_testing(GNN_INPUT_PATH_L3)"
   ],
   "id": "97e7d88b4f03453c",
   "outputs": [],
   "execution_count": 2
  },
  {
   "metadata": {
    "ExecuteTime": {
     "end_time": "2025-03-22T11:02:27.598401Z",
     "start_time": "2025-03-22T11:02:27.558053Z"
    }
   },
   "cell_type": "code",
   "source": [
    "# AT\n",
    "SIMPLE_INPUT_PATH = (\n",
    "    lambda algorithm: f\"tmp/prod-results/results-20241220/20241220_memory-usage_AT/simple/20241219-124706/testing-result_{algorithm}.json\"\n",
    ")\n",
    "GNN_INPUT_PATH_L1 = \"tmp/prod-results/results-20241220/20241220_memory-usage_AT/gnn-L1/20241219-125731/testing-result.json\"\n",
    "GNN_INPUT_PATH_L2 = \"tmp/prod-results/results-20241220/20241220_memory-usage_AT/gnn-L2/20241219-132816/testing-result.json\"\n",
    "GNN_INPUT_PATH_L3 = \"tmp/prod-results/results-20241220/20241220_memory-usage_AT/gnn-L3/20241219-135830/testing-result.json\"\n",
    "\n",
    "simple_gbdt_result.update_with_simple_from_testing(SIMPLE_INPUT_PATH(\"GBDT\"))\n",
    "simple_rf_result.update_with_simple_from_testing(SIMPLE_INPUT_PATH(\"RF\"))\n",
    "simple_dt_result.update_with_simple_from_testing(SIMPLE_INPUT_PATH(\"DT\"))\n",
    "simple_lr_result.update_with_simple_from_testing(SIMPLE_INPUT_PATH(\"LR\"))\n",
    "gnn_l1_result.update_with_gnn_from_testing(GNN_INPUT_PATH_L1)\n",
    "gnn_l2_result.update_with_gnn_from_testing(GNN_INPUT_PATH_L2)\n",
    "gnn_l3_result.update_with_gnn_from_testing(GNN_INPUT_PATH_L3)"
   ],
   "id": "7facdcb11fc5c0cc",
   "outputs": [],
   "execution_count": 3
  },
  {
   "metadata": {
    "ExecuteTime": {
     "end_time": "2025-03-22T11:02:27.615290Z",
     "start_time": "2025-03-22T11:02:27.606635Z"
    }
   },
   "cell_type": "code",
   "source": [
    "# BW\n",
    "SIMPLE_INPUT_PATH = (\n",
    "    lambda algorithm: f\"tmp/prod-results/results-20241220/20241220_memory-usage_BW/simple/20241219-142259/testing-result_{algorithm}.json\"\n",
    ")\n",
    "GNN_INPUT_PATH_L1 = \"tmp/prod-results/results-20241220/20241220_memory-usage_BW/gnn-L1/20241219-143330/testing-result.json\"\n",
    "GNN_INPUT_PATH_L2 = \"tmp/prod-results/results-20241220/20241220_memory-usage_BW/gnn-L2/20241219-153526/testing-result.json\"\n",
    "GNN_INPUT_PATH_L3 = \"tmp/prod-results/results-20241220/20241220_memory-usage_BW/gnn-L3/20241219-160015/testing-result.json\"\n",
    "\n",
    "simple_gbdt_result.update_with_simple_from_testing(SIMPLE_INPUT_PATH(\"GBDT\"))\n",
    "simple_rf_result.update_with_simple_from_testing(SIMPLE_INPUT_PATH(\"RF\"))\n",
    "simple_dt_result.update_with_simple_from_testing(SIMPLE_INPUT_PATH(\"DT\"))\n",
    "simple_lr_result.update_with_simple_from_testing(SIMPLE_INPUT_PATH(\"LR\"))\n",
    "gnn_l1_result.update_with_gnn_from_testing(GNN_INPUT_PATH_L1)\n",
    "gnn_l2_result.update_with_gnn_from_testing(GNN_INPUT_PATH_L2)\n",
    "gnn_l3_result.update_with_gnn_from_testing(GNN_INPUT_PATH_L3)"
   ],
   "id": "f2ca11f270f37f05",
   "outputs": [],
   "execution_count": 4
  },
  {
   "metadata": {
    "ExecuteTime": {
     "end_time": "2025-03-22T11:02:27.642542Z",
     "start_time": "2025-03-22T11:02:27.622325Z"
    }
   },
   "cell_type": "code",
   "source": [
    "# CM\n",
    "SIMPLE_INPUT_PATH = (\n",
    "    lambda algorithm: f\"tmp/prod-results/results-20241220/20241220_memory-usage_CM/simple/20241219-163809/testing-result_{algorithm}.json\"\n",
    ")\n",
    "GNN_INPUT_PATH_L1 = \"tmp/prod-results/results-20241220/20241220_memory-usage_CM/gnn-L1/20241219-164836/testing-result.json\"\n",
    "GNN_INPUT_PATH_L2 = \"tmp/prod-results/results-20241220/20241220_memory-usage_CM/gnn-L2/20241219-171234/testing-result.json\"\n",
    "GNN_INPUT_PATH_L3 = \"tmp/prod-results/results-20241220/20241220_memory-usage_CM/gnn-L3/20241219-175807/testing-result.json\"\n",
    "\n",
    "simple_gbdt_result.update_with_simple_from_testing(SIMPLE_INPUT_PATH(\"GBDT\"))\n",
    "simple_rf_result.update_with_simple_from_testing(SIMPLE_INPUT_PATH(\"RF\"))\n",
    "simple_dt_result.update_with_simple_from_testing(SIMPLE_INPUT_PATH(\"DT\"))\n",
    "simple_lr_result.update_with_simple_from_testing(SIMPLE_INPUT_PATH(\"LR\"))\n",
    "gnn_l1_result.update_with_gnn_from_testing(GNN_INPUT_PATH_L1)\n",
    "gnn_l2_result.update_with_gnn_from_testing(GNN_INPUT_PATH_L2)\n",
    "gnn_l3_result.update_with_gnn_from_testing(GNN_INPUT_PATH_L3)"
   ],
   "id": "dd99acd7b8ed03c4",
   "outputs": [],
   "execution_count": 5
  },
  {
   "metadata": {},
   "cell_type": "markdown",
   "source": "## Training",
   "id": "35c1cdba4be227ce"
  },
  {
   "metadata": {
    "ExecuteTime": {
     "end_time": "2025-03-22T11:02:27.660491Z",
     "start_time": "2025-03-22T11:02:27.649495Z"
    }
   },
   "cell_type": "code",
   "source": [
    "# HC\n",
    "SIMPLE_INPUT_PATH = (\n",
    "    lambda algorithm: f\"tmp/prod-results/results-20241220/20241220_memory-usage_ArtGallery/simple/20241219-075911/training-result_{algorithm}.json\"\n",
    ")\n",
    "GNN_INPUT_PATH_L1 = \"tmp/prod-results/results-20241220/20241220_memory-usage_ArtGallery/gnn-L1/20241219-080937/training-result.json\"\n",
    "GNN_INPUT_PATH_L2 = \"tmp/prod-results/results-20241220/20241220_memory-usage_ArtGallery/gnn-L2/20241219-113355/training-result.json\"\n",
    "GNN_INPUT_PATH_L3 = \"tmp/prod-results/results-20241220/20241220_memory-usage_ArtGallery/gnn-L3/20241219-121749/training-result.json\"\n",
    "\n",
    "simple_gbdt_result.update_with_simple_from_training(SIMPLE_INPUT_PATH(\"GBDT\"))\n",
    "simple_rf_result.update_with_simple_from_training(SIMPLE_INPUT_PATH(\"RF\"))\n",
    "simple_dt_result.update_with_simple_from_training(SIMPLE_INPUT_PATH(\"DT\"))\n",
    "simple_lr_result.update_with_simple_from_training(SIMPLE_INPUT_PATH(\"LR\"))\n",
    "gnn_l1_result.update_with_gnn_from_training(GNN_INPUT_PATH_L1)\n",
    "gnn_l2_result.update_with_gnn_from_training(GNN_INPUT_PATH_L2)\n",
    "gnn_l3_result.update_with_gnn_from_training(GNN_INPUT_PATH_L3)"
   ],
   "id": "dbebb7eb6ff0f7f4",
   "outputs": [],
   "execution_count": 6
  },
  {
   "metadata": {
    "ExecuteTime": {
     "end_time": "2025-03-22T11:02:27.675210Z",
     "start_time": "2025-03-22T11:02:27.668791Z"
    }
   },
   "cell_type": "code",
   "source": [
    "# AT\n",
    "SIMPLE_INPUT_PATH = (\n",
    "    lambda algorithm: f\"tmp/prod-results/results-20241220/20241220_memory-usage_AT/simple/20241219-124706/training-result_{algorithm}.json\"\n",
    ")\n",
    "GNN_INPUT_PATH_L1 = \"tmp/prod-results/results-20241220/20241220_memory-usage_AT/gnn-L1/20241219-125731/training-result.json\"\n",
    "GNN_INPUT_PATH_L2 = \"tmp/prod-results/results-20241220/20241220_memory-usage_AT/gnn-L2/20241219-132816/training-result.json\"\n",
    "GNN_INPUT_PATH_L3 = \"tmp/prod-results/results-20241220/20241220_memory-usage_AT/gnn-L3/20241219-135830/training-result.json\"\n",
    "\n",
    "simple_gbdt_result.update_with_simple_from_training(SIMPLE_INPUT_PATH(\"GBDT\"))\n",
    "simple_rf_result.update_with_simple_from_training(SIMPLE_INPUT_PATH(\"RF\"))\n",
    "simple_dt_result.update_with_simple_from_training(SIMPLE_INPUT_PATH(\"DT\"))\n",
    "simple_lr_result.update_with_simple_from_training(SIMPLE_INPUT_PATH(\"LR\"))\n",
    "gnn_l1_result.update_with_gnn_from_training(GNN_INPUT_PATH_L1)\n",
    "gnn_l2_result.update_with_gnn_from_training(GNN_INPUT_PATH_L2)\n",
    "gnn_l3_result.update_with_gnn_from_training(GNN_INPUT_PATH_L3)"
   ],
   "id": "b434cef9a76365ba",
   "outputs": [],
   "execution_count": 7
  },
  {
   "metadata": {
    "ExecuteTime": {
     "end_time": "2025-03-22T11:02:27.690934Z",
     "start_time": "2025-03-22T11:02:27.684638Z"
    }
   },
   "cell_type": "code",
   "source": [
    "# BW\n",
    "SIMPLE_INPUT_PATH = (\n",
    "    lambda algorithm: f\"tmp/prod-results/results-20241220/20241220_memory-usage_BW/simple/20241219-142259/training-result_{algorithm}.json\"\n",
    ")\n",
    "GNN_INPUT_PATH_L1 = \"tmp/prod-results/results-20241220/20241220_memory-usage_BW/gnn-L1/20241219-143330/training-result.json\"\n",
    "GNN_INPUT_PATH_L2 = \"tmp/prod-results/results-20241220/20241220_memory-usage_BW/gnn-L2/20241219-153526/training-result.json\"\n",
    "GNN_INPUT_PATH_L3 = \"tmp/prod-results/results-20241220/20241220_memory-usage_BW/gnn-L3/20241219-160015/training-result.json\"\n",
    "\n",
    "simple_gbdt_result.update_with_simple_from_training(SIMPLE_INPUT_PATH(\"GBDT\"))\n",
    "simple_rf_result.update_with_simple_from_training(SIMPLE_INPUT_PATH(\"RF\"))\n",
    "simple_dt_result.update_with_simple_from_training(SIMPLE_INPUT_PATH(\"DT\"))\n",
    "simple_lr_result.update_with_simple_from_training(SIMPLE_INPUT_PATH(\"LR\"))\n",
    "gnn_l1_result.update_with_gnn_from_training(GNN_INPUT_PATH_L1)\n",
    "gnn_l2_result.update_with_gnn_from_training(GNN_INPUT_PATH_L2)\n",
    "gnn_l3_result.update_with_gnn_from_training(GNN_INPUT_PATH_L3)"
   ],
   "id": "171e21e3d70ab",
   "outputs": [],
   "execution_count": 8
  },
  {
   "metadata": {
    "ExecuteTime": {
     "end_time": "2025-03-22T11:02:27.706322Z",
     "start_time": "2025-03-22T11:02:27.698345Z"
    }
   },
   "cell_type": "code",
   "source": [
    "# CM\n",
    "SIMPLE_INPUT_PATH = (\n",
    "    lambda algorithm: f\"tmp/prod-results/results-20241220/20241220_memory-usage_CM/simple/20241219-163809/training-result_{algorithm}.json\"\n",
    ")\n",
    "GNN_INPUT_PATH_L1 = \"tmp/prod-results/results-20241220/20241220_memory-usage_CM/gnn-L1/20241219-164836/training-result.json\"\n",
    "GNN_INPUT_PATH_L2 = \"tmp/prod-results/results-20241220/20241220_memory-usage_CM/gnn-L2/20241219-171234/training-result.json\"\n",
    "GNN_INPUT_PATH_L3 = \"tmp/prod-results/results-20241220/20241220_memory-usage_CM/gnn-L3/20241219-175807/training-result.json\"\n",
    "\n",
    "simple_gbdt_result.update_with_simple_from_training(SIMPLE_INPUT_PATH(\"GBDT\"))\n",
    "simple_rf_result.update_with_simple_from_training(SIMPLE_INPUT_PATH(\"RF\"))\n",
    "simple_dt_result.update_with_simple_from_training(SIMPLE_INPUT_PATH(\"DT\"))\n",
    "simple_lr_result.update_with_simple_from_training(SIMPLE_INPUT_PATH(\"LR\"))\n",
    "gnn_l1_result.update_with_gnn_from_training(GNN_INPUT_PATH_L1)\n",
    "gnn_l2_result.update_with_gnn_from_training(GNN_INPUT_PATH_L2)\n",
    "gnn_l3_result.update_with_gnn_from_training(GNN_INPUT_PATH_L3)"
   ],
   "id": "e414000a709fc847",
   "outputs": [],
   "execution_count": 9
  },
  {
   "metadata": {},
   "cell_type": "markdown",
   "source": "## Table",
   "id": "b934eabf64e0303c"
  },
  {
   "metadata": {
    "ExecuteTime": {
     "end_time": "2025-03-22T11:02:27.722577Z",
     "start_time": "2025-03-22T11:02:27.713631Z"
    }
   },
   "cell_type": "code",
   "source": [
    "# FOR TABLE\n",
    "import pandas as pd\n",
    "\n",
    "pd.DataFrame(\n",
    "    {\n",
    "        \"Epochs\": [\n",
    "            simple_gbdt_result.epochs,\n",
    "            simple_rf_result.epochs,\n",
    "            simple_dt_result.epochs,\n",
    "            simple_lr_result.epochs,\n",
    "            gnn_l1_result.epochs,\n",
    "            gnn_l2_result.epochs,\n",
    "            gnn_l3_result.epochs,\n",
    "        ],\n",
    "        \"MAE\": [\n",
    "            simple_gbdt_result.mae,\n",
    "            simple_rf_result.mae,\n",
    "            simple_dt_result.mae,\n",
    "            simple_lr_result.mae,\n",
    "            gnn_l1_result.mae,\n",
    "            gnn_l2_result.mae,\n",
    "            gnn_l3_result.mae,\n",
    "        ],\n",
    "        \"RMSE\": [\n",
    "            simple_gbdt_result.rmse,\n",
    "            simple_rf_result.rmse,\n",
    "            simple_dt_result.rmse,\n",
    "            simple_lr_result.rmse,\n",
    "            gnn_l1_result.rmse,\n",
    "            gnn_l2_result.rmse,\n",
    "            gnn_l3_result.rmse,\n",
    "        ],\n",
    "        \"MAPE\": [\n",
    "            simple_gbdt_result.mape,\n",
    "            simple_rf_result.mape,\n",
    "            simple_dt_result.mape,\n",
    "            simple_lr_result.mape,\n",
    "            gnn_l1_result.mape,\n",
    "            gnn_l2_result.mape,\n",
    "            gnn_l3_result.mape,\n",
    "        ],\n",
    "        \"T_train\": [\n",
    "            simple_gbdt_result.t_train,\n",
    "            simple_rf_result.t_train,\n",
    "            simple_dt_result.t_train,\n",
    "            simple_lr_result.t_train,\n",
    "            gnn_l1_result.t_train,\n",
    "            gnn_l2_result.t_train,\n",
    "            gnn_l3_result.t_train,\n",
    "        ],\n",
    "        \"T_pred\": [\n",
    "            simple_gbdt_result.t_pred,\n",
    "            simple_rf_result.t_pred,\n",
    "            simple_dt_result.t_pred,\n",
    "            simple_lr_result.t_pred,\n",
    "            gnn_l1_result.t_pred,\n",
    "            gnn_l2_result.t_pred,\n",
    "            gnn_l3_result.t_pred,\n",
    "        ],\n",
    "    }\n",
    ")"
   ],
   "id": "97306cefddcd7e",
   "outputs": [
    {
     "data": {
      "text/plain": [
       "       Epochs          MAE         RMSE       MAPE      T_train     T_pred\n",
       "0         NaN  1165.633808  1854.025567  12.227474     0.126572   1.421773\n",
       "1         NaN   963.657288  1620.621639   7.448737     0.264526  11.146303\n",
       "2         NaN  1173.003884  1901.061535   7.636736     0.003494   0.210453\n",
       "3         NaN   590.819908  1347.349890   1.850203     3.189318   6.995338\n",
       "4  553.193027  1491.946194  1912.237759  39.329292  2856.969658   1.313453\n",
       "5  238.509667  3386.820775  4160.378045  20.393376  1481.920791   2.016958\n",
       "6  133.641838  2864.729353  3888.055183  13.318861  1123.809707   2.854346"
      ],
      "text/html": [
       "<div>\n",
       "<style scoped>\n",
       "    .dataframe tbody tr th:only-of-type {\n",
       "        vertical-align: middle;\n",
       "    }\n",
       "\n",
       "    .dataframe tbody tr th {\n",
       "        vertical-align: top;\n",
       "    }\n",
       "\n",
       "    .dataframe thead th {\n",
       "        text-align: right;\n",
       "    }\n",
       "</style>\n",
       "<table border=\"1\" class=\"dataframe\">\n",
       "  <thead>\n",
       "    <tr style=\"text-align: right;\">\n",
       "      <th></th>\n",
       "      <th>Epochs</th>\n",
       "      <th>MAE</th>\n",
       "      <th>RMSE</th>\n",
       "      <th>MAPE</th>\n",
       "      <th>T_train</th>\n",
       "      <th>T_pred</th>\n",
       "    </tr>\n",
       "  </thead>\n",
       "  <tbody>\n",
       "    <tr>\n",
       "      <th>0</th>\n",
       "      <td>NaN</td>\n",
       "      <td>1165.633808</td>\n",
       "      <td>1854.025567</td>\n",
       "      <td>12.227474</td>\n",
       "      <td>0.126572</td>\n",
       "      <td>1.421773</td>\n",
       "    </tr>\n",
       "    <tr>\n",
       "      <th>1</th>\n",
       "      <td>NaN</td>\n",
       "      <td>963.657288</td>\n",
       "      <td>1620.621639</td>\n",
       "      <td>7.448737</td>\n",
       "      <td>0.264526</td>\n",
       "      <td>11.146303</td>\n",
       "    </tr>\n",
       "    <tr>\n",
       "      <th>2</th>\n",
       "      <td>NaN</td>\n",
       "      <td>1173.003884</td>\n",
       "      <td>1901.061535</td>\n",
       "      <td>7.636736</td>\n",
       "      <td>0.003494</td>\n",
       "      <td>0.210453</td>\n",
       "    </tr>\n",
       "    <tr>\n",
       "      <th>3</th>\n",
       "      <td>NaN</td>\n",
       "      <td>590.819908</td>\n",
       "      <td>1347.349890</td>\n",
       "      <td>1.850203</td>\n",
       "      <td>3.189318</td>\n",
       "      <td>6.995338</td>\n",
       "    </tr>\n",
       "    <tr>\n",
       "      <th>4</th>\n",
       "      <td>553.193027</td>\n",
       "      <td>1491.946194</td>\n",
       "      <td>1912.237759</td>\n",
       "      <td>39.329292</td>\n",
       "      <td>2856.969658</td>\n",
       "      <td>1.313453</td>\n",
       "    </tr>\n",
       "    <tr>\n",
       "      <th>5</th>\n",
       "      <td>238.509667</td>\n",
       "      <td>3386.820775</td>\n",
       "      <td>4160.378045</td>\n",
       "      <td>20.393376</td>\n",
       "      <td>1481.920791</td>\n",
       "      <td>2.016958</td>\n",
       "    </tr>\n",
       "    <tr>\n",
       "      <th>6</th>\n",
       "      <td>133.641838</td>\n",
       "      <td>2864.729353</td>\n",
       "      <td>3888.055183</td>\n",
       "      <td>13.318861</td>\n",
       "      <td>1123.809707</td>\n",
       "      <td>2.854346</td>\n",
       "    </tr>\n",
       "  </tbody>\n",
       "</table>\n",
       "</div>"
      ]
     },
     "execution_count": 10,
     "metadata": {},
     "output_type": "execute_result"
    }
   ],
   "execution_count": 10
  }
 ],
 "metadata": {
  "kernelspec": {
   "name": "python3",
   "language": "python",
   "display_name": "Python 3 (ipykernel)"
  }
 },
 "nbformat": 5,
 "nbformat_minor": 9
}
