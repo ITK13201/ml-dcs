{
 "cells": [
  {
   "metadata": {
    "ExecuteTime": {
     "end_time": "2025-03-22T10:54:09.563367Z",
     "start_time": "2025-03-22T10:54:07.394796Z"
    }
   },
   "cell_type": "code",
   "source": [
    "from ml_dcs.domain.result import UnknownScenarioResult\n",
    "from ml_dcs.config import config  # NOQA\n",
    "\n",
    "simple_gbdt_result = UnknownScenarioResult()\n",
    "simple_rf_result = UnknownScenarioResult()\n",
    "simple_dt_result = UnknownScenarioResult()\n",
    "simple_lr_result = UnknownScenarioResult()\n",
    "gnn_l1_result = UnknownScenarioResult()\n",
    "gnn_l2_result = UnknownScenarioResult()\n",
    "gnn_l3_result = UnknownScenarioResult()"
   ],
   "id": "397839ca4bf24a82",
   "outputs": [
    {
     "name": "stdout",
     "output_type": "stream",
     "text": [
      "PyTorch Device: cuda\n"
     ]
    }
   ],
   "execution_count": 1
  },
  {
   "metadata": {},
   "cell_type": "markdown",
   "source": "## Testing",
   "id": "a40e92d76881862e"
  },
  {
   "metadata": {
    "ExecuteTime": {
     "end_time": "2025-03-22T10:54:09.694016Z",
     "start_time": "2025-03-22T10:54:09.677540Z"
    }
   },
   "cell_type": "code",
   "source": [
    "# HC\n",
    "SIMPLE_INPUT_PATH = (\n",
    "    lambda algorithm: f\"tmp/prod-results/results-20241220/20241220_calculation-time_ArtGallery/simple/20241218-234521/testing-result_{algorithm}.json\"\n",
    ")\n",
    "GNN_INPUT_PATH_L1 = \"tmp/prod-results/results-20241220/20241220_calculation-time_ArtGallery/gnn-L1/20241218-235544/testing-result.json\"\n",
    "GNN_INPUT_PATH_L2 = \"tmp/prod-results/results-20241220/20241220_calculation-time_ArtGallery/gnn-L2/20241219-003515/testing-result.json\"\n",
    "GNN_INPUT_PATH_L3 = \"tmp/prod-results/results-20241220/20241220_calculation-time_ArtGallery/gnn-L3/20241219-005852/testing-result.json\"\n",
    "\n",
    "simple_gbdt_result.update_with_simple_from_testing(SIMPLE_INPUT_PATH(\"GBDT\"))\n",
    "simple_rf_result.update_with_simple_from_testing(SIMPLE_INPUT_PATH(\"RF\"))\n",
    "simple_dt_result.update_with_simple_from_testing(SIMPLE_INPUT_PATH(\"DT\"))\n",
    "simple_lr_result.update_with_simple_from_testing(SIMPLE_INPUT_PATH(\"LR\"))\n",
    "gnn_l1_result.update_with_gnn_from_testing(GNN_INPUT_PATH_L1)\n",
    "gnn_l2_result.update_with_gnn_from_testing(GNN_INPUT_PATH_L2)\n",
    "gnn_l3_result.update_with_gnn_from_testing(GNN_INPUT_PATH_L3)"
   ],
   "id": "13907ce277f8a2e0",
   "outputs": [],
   "execution_count": 2
  },
  {
   "metadata": {
    "ExecuteTime": {
     "end_time": "2025-03-22T10:54:09.760741Z",
     "start_time": "2025-03-22T10:54:09.725878Z"
    }
   },
   "cell_type": "code",
   "source": [
    "# AT\n",
    "SIMPLE_INPUT_PATH = (\n",
    "    lambda algorithm: f\"tmp/prod-results/results-20241220/20241220_calculation-time_AT/simple/20241219-012330/testing-result_{algorithm}.json\"\n",
    ")\n",
    "GNN_INPUT_PATH_L1 = \"tmp/prod-results/results-20241220/20241220_calculation-time_AT/gnn-L1/20241219-013355/testing-result.json\"\n",
    "GNN_INPUT_PATH_L2 = \"tmp/prod-results/results-20241220/20241220_calculation-time_AT/gnn-L2/20241219-015249/testing-result.json\"\n",
    "GNN_INPUT_PATH_L3 = \"tmp/prod-results/results-20241220/20241220_calculation-time_AT/gnn-L3/20241219-021102/testing-result.json\"\n",
    "\n",
    "simple_gbdt_result.update_with_simple_from_testing(SIMPLE_INPUT_PATH(\"GBDT\"))\n",
    "simple_rf_result.update_with_simple_from_testing(SIMPLE_INPUT_PATH(\"RF\"))\n",
    "simple_dt_result.update_with_simple_from_testing(SIMPLE_INPUT_PATH(\"DT\"))\n",
    "simple_lr_result.update_with_simple_from_testing(SIMPLE_INPUT_PATH(\"LR\"))\n",
    "gnn_l1_result.update_with_gnn_from_testing(GNN_INPUT_PATH_L1)\n",
    "gnn_l2_result.update_with_gnn_from_testing(GNN_INPUT_PATH_L2)\n",
    "gnn_l3_result.update_with_gnn_from_testing(GNN_INPUT_PATH_L3)"
   ],
   "id": "99c56116b860d905",
   "outputs": [],
   "execution_count": 3
  },
  {
   "metadata": {
    "ExecuteTime": {
     "end_time": "2025-03-22T10:54:09.773701Z",
     "start_time": "2025-03-22T10:54:09.767280Z"
    }
   },
   "cell_type": "code",
   "source": [
    "# BW\n",
    "SIMPLE_INPUT_PATH = (\n",
    "    lambda algorithm: f\"tmp/prod-results/results-20241220/20241220_calculation-time_BW/simple/20241219-022414/testing-result_{algorithm}.json\"\n",
    ")\n",
    "GNN_INPUT_PATH_L1 = \"tmp/prod-results/results-20241220/20241220_calculation-time_BW/gnn-L1/20241219-023438/testing-result.json\"\n",
    "GNN_INPUT_PATH_L2 = \"tmp/prod-results/results-20241220/20241220_calculation-time_BW/gnn-L2/20241219-032839/testing-result.json\"\n",
    "GNN_INPUT_PATH_L3 = \"tmp/prod-results/results-20241220/20241220_calculation-time_BW/gnn-L3/20241219-041209/testing-result.json\"\n",
    "\n",
    "simple_gbdt_result.update_with_simple_from_testing(SIMPLE_INPUT_PATH(\"GBDT\"))\n",
    "simple_rf_result.update_with_simple_from_testing(SIMPLE_INPUT_PATH(\"RF\"))\n",
    "simple_dt_result.update_with_simple_from_testing(SIMPLE_INPUT_PATH(\"DT\"))\n",
    "simple_lr_result.update_with_simple_from_testing(SIMPLE_INPUT_PATH(\"LR\"))\n",
    "gnn_l1_result.update_with_gnn_from_testing(GNN_INPUT_PATH_L1)\n",
    "gnn_l2_result.update_with_gnn_from_testing(GNN_INPUT_PATH_L2)\n",
    "gnn_l3_result.update_with_gnn_from_testing(GNN_INPUT_PATH_L3)"
   ],
   "id": "229d87b210adcf02",
   "outputs": [],
   "execution_count": 4
  },
  {
   "metadata": {
    "ExecuteTime": {
     "end_time": "2025-03-22T10:54:09.795622Z",
     "start_time": "2025-03-22T10:54:09.780349Z"
    }
   },
   "cell_type": "code",
   "source": [
    "# CM\n",
    "SIMPLE_INPUT_PATH = (\n",
    "    lambda algorithm: f\"tmp/prod-results/results-20241220/20241220_calculation-time_CM/simple/20241219-045449/testing-result_{algorithm}.json\"\n",
    ")\n",
    "GNN_INPUT_PATH_L1 = \"tmp/prod-results/results-20241220/20241220_calculation-time_CM/gnn-L1/20241219-050515/testing-result.json\"\n",
    "GNN_INPUT_PATH_L2 = \"tmp/prod-results/results-20241220/20241220_calculation-time_CM/gnn-L2/20241219-053600/testing-result.json\"\n",
    "GNN_INPUT_PATH_L3 = \"tmp/prod-results/results-20241220/20241220_calculation-time_CM/gnn-L3/20241219-055349/testing-result.json\"\n",
    "\n",
    "simple_gbdt_result.update_with_simple_from_testing(SIMPLE_INPUT_PATH(\"GBDT\"))\n",
    "simple_rf_result.update_with_simple_from_testing(SIMPLE_INPUT_PATH(\"RF\"))\n",
    "simple_dt_result.update_with_simple_from_testing(SIMPLE_INPUT_PATH(\"DT\"))\n",
    "simple_lr_result.update_with_simple_from_testing(SIMPLE_INPUT_PATH(\"LR\"))\n",
    "gnn_l1_result.update_with_gnn_from_testing(GNN_INPUT_PATH_L1)\n",
    "gnn_l2_result.update_with_gnn_from_testing(GNN_INPUT_PATH_L2)\n",
    "gnn_l3_result.update_with_gnn_from_testing(GNN_INPUT_PATH_L3)"
   ],
   "id": "77946aa34bb9aaa9",
   "outputs": [],
   "execution_count": 5
  },
  {
   "metadata": {},
   "cell_type": "markdown",
   "source": "## Training",
   "id": "6b766ea734f9b06a"
  },
  {
   "metadata": {
    "ExecuteTime": {
     "end_time": "2025-03-22T10:54:09.805795Z",
     "start_time": "2025-03-22T10:54:09.801107Z"
    }
   },
   "cell_type": "code",
   "source": [
    "# HC\n",
    "SIMPLE_INPUT_PATH = (\n",
    "    lambda algorithm: f\"tmp/prod-results/results-20241220/20241220_calculation-time_ArtGallery/simple/20241218-234521/training-result_{algorithm}.json\"\n",
    ")\n",
    "GNN_INPUT_PATH_L1 = \"tmp/prod-results/results-20241220/20241220_calculation-time_ArtGallery/gnn-L1/20241218-235544/training-result.json\"\n",
    "GNN_INPUT_PATH_L2 = \"tmp/prod-results/results-20241220/20241220_calculation-time_ArtGallery/gnn-L2/20241219-003515/training-result.json\"\n",
    "GNN_INPUT_PATH_L3 = \"tmp/prod-results/results-20241220/20241220_calculation-time_ArtGallery/gnn-L3/20241219-005852/training-result.json\"\n",
    "\n",
    "simple_gbdt_result.update_with_simple_from_training(SIMPLE_INPUT_PATH(\"GBDT\"))\n",
    "simple_rf_result.update_with_simple_from_training(SIMPLE_INPUT_PATH(\"RF\"))\n",
    "simple_dt_result.update_with_simple_from_training(SIMPLE_INPUT_PATH(\"DT\"))\n",
    "simple_lr_result.update_with_simple_from_training(SIMPLE_INPUT_PATH(\"LR\"))\n",
    "gnn_l1_result.update_with_gnn_from_training(GNN_INPUT_PATH_L1)\n",
    "gnn_l2_result.update_with_gnn_from_training(GNN_INPUT_PATH_L2)\n",
    "gnn_l3_result.update_with_gnn_from_training(GNN_INPUT_PATH_L3)"
   ],
   "id": "47d69bb434c1cb6a",
   "outputs": [],
   "execution_count": 6
  },
  {
   "metadata": {
    "ExecuteTime": {
     "end_time": "2025-03-22T10:54:09.815074Z",
     "start_time": "2025-03-22T10:54:09.811687Z"
    }
   },
   "cell_type": "code",
   "source": [
    "# AT\n",
    "SIMPLE_INPUT_PATH = (\n",
    "    lambda algorithm: f\"tmp/prod-results/results-20241220/20241220_calculation-time_AT/simple/20241219-012330/training-result_{algorithm}.json\"\n",
    ")\n",
    "GNN_INPUT_PATH_L1 = \"tmp/prod-results/results-20241220/20241220_calculation-time_AT/gnn-L1/20241219-013355/training-result.json\"\n",
    "GNN_INPUT_PATH_L2 = \"tmp/prod-results/results-20241220/20241220_calculation-time_AT/gnn-L2/20241219-015249/training-result.json\"\n",
    "GNN_INPUT_PATH_L3 = \"tmp/prod-results/results-20241220/20241220_calculation-time_AT/gnn-L3/20241219-021102/training-result.json\"\n",
    "\n",
    "simple_gbdt_result.update_with_simple_from_training(SIMPLE_INPUT_PATH(\"GBDT\"))\n",
    "simple_rf_result.update_with_simple_from_training(SIMPLE_INPUT_PATH(\"RF\"))\n",
    "simple_dt_result.update_with_simple_from_training(SIMPLE_INPUT_PATH(\"DT\"))\n",
    "simple_lr_result.update_with_simple_from_training(SIMPLE_INPUT_PATH(\"LR\"))\n",
    "gnn_l1_result.update_with_gnn_from_training(GNN_INPUT_PATH_L1)\n",
    "gnn_l2_result.update_with_gnn_from_training(GNN_INPUT_PATH_L2)\n",
    "gnn_l3_result.update_with_gnn_from_training(GNN_INPUT_PATH_L3)"
   ],
   "id": "3d3b003834022575",
   "outputs": [],
   "execution_count": 7
  },
  {
   "metadata": {
    "ExecuteTime": {
     "end_time": "2025-03-22T10:54:09.824943Z",
     "start_time": "2025-03-22T10:54:09.820024Z"
    }
   },
   "cell_type": "code",
   "source": [
    "# BW\n",
    "SIMPLE_INPUT_PATH = (\n",
    "    lambda algorithm: f\"tmp/prod-results/results-20241220/20241220_calculation-time_BW/simple/20241219-022414/training-result_{algorithm}.json\"\n",
    ")\n",
    "GNN_INPUT_PATH_L1 = \"tmp/prod-results/results-20241220/20241220_calculation-time_BW/gnn-L1/20241219-023438/training-result.json\"\n",
    "GNN_INPUT_PATH_L2 = \"tmp/prod-results/results-20241220/20241220_calculation-time_BW/gnn-L2/20241219-032839/training-result.json\"\n",
    "GNN_INPUT_PATH_L3 = \"tmp/prod-results/results-20241220/20241220_calculation-time_BW/gnn-L3/20241219-041209/training-result.json\"\n",
    "\n",
    "simple_gbdt_result.update_with_simple_from_training(SIMPLE_INPUT_PATH(\"GBDT\"))\n",
    "simple_rf_result.update_with_simple_from_training(SIMPLE_INPUT_PATH(\"RF\"))\n",
    "simple_dt_result.update_with_simple_from_training(SIMPLE_INPUT_PATH(\"DT\"))\n",
    "simple_lr_result.update_with_simple_from_training(SIMPLE_INPUT_PATH(\"LR\"))\n",
    "gnn_l1_result.update_with_gnn_from_training(GNN_INPUT_PATH_L1)\n",
    "gnn_l2_result.update_with_gnn_from_training(GNN_INPUT_PATH_L2)\n",
    "gnn_l3_result.update_with_gnn_from_training(GNN_INPUT_PATH_L3)"
   ],
   "id": "3d914f7e50c55ced",
   "outputs": [],
   "execution_count": 8
  },
  {
   "metadata": {
    "ExecuteTime": {
     "end_time": "2025-03-22T10:54:09.836018Z",
     "start_time": "2025-03-22T10:54:09.830648Z"
    }
   },
   "cell_type": "code",
   "source": [
    "# CM\n",
    "SIMPLE_INPUT_PATH = (\n",
    "    lambda algorithm: f\"tmp/prod-results/results-20241220/20241220_calculation-time_CM/simple/20241219-045449/training-result_{algorithm}.json\"\n",
    ")\n",
    "GNN_INPUT_PATH_L1 = \"tmp/prod-results/results-20241220/20241220_calculation-time_CM/gnn-L1/20241219-050515/training-result.json\"\n",
    "GNN_INPUT_PATH_L2 = \"tmp/prod-results/results-20241220/20241220_calculation-time_CM/gnn-L2/20241219-053600/training-result.json\"\n",
    "GNN_INPUT_PATH_L3 = \"tmp/prod-results/results-20241220/20241220_calculation-time_CM/gnn-L3/20241219-055349/training-result.json\"\n",
    "\n",
    "simple_gbdt_result.update_with_simple_from_training(SIMPLE_INPUT_PATH(\"GBDT\"))\n",
    "simple_rf_result.update_with_simple_from_training(SIMPLE_INPUT_PATH(\"RF\"))\n",
    "simple_dt_result.update_with_simple_from_training(SIMPLE_INPUT_PATH(\"DT\"))\n",
    "simple_lr_result.update_with_simple_from_training(SIMPLE_INPUT_PATH(\"LR\"))\n",
    "gnn_l1_result.update_with_gnn_from_training(GNN_INPUT_PATH_L1)\n",
    "gnn_l2_result.update_with_gnn_from_training(GNN_INPUT_PATH_L2)\n",
    "gnn_l3_result.update_with_gnn_from_training(GNN_INPUT_PATH_L3)"
   ],
   "id": "d6b0531a1d860a08",
   "outputs": [],
   "execution_count": 9
  },
  {
   "metadata": {},
   "cell_type": "markdown",
   "source": "## Table",
   "id": "c7b246f7f18b02ad"
  },
  {
   "metadata": {
    "ExecuteTime": {
     "end_time": "2025-03-22T10:54:09.851764Z",
     "start_time": "2025-03-22T10:54:09.843120Z"
    }
   },
   "cell_type": "code",
   "source": [
    "# FOR TABLE\n",
    "import pandas as pd\n",
    "\n",
    "pd.DataFrame(\n",
    "    {\n",
    "        \"Epochs\": [\n",
    "            simple_gbdt_result.epochs,\n",
    "            simple_rf_result.epochs,\n",
    "            simple_dt_result.epochs,\n",
    "            simple_lr_result.epochs,\n",
    "            gnn_l1_result.epochs,\n",
    "            gnn_l2_result.epochs,\n",
    "            gnn_l3_result.epochs,\n",
    "        ],\n",
    "        \"MAE\": [\n",
    "            simple_gbdt_result.mae,\n",
    "            simple_rf_result.mae,\n",
    "            simple_dt_result.mae,\n",
    "            simple_lr_result.mae,\n",
    "            gnn_l1_result.mae,\n",
    "            gnn_l2_result.mae,\n",
    "            gnn_l3_result.mae,\n",
    "        ],\n",
    "        \"RMSE\": [\n",
    "            simple_gbdt_result.rmse,\n",
    "            simple_rf_result.rmse,\n",
    "            simple_dt_result.rmse,\n",
    "            simple_lr_result.rmse,\n",
    "            gnn_l1_result.rmse,\n",
    "            gnn_l2_result.rmse,\n",
    "            gnn_l3_result.rmse,\n",
    "        ],\n",
    "        \"MAPE\": [\n",
    "            simple_gbdt_result.mape,\n",
    "            simple_rf_result.mape,\n",
    "            simple_dt_result.mape,\n",
    "            simple_lr_result.mape,\n",
    "            gnn_l1_result.mape,\n",
    "            gnn_l2_result.mape,\n",
    "            gnn_l3_result.mape,\n",
    "        ],\n",
    "        \"T_train\": [\n",
    "            simple_gbdt_result.t_train,\n",
    "            simple_rf_result.t_train,\n",
    "            simple_dt_result.t_train,\n",
    "            simple_lr_result.t_train,\n",
    "            gnn_l1_result.t_train,\n",
    "            gnn_l2_result.t_train,\n",
    "            gnn_l3_result.t_train,\n",
    "        ],\n",
    "        \"T_pred\": [\n",
    "            simple_gbdt_result.t_pred,\n",
    "            simple_rf_result.t_pred,\n",
    "            simple_dt_result.t_pred,\n",
    "            simple_lr_result.t_pred,\n",
    "            gnn_l1_result.t_pred,\n",
    "            gnn_l2_result.t_pred,\n",
    "            gnn_l3_result.t_pred,\n",
    "        ],\n",
    "    }\n",
    ")"
   ],
   "id": "96324c4a5eba5d1a",
   "outputs": [
    {
     "data": {
      "text/plain": [
       "       Epochs        MAE       RMSE       MAPE     T_train     T_pred\n",
       "0         NaN  30.124731  51.071295  11.209222    0.128898   1.347421\n",
       "1         NaN  22.097460  39.688292   4.777393    0.267982  11.204162\n",
       "2         NaN  26.125972  45.015877   5.619106    0.003500   0.245773\n",
       "3         NaN  13.333543  35.947396   0.797575    1.404669   6.899956\n",
       "4  181.190808  31.971593  41.517286  12.884591  868.090082   1.431175\n",
       "5   85.850079  37.051835  50.220089  16.750199  519.615369   2.115701\n",
       "6   36.945800  69.588640  81.595843  29.933735  389.310640   3.207939"
      ],
      "text/html": [
       "<div>\n",
       "<style scoped>\n",
       "    .dataframe tbody tr th:only-of-type {\n",
       "        vertical-align: middle;\n",
       "    }\n",
       "\n",
       "    .dataframe tbody tr th {\n",
       "        vertical-align: top;\n",
       "    }\n",
       "\n",
       "    .dataframe thead th {\n",
       "        text-align: right;\n",
       "    }\n",
       "</style>\n",
       "<table border=\"1\" class=\"dataframe\">\n",
       "  <thead>\n",
       "    <tr style=\"text-align: right;\">\n",
       "      <th></th>\n",
       "      <th>Epochs</th>\n",
       "      <th>MAE</th>\n",
       "      <th>RMSE</th>\n",
       "      <th>MAPE</th>\n",
       "      <th>T_train</th>\n",
       "      <th>T_pred</th>\n",
       "    </tr>\n",
       "  </thead>\n",
       "  <tbody>\n",
       "    <tr>\n",
       "      <th>0</th>\n",
       "      <td>NaN</td>\n",
       "      <td>30.124731</td>\n",
       "      <td>51.071295</td>\n",
       "      <td>11.209222</td>\n",
       "      <td>0.128898</td>\n",
       "      <td>1.347421</td>\n",
       "    </tr>\n",
       "    <tr>\n",
       "      <th>1</th>\n",
       "      <td>NaN</td>\n",
       "      <td>22.097460</td>\n",
       "      <td>39.688292</td>\n",
       "      <td>4.777393</td>\n",
       "      <td>0.267982</td>\n",
       "      <td>11.204162</td>\n",
       "    </tr>\n",
       "    <tr>\n",
       "      <th>2</th>\n",
       "      <td>NaN</td>\n",
       "      <td>26.125972</td>\n",
       "      <td>45.015877</td>\n",
       "      <td>5.619106</td>\n",
       "      <td>0.003500</td>\n",
       "      <td>0.245773</td>\n",
       "    </tr>\n",
       "    <tr>\n",
       "      <th>3</th>\n",
       "      <td>NaN</td>\n",
       "      <td>13.333543</td>\n",
       "      <td>35.947396</td>\n",
       "      <td>0.797575</td>\n",
       "      <td>1.404669</td>\n",
       "      <td>6.899956</td>\n",
       "    </tr>\n",
       "    <tr>\n",
       "      <th>4</th>\n",
       "      <td>181.190808</td>\n",
       "      <td>31.971593</td>\n",
       "      <td>41.517286</td>\n",
       "      <td>12.884591</td>\n",
       "      <td>868.090082</td>\n",
       "      <td>1.431175</td>\n",
       "    </tr>\n",
       "    <tr>\n",
       "      <th>5</th>\n",
       "      <td>85.850079</td>\n",
       "      <td>37.051835</td>\n",
       "      <td>50.220089</td>\n",
       "      <td>16.750199</td>\n",
       "      <td>519.615369</td>\n",
       "      <td>2.115701</td>\n",
       "    </tr>\n",
       "    <tr>\n",
       "      <th>6</th>\n",
       "      <td>36.945800</td>\n",
       "      <td>69.588640</td>\n",
       "      <td>81.595843</td>\n",
       "      <td>29.933735</td>\n",
       "      <td>389.310640</td>\n",
       "      <td>3.207939</td>\n",
       "    </tr>\n",
       "  </tbody>\n",
       "</table>\n",
       "</div>"
      ]
     },
     "execution_count": 10,
     "metadata": {},
     "output_type": "execute_result"
    }
   ],
   "execution_count": 10
  }
 ],
 "metadata": {
  "kernelspec": {
   "name": "python3",
   "language": "python",
   "display_name": "Python 3 (ipykernel)"
  }
 },
 "nbformat": 5,
 "nbformat_minor": 9
}
