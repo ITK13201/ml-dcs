{
 "cells": [
  {
   "metadata": {
    "ExecuteTime": {
     "end_time": "2025-03-20T18:18:23.034444Z",
     "start_time": "2025-03-20T18:18:20.940495Z"
    }
   },
   "cell_type": "code",
   "source": [
    "from ml_dcs.domain.result import UnknownScenarioResult\n",
    "from ml_dcs.config import config  # NOQA\n",
    "\n",
    "simple_gbdt_result = UnknownScenarioResult()\n",
    "simple_rf_result = UnknownScenarioResult()\n",
    "simple_dt_result = UnknownScenarioResult()\n",
    "simple_lr_result = UnknownScenarioResult()\n",
    "gnn_l1_result = UnknownScenarioResult()\n",
    "gnn_l2_result = UnknownScenarioResult()\n",
    "gnn_l3_result = UnknownScenarioResult()"
   ],
   "id": "397839ca4bf24a82",
   "outputs": [
    {
     "name": "stdout",
     "output_type": "stream",
     "text": [
      "PyTorch Device: cuda\n"
     ]
    }
   ],
   "execution_count": 1
  },
  {
   "metadata": {},
   "cell_type": "markdown",
   "source": "## Testing",
   "id": "a40e92d76881862e"
  },
  {
   "metadata": {
    "ExecuteTime": {
     "end_time": "2025-03-20T18:18:23.055518Z",
     "start_time": "2025-03-20T18:18:23.040867Z"
    }
   },
   "cell_type": "code",
   "source": [
    "# HC\n",
    "SIMPLE_INPUT_PATH = (\n",
    "    lambda algorithm: f\"tmp/prod-results/results-20241220/20241220_calculation-time_ArtGallery/simple/20241218-234521/testing-result_{algorithm}.json\"\n",
    ")\n",
    "GNN_INPUT_PATH_L1 = \"tmp/prod-results/results-20241220/20241220_calculation-time_ArtGallery/gnn-L1/20241218-235544/testing-result.json\"\n",
    "GNN_INPUT_PATH_L2 = \"tmp/prod-results/results-20241220/20241220_calculation-time_ArtGallery/gnn-L2/20241219-003515/testing-result.json\"\n",
    "GNN_INPUT_PATH_L3 = \"tmp/prod-results/results-20241220/20241220_calculation-time_ArtGallery/gnn-L3/20241219-005852/testing-result.json\"\n",
    "\n",
    "simple_gbdt_result.update_with_simple_from_testing(SIMPLE_INPUT_PATH(\"GBDT\"))\n",
    "simple_rf_result.update_with_simple_from_testing(SIMPLE_INPUT_PATH(\"RF\"))\n",
    "simple_dt_result.update_with_simple_from_testing(SIMPLE_INPUT_PATH(\"DT\"))\n",
    "simple_lr_result.update_with_simple_from_testing(SIMPLE_INPUT_PATH(\"LR\"))\n",
    "gnn_l1_result.update_with_gnn_from_testing(GNN_INPUT_PATH_L1)\n",
    "gnn_l2_result.update_with_gnn_from_testing(GNN_INPUT_PATH_L2)\n",
    "gnn_l3_result.update_with_gnn_from_testing(GNN_INPUT_PATH_L3)"
   ],
   "id": "13907ce277f8a2e0",
   "outputs": [],
   "execution_count": 2
  },
  {
   "metadata": {
    "ExecuteTime": {
     "end_time": "2025-03-20T18:18:23.136766Z",
     "start_time": "2025-03-20T18:18:23.101979Z"
    }
   },
   "cell_type": "code",
   "source": [
    "# AT\n",
    "SIMPLE_INPUT_PATH = (\n",
    "    lambda algorithm: f\"tmp/prod-results/results-20241220/20241220_calculation-time_AT/simple/20241219-012330/testing-result_{algorithm}.json\"\n",
    ")\n",
    "GNN_INPUT_PATH_L1 = \"tmp/prod-results/results-20241220/20241220_calculation-time_AT/gnn-L1/20241219-013355/testing-result.json\"\n",
    "GNN_INPUT_PATH_L2 = \"tmp/prod-results/results-20241220/20241220_calculation-time_AT/gnn-L2/20241219-015249/testing-result.json\"\n",
    "GNN_INPUT_PATH_L3 = \"tmp/prod-results/results-20241220/20241220_calculation-time_AT/gnn-L3/20241219-021102/testing-result.json\"\n",
    "\n",
    "simple_gbdt_result.update_with_simple_from_testing(SIMPLE_INPUT_PATH(\"GBDT\"))\n",
    "simple_rf_result.update_with_simple_from_testing(SIMPLE_INPUT_PATH(\"RF\"))\n",
    "simple_dt_result.update_with_simple_from_testing(SIMPLE_INPUT_PATH(\"DT\"))\n",
    "simple_lr_result.update_with_simple_from_testing(SIMPLE_INPUT_PATH(\"LR\"))\n",
    "gnn_l1_result.update_with_gnn_from_testing(GNN_INPUT_PATH_L1)\n",
    "gnn_l2_result.update_with_gnn_from_testing(GNN_INPUT_PATH_L2)\n",
    "gnn_l3_result.update_with_gnn_from_testing(GNN_INPUT_PATH_L3)"
   ],
   "id": "99c56116b860d905",
   "outputs": [],
   "execution_count": 3
  },
  {
   "metadata": {
    "ExecuteTime": {
     "end_time": "2025-03-20T18:18:23.152373Z",
     "start_time": "2025-03-20T18:18:23.144853Z"
    }
   },
   "cell_type": "code",
   "source": [
    "# BW\n",
    "SIMPLE_INPUT_PATH = (\n",
    "    lambda algorithm: f\"tmp/prod-results/results-20241220/20241220_calculation-time_BW/simple/20241219-022414/testing-result_{algorithm}.json\"\n",
    ")\n",
    "GNN_INPUT_PATH_L1 = \"tmp/prod-results/results-20241220/20241220_calculation-time_BW/gnn-L1/20241219-023438/testing-result.json\"\n",
    "GNN_INPUT_PATH_L2 = \"tmp/prod-results/results-20241220/20241220_calculation-time_BW/gnn-L2/20241219-032839/testing-result.json\"\n",
    "GNN_INPUT_PATH_L3 = \"tmp/prod-results/results-20241220/20241220_calculation-time_BW/gnn-L3/20241219-041209/testing-result.json\"\n",
    "\n",
    "simple_gbdt_result.update_with_simple_from_testing(SIMPLE_INPUT_PATH(\"GBDT\"))\n",
    "simple_rf_result.update_with_simple_from_testing(SIMPLE_INPUT_PATH(\"RF\"))\n",
    "simple_dt_result.update_with_simple_from_testing(SIMPLE_INPUT_PATH(\"DT\"))\n",
    "simple_lr_result.update_with_simple_from_testing(SIMPLE_INPUT_PATH(\"LR\"))\n",
    "gnn_l1_result.update_with_gnn_from_testing(GNN_INPUT_PATH_L1)\n",
    "gnn_l2_result.update_with_gnn_from_testing(GNN_INPUT_PATH_L2)\n",
    "gnn_l3_result.update_with_gnn_from_testing(GNN_INPUT_PATH_L3)"
   ],
   "id": "229d87b210adcf02",
   "outputs": [],
   "execution_count": 4
  },
  {
   "metadata": {
    "ExecuteTime": {
     "end_time": "2025-03-20T18:18:23.173976Z",
     "start_time": "2025-03-20T18:18:23.158197Z"
    }
   },
   "cell_type": "code",
   "source": [
    "# CM\n",
    "SIMPLE_INPUT_PATH = (\n",
    "    lambda algorithm: f\"tmp/prod-results/results-20241220/20241220_calculation-time_CM/simple/20241219-045449/testing-result_{algorithm}.json\"\n",
    ")\n",
    "GNN_INPUT_PATH_L1 = \"tmp/prod-results/results-20241220/20241220_calculation-time_CM/gnn-L1/20241219-050515/testing-result.json\"\n",
    "GNN_INPUT_PATH_L2 = \"tmp/prod-results/results-20241220/20241220_calculation-time_CM/gnn-L2/20241219-053600/testing-result.json\"\n",
    "GNN_INPUT_PATH_L3 = \"tmp/prod-results/results-20241220/20241220_calculation-time_CM/gnn-L3/20241219-055349/testing-result.json\"\n",
    "\n",
    "simple_gbdt_result.update_with_simple_from_testing(SIMPLE_INPUT_PATH(\"GBDT\"))\n",
    "simple_rf_result.update_with_simple_from_testing(SIMPLE_INPUT_PATH(\"RF\"))\n",
    "simple_dt_result.update_with_simple_from_testing(SIMPLE_INPUT_PATH(\"DT\"))\n",
    "simple_lr_result.update_with_simple_from_testing(SIMPLE_INPUT_PATH(\"LR\"))\n",
    "gnn_l1_result.update_with_gnn_from_testing(GNN_INPUT_PATH_L1)\n",
    "gnn_l2_result.update_with_gnn_from_testing(GNN_INPUT_PATH_L2)\n",
    "gnn_l3_result.update_with_gnn_from_testing(GNN_INPUT_PATH_L3)"
   ],
   "id": "77946aa34bb9aaa9",
   "outputs": [],
   "execution_count": 5
  },
  {
   "metadata": {},
   "cell_type": "markdown",
   "source": "## Training",
   "id": "6b766ea734f9b06a"
  },
  {
   "metadata": {
    "ExecuteTime": {
     "end_time": "2025-03-20T18:18:23.188418Z",
     "start_time": "2025-03-20T18:18:23.183386Z"
    }
   },
   "cell_type": "code",
   "source": [
    "# HC\n",
    "SIMPLE_INPUT_PATH = (\n",
    "    lambda algorithm: f\"tmp/prod-results/results-20241220/20241220_calculation-time_ArtGallery/simple/20241218-234521/training-result_{algorithm}.json\"\n",
    ")\n",
    "GNN_INPUT_PATH_L1 = \"tmp/prod-results/results-20241220/20241220_calculation-time_ArtGallery/gnn-L1/20241218-235544/training-result.json\"\n",
    "GNN_INPUT_PATH_L2 = \"tmp/prod-results/results-20241220/20241220_calculation-time_ArtGallery/gnn-L2/20241219-003515/training-result.json\"\n",
    "GNN_INPUT_PATH_L3 = \"tmp/prod-results/results-20241220/20241220_calculation-time_ArtGallery/gnn-L3/20241219-005852/training-result.json\"\n",
    "\n",
    "simple_gbdt_result.update_with_simple_from_training(SIMPLE_INPUT_PATH(\"GBDT\"))\n",
    "simple_rf_result.update_with_simple_from_training(SIMPLE_INPUT_PATH(\"RF\"))\n",
    "simple_dt_result.update_with_simple_from_training(SIMPLE_INPUT_PATH(\"DT\"))\n",
    "simple_lr_result.update_with_simple_from_training(SIMPLE_INPUT_PATH(\"LR\"))\n",
    "gnn_l1_result.update_with_gnn_from_training(GNN_INPUT_PATH_L1)\n",
    "gnn_l2_result.update_with_gnn_from_training(GNN_INPUT_PATH_L2)\n",
    "gnn_l3_result.update_with_gnn_from_training(GNN_INPUT_PATH_L3)"
   ],
   "id": "47d69bb434c1cb6a",
   "outputs": [],
   "execution_count": 6
  },
  {
   "metadata": {
    "ExecuteTime": {
     "end_time": "2025-03-20T18:18:23.210103Z",
     "start_time": "2025-03-20T18:18:23.202790Z"
    }
   },
   "cell_type": "code",
   "source": [
    "# AT\n",
    "SIMPLE_INPUT_PATH = (\n",
    "    lambda algorithm: f\"tmp/prod-results/results-20241220/20241220_calculation-time_AT/simple/20241219-012330/training-result_{algorithm}.json\"\n",
    ")\n",
    "GNN_INPUT_PATH_L1 = \"tmp/prod-results/results-20241220/20241220_calculation-time_AT/gnn-L1/20241219-013355/training-result.json\"\n",
    "GNN_INPUT_PATH_L2 = \"tmp/prod-results/results-20241220/20241220_calculation-time_AT/gnn-L2/20241219-015249/training-result.json\"\n",
    "GNN_INPUT_PATH_L3 = \"tmp/prod-results/results-20241220/20241220_calculation-time_AT/gnn-L3/20241219-021102/training-result.json\"\n",
    "\n",
    "simple_gbdt_result.update_with_simple_from_training(SIMPLE_INPUT_PATH(\"GBDT\"))\n",
    "simple_rf_result.update_with_simple_from_training(SIMPLE_INPUT_PATH(\"RF\"))\n",
    "simple_dt_result.update_with_simple_from_training(SIMPLE_INPUT_PATH(\"DT\"))\n",
    "simple_lr_result.update_with_simple_from_training(SIMPLE_INPUT_PATH(\"LR\"))\n",
    "gnn_l1_result.update_with_gnn_from_training(GNN_INPUT_PATH_L1)\n",
    "gnn_l2_result.update_with_gnn_from_training(GNN_INPUT_PATH_L2)\n",
    "gnn_l3_result.update_with_gnn_from_training(GNN_INPUT_PATH_L3)"
   ],
   "id": "3d3b003834022575",
   "outputs": [],
   "execution_count": 7
  },
  {
   "metadata": {
    "ExecuteTime": {
     "end_time": "2025-03-20T18:18:23.258099Z",
     "start_time": "2025-03-20T18:18:23.249797Z"
    }
   },
   "cell_type": "code",
   "source": [
    "# BW\n",
    "SIMPLE_INPUT_PATH = (\n",
    "    lambda algorithm: f\"tmp/prod-results/results-20241220/20241220_calculation-time_BW/simple/20241219-022414/training-result_{algorithm}.json\"\n",
    ")\n",
    "GNN_INPUT_PATH_L1 = \"tmp/prod-results/results-20241220/20241220_calculation-time_BW/gnn-L1/20241219-023438/training-result.json\"\n",
    "GNN_INPUT_PATH_L2 = \"tmp/prod-results/results-20241220/20241220_calculation-time_BW/gnn-L2/20241219-032839/training-result.json\"\n",
    "GNN_INPUT_PATH_L3 = \"tmp/prod-results/results-20241220/20241220_calculation-time_BW/gnn-L3/20241219-041209/training-result.json\"\n",
    "\n",
    "simple_gbdt_result.update_with_simple_from_training(SIMPLE_INPUT_PATH(\"GBDT\"))\n",
    "simple_rf_result.update_with_simple_from_training(SIMPLE_INPUT_PATH(\"RF\"))\n",
    "simple_dt_result.update_with_simple_from_training(SIMPLE_INPUT_PATH(\"DT\"))\n",
    "simple_lr_result.update_with_simple_from_training(SIMPLE_INPUT_PATH(\"LR\"))\n",
    "gnn_l1_result.update_with_gnn_from_training(GNN_INPUT_PATH_L1)\n",
    "gnn_l2_result.update_with_gnn_from_training(GNN_INPUT_PATH_L2)\n",
    "gnn_l3_result.update_with_gnn_from_training(GNN_INPUT_PATH_L3)"
   ],
   "id": "3d914f7e50c55ced",
   "outputs": [],
   "execution_count": 8
  },
  {
   "metadata": {
    "ExecuteTime": {
     "end_time": "2025-03-20T18:18:23.267901Z",
     "start_time": "2025-03-20T18:18:23.262388Z"
    }
   },
   "cell_type": "code",
   "source": [
    "# CM\n",
    "SIMPLE_INPUT_PATH = (\n",
    "    lambda algorithm: f\"tmp/prod-results/results-20241220/20241220_calculation-time_CM/simple/20241219-045449/training-result_{algorithm}.json\"\n",
    ")\n",
    "GNN_INPUT_PATH_L1 = \"tmp/prod-results/results-20241220/20241220_calculation-time_CM/gnn-L1/20241219-050515/training-result.json\"\n",
    "GNN_INPUT_PATH_L2 = \"tmp/prod-results/results-20241220/20241220_calculation-time_CM/gnn-L2/20241219-053600/training-result.json\"\n",
    "GNN_INPUT_PATH_L3 = \"tmp/prod-results/results-20241220/20241220_calculation-time_CM/gnn-L3/20241219-055349/training-result.json\"\n",
    "\n",
    "simple_gbdt_result.update_with_simple_from_training(SIMPLE_INPUT_PATH(\"GBDT\"))\n",
    "simple_rf_result.update_with_simple_from_training(SIMPLE_INPUT_PATH(\"RF\"))\n",
    "simple_dt_result.update_with_simple_from_training(SIMPLE_INPUT_PATH(\"DT\"))\n",
    "simple_lr_result.update_with_simple_from_training(SIMPLE_INPUT_PATH(\"LR\"))\n",
    "gnn_l1_result.update_with_gnn_from_training(GNN_INPUT_PATH_L1)\n",
    "gnn_l2_result.update_with_gnn_from_training(GNN_INPUT_PATH_L2)\n",
    "gnn_l3_result.update_with_gnn_from_training(GNN_INPUT_PATH_L3)"
   ],
   "id": "d6b0531a1d860a08",
   "outputs": [],
   "execution_count": 9
  },
  {
   "metadata": {},
   "cell_type": "markdown",
   "source": "## Table",
   "id": "c7b246f7f18b02ad"
  },
  {
   "metadata": {
    "ExecuteTime": {
     "end_time": "2025-03-20T18:18:23.287578Z",
     "start_time": "2025-03-20T18:18:23.275819Z"
    }
   },
   "cell_type": "code",
   "source": [
    "# FOR TABLE\n",
    "import pandas as pd\n",
    "\n",
    "pd.DataFrame(\n",
    "    {\n",
    "        \"Epochs\": [\n",
    "            simple_gbdt_result.epochs,\n",
    "            simple_rf_result.epochs,\n",
    "            simple_dt_result.epochs,\n",
    "            simple_lr_result.epochs,\n",
    "            gnn_l1_result.epochs,\n",
    "            gnn_l2_result.epochs,\n",
    "            gnn_l3_result.epochs,\n",
    "        ],\n",
    "        \"MAE\": [\n",
    "            simple_gbdt_result.mae,\n",
    "            simple_rf_result.mae,\n",
    "            simple_dt_result.mae,\n",
    "            simple_lr_result.mae,\n",
    "            gnn_l1_result.mae,\n",
    "            gnn_l2_result.mae,\n",
    "            gnn_l3_result.mae,\n",
    "        ],\n",
    "        \"RMSE\": [\n",
    "            simple_gbdt_result.rmse,\n",
    "            simple_rf_result.rmse,\n",
    "            simple_dt_result.rmse,\n",
    "            simple_lr_result.rmse,\n",
    "            gnn_l1_result.rmse,\n",
    "            gnn_l2_result.rmse,\n",
    "            gnn_l3_result.rmse,\n",
    "        ],\n",
    "        \"MAPE\": [\n",
    "            simple_gbdt_result.mape,\n",
    "            simple_rf_result.mape,\n",
    "            simple_dt_result.mape,\n",
    "            simple_lr_result.mape,\n",
    "            gnn_l1_result.mape,\n",
    "            gnn_l2_result.mape,\n",
    "            gnn_l3_result.mape,\n",
    "        ],\n",
    "        \"T_train\": [\n",
    "            simple_gbdt_result.t_train,\n",
    "            simple_rf_result.t_train,\n",
    "            simple_dt_result.t_train,\n",
    "            simple_lr_result.t_train,\n",
    "            gnn_l1_result.t_train,\n",
    "            gnn_l2_result.t_train,\n",
    "            gnn_l3_result.t_train,\n",
    "        ],\n",
    "        \"T_pred\": [\n",
    "            simple_gbdt_result.t_pred,\n",
    "            simple_rf_result.t_pred,\n",
    "            simple_dt_result.t_pred,\n",
    "            simple_lr_result.t_pred,\n",
    "            gnn_l1_result.t_pred,\n",
    "            gnn_l2_result.t_pred,\n",
    "            gnn_l3_result.t_pred,\n",
    "        ],\n",
    "    }\n",
    ")"
   ],
   "id": "96324c4a5eba5d1a",
   "outputs": [
    {
     "data": {
      "text/plain": [
       "   Epochs        MAE       RMSE       MAPE      T_train   T_pred\n",
       "0     NaN  24.101188  39.131432   7.208801     0.153464  0.91675\n",
       "1     NaN  23.223545  35.724039   5.486779     0.333464  8.94600\n",
       "2     NaN  28.449697  40.887846   7.412519     0.004410  0.20400\n",
       "3     NaN  12.631059  33.611469   0.749304     2.408437  4.66800\n",
       "4  232.00  36.310357  48.173195  10.311259  1504.702837  1.68575\n",
       "5   97.25  39.955001  52.096970  14.033332   902.684457  2.53475\n",
       "6   65.50  78.779941  94.472868  22.585301   893.153899  3.51775"
      ],
      "text/html": [
       "<div>\n",
       "<style scoped>\n",
       "    .dataframe tbody tr th:only-of-type {\n",
       "        vertical-align: middle;\n",
       "    }\n",
       "\n",
       "    .dataframe tbody tr th {\n",
       "        vertical-align: top;\n",
       "    }\n",
       "\n",
       "    .dataframe thead th {\n",
       "        text-align: right;\n",
       "    }\n",
       "</style>\n",
       "<table border=\"1\" class=\"dataframe\">\n",
       "  <thead>\n",
       "    <tr style=\"text-align: right;\">\n",
       "      <th></th>\n",
       "      <th>Epochs</th>\n",
       "      <th>MAE</th>\n",
       "      <th>RMSE</th>\n",
       "      <th>MAPE</th>\n",
       "      <th>T_train</th>\n",
       "      <th>T_pred</th>\n",
       "    </tr>\n",
       "  </thead>\n",
       "  <tbody>\n",
       "    <tr>\n",
       "      <th>0</th>\n",
       "      <td>NaN</td>\n",
       "      <td>24.101188</td>\n",
       "      <td>39.131432</td>\n",
       "      <td>7.208801</td>\n",
       "      <td>0.153464</td>\n",
       "      <td>0.91675</td>\n",
       "    </tr>\n",
       "    <tr>\n",
       "      <th>1</th>\n",
       "      <td>NaN</td>\n",
       "      <td>23.223545</td>\n",
       "      <td>35.724039</td>\n",
       "      <td>5.486779</td>\n",
       "      <td>0.333464</td>\n",
       "      <td>8.94600</td>\n",
       "    </tr>\n",
       "    <tr>\n",
       "      <th>2</th>\n",
       "      <td>NaN</td>\n",
       "      <td>28.449697</td>\n",
       "      <td>40.887846</td>\n",
       "      <td>7.412519</td>\n",
       "      <td>0.004410</td>\n",
       "      <td>0.20400</td>\n",
       "    </tr>\n",
       "    <tr>\n",
       "      <th>3</th>\n",
       "      <td>NaN</td>\n",
       "      <td>12.631059</td>\n",
       "      <td>33.611469</td>\n",
       "      <td>0.749304</td>\n",
       "      <td>2.408437</td>\n",
       "      <td>4.66800</td>\n",
       "    </tr>\n",
       "    <tr>\n",
       "      <th>4</th>\n",
       "      <td>232.00</td>\n",
       "      <td>36.310357</td>\n",
       "      <td>48.173195</td>\n",
       "      <td>10.311259</td>\n",
       "      <td>1504.702837</td>\n",
       "      <td>1.68575</td>\n",
       "    </tr>\n",
       "    <tr>\n",
       "      <th>5</th>\n",
       "      <td>97.25</td>\n",
       "      <td>39.955001</td>\n",
       "      <td>52.096970</td>\n",
       "      <td>14.033332</td>\n",
       "      <td>902.684457</td>\n",
       "      <td>2.53475</td>\n",
       "    </tr>\n",
       "    <tr>\n",
       "      <th>6</th>\n",
       "      <td>65.50</td>\n",
       "      <td>78.779941</td>\n",
       "      <td>94.472868</td>\n",
       "      <td>22.585301</td>\n",
       "      <td>893.153899</td>\n",
       "      <td>3.51775</td>\n",
       "    </tr>\n",
       "  </tbody>\n",
       "</table>\n",
       "</div>"
      ]
     },
     "execution_count": 10,
     "metadata": {},
     "output_type": "execute_result"
    }
   ],
   "execution_count": 10
  }
 ],
 "metadata": {
  "kernelspec": {
   "name": "python3",
   "language": "python",
   "display_name": "Python 3 (ipykernel)"
  }
 },
 "nbformat": 5,
 "nbformat_minor": 9
}
