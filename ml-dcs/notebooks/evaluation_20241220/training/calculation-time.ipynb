{
 "cells": [
  {
   "cell_type": "code",
   "id": "initial_id",
   "metadata": {
    "collapsed": true,
    "ExecuteTime": {
     "end_time": "2024-12-22T16:31:19.636987Z",
     "start_time": "2024-12-22T16:31:19.634377Z"
    }
   },
   "source": [
    "from ml_dcs.config import config # NOQA\n",
    "\n",
    "SIMPLE_INPUT_PATH = lambda algorithm: f\"tmp/prod-results/results-20241220/20241220_calculation-time/simple/20241218-223051/training-result_{algorithm}.json\"\n",
    "GNN_INPUT_PATH_L1 = \"tmp/prod-results/results-20241220/20241220_calculation-time/gnn-L1/20241218-224116/training-result.json\"\n",
    "GNN_INPUT_PATH_L2 = \"tmp/prod-results/results-20241220/20241220_calculation-time/gnn-L2/20241218-230732/training-result.json\"\n",
    "GNN_INPUT_PATH_L3 = \"tmp/prod-results/results-20241220/20241220_calculation-time/gnn-L3/20241218-232205/training-result.json\"\n",
    "\n",
    "results_t_train = []\n",
    "results_epochs = []"
   ],
   "outputs": [],
   "execution_count": 25
  },
  {
   "metadata": {
    "ExecuteTime": {
     "end_time": "2024-12-22T16:31:19.640378Z",
     "start_time": "2024-12-22T16:31:19.637735Z"
    }
   },
   "cell_type": "code",
   "source": [
    "import json\n",
    "from ml_dcs.domain.ml_simple import MLSimpleTrainingResultSet\n",
    "\n",
    "with open(SIMPLE_INPUT_PATH(\"RF\"), \"r\") as f:\n",
    "    data_dict = json.load(f)\n",
    "data_model = MLSimpleTrainingResultSet(**data_dict)\n",
    "\n",
    "results_t_train.append(data_model.duration_avg.total_seconds())\n",
    "results_epochs.append(-1)"
   ],
   "id": "119f4dacd160d1e8",
   "outputs": [],
   "execution_count": 26
  },
  {
   "metadata": {
    "ExecuteTime": {
     "end_time": "2024-12-22T16:31:19.643750Z",
     "start_time": "2024-12-22T16:31:19.641031Z"
    }
   },
   "cell_type": "code",
   "source": [
    "import json\n",
    "from ml_dcs.domain.ml_simple import MLSimpleTrainingResultSet\n",
    "\n",
    "with open(SIMPLE_INPUT_PATH(\"GBDT\"), \"r\") as f:\n",
    "    data_dict = json.load(f)\n",
    "data_model = MLSimpleTrainingResultSet(**data_dict)\n",
    "\n",
    "results_t_train.append(data_model.duration_avg.total_seconds())\n",
    "results_epochs.append(-1)"
   ],
   "id": "383b77d05dc5ec25",
   "outputs": [],
   "execution_count": 27
  },
  {
   "metadata": {
    "ExecuteTime": {
     "end_time": "2024-12-22T16:31:19.647652Z",
     "start_time": "2024-12-22T16:31:19.644473Z"
    }
   },
   "cell_type": "code",
   "source": [
    "import json\n",
    "from ml_dcs.domain.ml_simple import MLSimpleTrainingResultSet\n",
    "\n",
    "with open(SIMPLE_INPUT_PATH(\"DT\"), \"r\") as f:\n",
    "    data_dict = json.load(f)\n",
    "data_model = MLSimpleTrainingResultSet(**data_dict)\n",
    "\n",
    "results_t_train.append(data_model.duration_avg.total_seconds())\n",
    "results_epochs.append(-1)"
   ],
   "id": "2648701cc580ce50",
   "outputs": [],
   "execution_count": 28
  },
  {
   "metadata": {
    "ExecuteTime": {
     "end_time": "2024-12-22T16:31:19.650593Z",
     "start_time": "2024-12-22T16:31:19.648153Z"
    }
   },
   "cell_type": "code",
   "source": [
    "import json\n",
    "from ml_dcs.domain.ml_simple import MLSimpleTrainingResultSet\n",
    "\n",
    "with open(SIMPLE_INPUT_PATH(\"LR\"), \"r\") as f:\n",
    "    data_dict = json.load(f)\n",
    "data_model = MLSimpleTrainingResultSet(**data_dict)\n",
    "\n",
    "results_t_train.append(data_model.duration_avg.total_seconds())\n",
    "results_epochs.append(-1)"
   ],
   "id": "d1aa66dc5b28303f",
   "outputs": [],
   "execution_count": 29
  },
  {
   "metadata": {
    "ExecuteTime": {
     "end_time": "2024-12-22T16:31:19.654391Z",
     "start_time": "2024-12-22T16:31:19.651169Z"
    }
   },
   "cell_type": "code",
   "source": [
    "import json\n",
    "from ml_dcs.domain.ml_gnn import GNNTrainingResult\n",
    "\n",
    "with open(GNN_INPUT_PATH_L1, \"r\") as f:\n",
    "    data_dict = json.load(f)\n",
    "data_model = GNNTrainingResult(**data_dict)\n",
    "\n",
    "results_t_train.append(data_model.duration.total_seconds())\n",
    "results_epochs.append(data_model.epochs)"
   ],
   "id": "33e428d8a14222af",
   "outputs": [],
   "execution_count": 30
  },
  {
   "metadata": {
    "ExecuteTime": {
     "end_time": "2024-12-22T16:31:19.657871Z",
     "start_time": "2024-12-22T16:31:19.655211Z"
    }
   },
   "cell_type": "code",
   "source": [
    "import json\n",
    "from ml_dcs.domain.ml_gnn import GNNTrainingResult\n",
    "\n",
    "with open(GNN_INPUT_PATH_L2, \"r\") as f:\n",
    "    data_dict = json.load(f)\n",
    "data_model = GNNTrainingResult(**data_dict)\n",
    "\n",
    "results_t_train.append(data_model.duration.total_seconds())\n",
    "results_epochs.append(data_model.epochs)"
   ],
   "id": "b0a6c4d20c613742",
   "outputs": [],
   "execution_count": 31
  },
  {
   "metadata": {
    "ExecuteTime": {
     "end_time": "2024-12-22T16:31:19.661844Z",
     "start_time": "2024-12-22T16:31:19.658370Z"
    }
   },
   "cell_type": "code",
   "source": [
    "import json\n",
    "from ml_dcs.domain.ml_gnn import GNNTrainingResult\n",
    "\n",
    "with open(GNN_INPUT_PATH_L3, \"r\") as f:\n",
    "    data_dict = json.load(f)\n",
    "data_model = GNNTrainingResult(**data_dict)\n",
    "\n",
    "results_t_train.append(data_model.duration.total_seconds())\n",
    "results_epochs.append(data_model.epochs)"
   ],
   "id": "aa7aa011763f1756",
   "outputs": [],
   "execution_count": 32
  },
  {
   "metadata": {
    "ExecuteTime": {
     "end_time": "2024-12-22T16:31:19.667149Z",
     "start_time": "2024-12-22T16:31:19.662475Z"
    }
   },
   "cell_type": "code",
   "source": [
    "# FOR TABLE\n",
    "import pandas as pd\n",
    "\n",
    "pd.DataFrame({\n",
    "    \"T_train\": results_t_train,\n",
    "    \"epochs\": results_epochs\n",
    "})"
   ],
   "id": "19f96f7ac56b23d8",
   "outputs": [
    {
     "data": {
      "text/plain": [
       "      T_train  epochs\n",
       "0    0.409272      -1\n",
       "1    0.182498      -1\n",
       "2    0.005576      -1\n",
       "3    4.307324      -1\n",
       "4  933.338234     132\n",
       "5  229.110310      22\n",
       "6  752.916832      54"
      ],
      "text/html": [
       "<div>\n",
       "<style scoped>\n",
       "    .dataframe tbody tr th:only-of-type {\n",
       "        vertical-align: middle;\n",
       "    }\n",
       "\n",
       "    .dataframe tbody tr th {\n",
       "        vertical-align: top;\n",
       "    }\n",
       "\n",
       "    .dataframe thead th {\n",
       "        text-align: right;\n",
       "    }\n",
       "</style>\n",
       "<table border=\"1\" class=\"dataframe\">\n",
       "  <thead>\n",
       "    <tr style=\"text-align: right;\">\n",
       "      <th></th>\n",
       "      <th>T_train</th>\n",
       "      <th>epochs</th>\n",
       "    </tr>\n",
       "  </thead>\n",
       "  <tbody>\n",
       "    <tr>\n",
       "      <th>0</th>\n",
       "      <td>0.409272</td>\n",
       "      <td>-1</td>\n",
       "    </tr>\n",
       "    <tr>\n",
       "      <th>1</th>\n",
       "      <td>0.182498</td>\n",
       "      <td>-1</td>\n",
       "    </tr>\n",
       "    <tr>\n",
       "      <th>2</th>\n",
       "      <td>0.005576</td>\n",
       "      <td>-1</td>\n",
       "    </tr>\n",
       "    <tr>\n",
       "      <th>3</th>\n",
       "      <td>4.307324</td>\n",
       "      <td>-1</td>\n",
       "    </tr>\n",
       "    <tr>\n",
       "      <th>4</th>\n",
       "      <td>933.338234</td>\n",
       "      <td>132</td>\n",
       "    </tr>\n",
       "    <tr>\n",
       "      <th>5</th>\n",
       "      <td>229.110310</td>\n",
       "      <td>22</td>\n",
       "    </tr>\n",
       "    <tr>\n",
       "      <th>6</th>\n",
       "      <td>752.916832</td>\n",
       "      <td>54</td>\n",
       "    </tr>\n",
       "  </tbody>\n",
       "</table>\n",
       "</div>"
      ]
     },
     "execution_count": 33,
     "metadata": {},
     "output_type": "execute_result"
    }
   ],
   "execution_count": 33
  }
 ],
 "metadata": {
  "kernelspec": {
   "display_name": "Python 3",
   "language": "python",
   "name": "python3"
  },
  "language_info": {
   "codemirror_mode": {
    "name": "ipython",
    "version": 2
   },
   "file_extension": ".py",
   "mimetype": "text/x-python",
   "name": "python",
   "nbconvert_exporter": "python",
   "pygments_lexer": "ipython2",
   "version": "2.7.6"
  }
 },
 "nbformat": 4,
 "nbformat_minor": 5
}
