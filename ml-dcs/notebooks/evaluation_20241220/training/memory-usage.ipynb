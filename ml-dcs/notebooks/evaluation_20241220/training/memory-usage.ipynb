{
 "cells": [
  {
   "cell_type": "code",
   "id": "initial_id",
   "metadata": {
    "collapsed": true,
    "ExecuteTime": {
     "end_time": "2024-12-22T16:29:44.107191Z",
     "start_time": "2024-12-22T16:29:44.105140Z"
    }
   },
   "source": [
    "from ml_dcs.config import config  # NOQA\n",
    "\n",
    "SIMPLE_INPUT_PATH = (\n",
    "    lambda algorithm: f\"tmp/prod-results/results-20241220/20241220_memory-usage/simple/20241219-061555/training-result_{algorithm}.json\"\n",
    ")\n",
    "GNN_INPUT_PATH_L1 = \"tmp/prod-results/results-20241220/20241220_memory-usage/gnn-L1/20241219-062623/training-result.json\"\n",
    "GNN_INPUT_PATH_L2 = \"tmp/prod-results/results-20241220/20241220_memory-usage/gnn-L2/20241219-064457/training-result.json\"\n",
    "GNN_INPUT_PATH_L3 = \"tmp/prod-results/results-20241220/20241220_memory-usage/gnn-L3/20241219-072210/training-result.json\"\n",
    "\n",
    "results_t_train = []\n",
    "results_epochs = []"
   ],
   "outputs": [],
   "execution_count": 10
  },
  {
   "metadata": {
    "ExecuteTime": {
     "end_time": "2024-12-22T16:29:44.111320Z",
     "start_time": "2024-12-22T16:29:44.107796Z"
    }
   },
   "cell_type": "code",
   "source": [
    "import json\n",
    "from ml_dcs.domain.ml_simple import MLSimpleTrainingResultSet\n",
    "\n",
    "with open(SIMPLE_INPUT_PATH(\"RF\"), \"r\") as f:\n",
    "    data_dict = json.load(f)\n",
    "data_model = MLSimpleTrainingResultSet(**data_dict)\n",
    "\n",
    "results_t_train.append(data_model.duration_avg.total_seconds())\n",
    "results_epochs.append(-1)"
   ],
   "id": "119f4dacd160d1e8",
   "outputs": [],
   "execution_count": 11
  },
  {
   "metadata": {
    "ExecuteTime": {
     "end_time": "2024-12-22T16:29:44.114680Z",
     "start_time": "2024-12-22T16:29:44.111988Z"
    }
   },
   "cell_type": "code",
   "source": [
    "import json\n",
    "from ml_dcs.domain.ml_simple import MLSimpleTrainingResultSet\n",
    "\n",
    "with open(SIMPLE_INPUT_PATH(\"GBDT\"), \"r\") as f:\n",
    "    data_dict = json.load(f)\n",
    "data_model = MLSimpleTrainingResultSet(**data_dict)\n",
    "\n",
    "results_t_train.append(data_model.duration_avg.total_seconds())\n",
    "results_epochs.append(-1)"
   ],
   "id": "383b77d05dc5ec25",
   "outputs": [],
   "execution_count": 12
  },
  {
   "metadata": {
    "ExecuteTime": {
     "end_time": "2024-12-22T16:29:44.118215Z",
     "start_time": "2024-12-22T16:29:44.115197Z"
    }
   },
   "cell_type": "code",
   "source": [
    "import json\n",
    "from ml_dcs.domain.ml_simple import MLSimpleTrainingResultSet\n",
    "\n",
    "with open(SIMPLE_INPUT_PATH(\"DT\"), \"r\") as f:\n",
    "    data_dict = json.load(f)\n",
    "data_model = MLSimpleTrainingResultSet(**data_dict)\n",
    "\n",
    "results_t_train.append(data_model.duration_avg.total_seconds())\n",
    "results_epochs.append(-1)"
   ],
   "id": "2648701cc580ce50",
   "outputs": [],
   "execution_count": 13
  },
  {
   "metadata": {
    "ExecuteTime": {
     "end_time": "2024-12-22T16:29:44.121991Z",
     "start_time": "2024-12-22T16:29:44.119271Z"
    }
   },
   "cell_type": "code",
   "source": [
    "import json\n",
    "from ml_dcs.domain.ml_simple import MLSimpleTrainingResultSet\n",
    "\n",
    "with open(SIMPLE_INPUT_PATH(\"LR\"), \"r\") as f:\n",
    "    data_dict = json.load(f)\n",
    "data_model = MLSimpleTrainingResultSet(**data_dict)\n",
    "\n",
    "results_t_train.append(data_model.duration_avg.total_seconds())\n",
    "results_epochs.append(-1)"
   ],
   "id": "d1aa66dc5b28303f",
   "outputs": [],
   "execution_count": 14
  },
  {
   "metadata": {
    "ExecuteTime": {
     "end_time": "2024-12-22T16:29:44.125327Z",
     "start_time": "2024-12-22T16:29:44.122621Z"
    }
   },
   "cell_type": "code",
   "source": [
    "import json\n",
    "from ml_dcs.domain.ml_gnn import GNNTrainingResult\n",
    "\n",
    "with open(GNN_INPUT_PATH_L1, \"r\") as f:\n",
    "    data_dict = json.load(f)\n",
    "data_model = GNNTrainingResult(**data_dict)\n",
    "\n",
    "results_t_train.append(data_model.duration.total_seconds())\n",
    "results_epochs.append(data_model.epochs)"
   ],
   "id": "33e428d8a14222af",
   "outputs": [],
   "execution_count": 15
  },
  {
   "metadata": {
    "ExecuteTime": {
     "end_time": "2024-12-22T16:29:44.129343Z",
     "start_time": "2024-12-22T16:29:44.125997Z"
    }
   },
   "cell_type": "code",
   "source": [
    "import json\n",
    "from ml_dcs.domain.ml_gnn import GNNTrainingResult\n",
    "\n",
    "with open(GNN_INPUT_PATH_L2, \"r\") as f:\n",
    "    data_dict = json.load(f)\n",
    "data_model = GNNTrainingResult(**data_dict)\n",
    "\n",
    "results_t_train.append(data_model.duration.total_seconds())\n",
    "results_epochs.append(data_model.epochs)"
   ],
   "id": "b0a6c4d20c613742",
   "outputs": [],
   "execution_count": 16
  },
  {
   "metadata": {
    "ExecuteTime": {
     "end_time": "2024-12-22T16:29:44.179223Z",
     "start_time": "2024-12-22T16:29:44.176734Z"
    }
   },
   "cell_type": "code",
   "source": [
    "import json\n",
    "from ml_dcs.domain.ml_gnn import GNNTrainingResult\n",
    "\n",
    "with open(GNN_INPUT_PATH_L3, \"r\") as f:\n",
    "    data_dict = json.load(f)\n",
    "data_model = GNNTrainingResult(**data_dict)\n",
    "\n",
    "results_t_train.append(data_model.duration.total_seconds())\n",
    "results_epochs.append(data_model.epochs)"
   ],
   "id": "aa7aa011763f1756",
   "outputs": [],
   "execution_count": 17
  },
  {
   "metadata": {
    "ExecuteTime": {
     "end_time": "2024-12-22T16:29:44.217068Z",
     "start_time": "2024-12-22T16:29:44.213331Z"
    }
   },
   "cell_type": "code",
   "source": [
    "# FOR TABLE\n",
    "import pandas as pd\n",
    "\n",
    "pd.DataFrame({\"T_train\": results_t_train, \"epochs\": results_epochs})"
   ],
   "id": "19f96f7ac56b23d8",
   "outputs": [
    {
     "data": {
      "text/plain": [
       "       T_train  epochs\n",
       "0     0.398622      -1\n",
       "1     0.175409      -1\n",
       "2     0.005319      -1\n",
       "3     7.746016      -1\n",
       "4   472.739792      66\n",
       "5  1588.990195     157\n",
       "6  1577.588655     117"
      ],
      "text/html": [
       "<div>\n",
       "<style scoped>\n",
       "    .dataframe tbody tr th:only-of-type {\n",
       "        vertical-align: middle;\n",
       "    }\n",
       "\n",
       "    .dataframe tbody tr th {\n",
       "        vertical-align: top;\n",
       "    }\n",
       "\n",
       "    .dataframe thead th {\n",
       "        text-align: right;\n",
       "    }\n",
       "</style>\n",
       "<table border=\"1\" class=\"dataframe\">\n",
       "  <thead>\n",
       "    <tr style=\"text-align: right;\">\n",
       "      <th></th>\n",
       "      <th>T_train</th>\n",
       "      <th>epochs</th>\n",
       "    </tr>\n",
       "  </thead>\n",
       "  <tbody>\n",
       "    <tr>\n",
       "      <th>0</th>\n",
       "      <td>0.398622</td>\n",
       "      <td>-1</td>\n",
       "    </tr>\n",
       "    <tr>\n",
       "      <th>1</th>\n",
       "      <td>0.175409</td>\n",
       "      <td>-1</td>\n",
       "    </tr>\n",
       "    <tr>\n",
       "      <th>2</th>\n",
       "      <td>0.005319</td>\n",
       "      <td>-1</td>\n",
       "    </tr>\n",
       "    <tr>\n",
       "      <th>3</th>\n",
       "      <td>7.746016</td>\n",
       "      <td>-1</td>\n",
       "    </tr>\n",
       "    <tr>\n",
       "      <th>4</th>\n",
       "      <td>472.739792</td>\n",
       "      <td>66</td>\n",
       "    </tr>\n",
       "    <tr>\n",
       "      <th>5</th>\n",
       "      <td>1588.990195</td>\n",
       "      <td>157</td>\n",
       "    </tr>\n",
       "    <tr>\n",
       "      <th>6</th>\n",
       "      <td>1577.588655</td>\n",
       "      <td>117</td>\n",
       "    </tr>\n",
       "  </tbody>\n",
       "</table>\n",
       "</div>"
      ]
     },
     "execution_count": 18,
     "metadata": {},
     "output_type": "execute_result"
    }
   ],
   "execution_count": 18
  }
 ],
 "metadata": {
  "kernelspec": {
   "display_name": "Python 3",
   "language": "python",
   "name": "python3"
  },
  "language_info": {
   "codemirror_mode": {
    "name": "ipython",
    "version": 2
   },
   "file_extension": ".py",
   "mimetype": "text/x-python",
   "name": "python",
   "nbconvert_exporter": "python",
   "pygments_lexer": "ipython2",
   "version": "2.7.6"
  }
 },
 "nbformat": 4,
 "nbformat_minor": 5
}
