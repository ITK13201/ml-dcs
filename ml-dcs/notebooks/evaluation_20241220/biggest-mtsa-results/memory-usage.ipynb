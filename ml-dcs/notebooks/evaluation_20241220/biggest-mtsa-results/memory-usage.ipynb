{
 "cells": [
  {
   "metadata": {
    "ExecuteTime": {
     "end_time": "2024-12-29T13:32:52.485406Z",
     "start_time": "2024-12-29T13:32:49.682591Z"
    }
   },
   "cell_type": "code",
   "source": [
    "from ml_dcs.config import config # NOQA\n",
    "import json\n",
    "import pandas as pd\n",
    "\n",
    "from ml_dcs.domain.mtsa import MTSAResult\n",
    "\n",
    "RESULT_FILE_PATH_HC = \"tmp/mtsa-results/memory-usage/20241227_065634_ArtGallery（N, 4 room）_000192_TraditionalController_compose.json\"\n",
    "RESULT_FILE_PATH_AT = \"tmp/mtsa-results/memory-usage/20241227_052401_AT（5, 10）_000070_TraditionalController_compose.json\"\n",
    "RESULT_FILE_PATH_BW = \"tmp/mtsa-results/memory-usage/20241227_053735_BW（5, 5）_000001_TraditionalController_compose.json\"\n",
    "RESULT_FILE_PATH_CM = \"tmp/mtsa-results/memory-usage/20241227_061529_CM（3, 3）_000110_TraditionalController_compose.json\"\n",
    "\n",
    "results_1st = []\n",
    "results_2nd = []\n",
    "results_3rd = []\n",
    "results_all = []\n",
    "\n",
    "states_m = []\n",
    "states_g = []\n",
    "states_c = []\n",
    "\n",
    "transitions_m = []\n",
    "transitions_g = []\n",
    "transitions_c = []"
   ],
   "id": "f9b03248392459db",
   "outputs": [
    {
     "name": "stdout",
     "output_type": "stream",
     "text": [
      "PyTorch Device: cpu\n"
     ]
    }
   ],
   "execution_count": 1
  },
  {
   "metadata": {
    "ExecuteTime": {
     "end_time": "2024-12-29T13:32:52.504412Z",
     "start_time": "2024-12-29T13:32:52.490922Z"
    }
   },
   "cell_type": "code",
   "source": [
    "with open(RESULT_FILE_PATH_HC, \"r\") as f:\n",
    "    data = json.load(f)\n",
    "result = MTSAResult(**data)\n",
    "results_1st.append(result.compile_step.max_memory_usage_kb)\n",
    "results_2nd.append(result.compose_step.creatingGameSpace.max_memory_usage_kb)\n",
    "results_3rd.append(result.compose_step.solvingProblem.max_memory_usage_kb)\n",
    "results_all.append(result.significant_max_memory_usage_kb)\n",
    "\n",
    "states_m.append(result.compile_step.environments[0].number_of_states)\n",
    "states_g.append(result.compose_step.creatingGameSpace.number_of_states)\n",
    "states_c.append(result.compose_step.solvingProblem.number_of_states)\n",
    "\n",
    "transitions_m.append(result.compile_step.environments[0].number_of_transitions)\n",
    "transitions_g.append(result.compose_step.creatingGameSpace.number_of_transitions)\n",
    "transitions_c.append(result.compose_step.solvingProblem.number_of_transitions)"
   ],
   "id": "8f0c751af1eefd9d",
   "outputs": [],
   "execution_count": 2
  },
  {
   "metadata": {
    "ExecuteTime": {
     "end_time": "2024-12-29T13:32:52.600554Z",
     "start_time": "2024-12-29T13:32:52.592627Z"
    }
   },
   "cell_type": "code",
   "source": [
    "with open(RESULT_FILE_PATH_AT, \"r\") as f:\n",
    "    data = json.load(f)\n",
    "result = MTSAResult(**data)\n",
    "results_1st.append(result.compile_step.max_memory_usage_kb)\n",
    "results_2nd.append(result.compose_step.creatingGameSpace.max_memory_usage_kb)\n",
    "results_3rd.append(result.compose_step.solvingProblem.max_memory_usage_kb)\n",
    "results_all.append(result.significant_max_memory_usage_kb)\n",
    "\n",
    "states_m.append(result.compile_step.environments[0].number_of_states)\n",
    "states_g.append(result.compose_step.creatingGameSpace.number_of_states)\n",
    "states_c.append(result.compose_step.solvingProblem.number_of_states)\n",
    "\n",
    "transitions_m.append(result.compile_step.environments[0].number_of_transitions)\n",
    "transitions_g.append(result.compose_step.creatingGameSpace.number_of_transitions)\n",
    "transitions_c.append(result.compose_step.solvingProblem.number_of_transitions)"
   ],
   "id": "fd6943b140400155",
   "outputs": [],
   "execution_count": 3
  },
  {
   "metadata": {
    "ExecuteTime": {
     "end_time": "2024-12-29T13:32:52.618264Z",
     "start_time": "2024-12-29T13:32:52.610484Z"
    }
   },
   "cell_type": "code",
   "source": [
    "with open(RESULT_FILE_PATH_BW, \"r\") as f:\n",
    "    data = json.load(f)\n",
    "result = MTSAResult(**data)\n",
    "results_1st.append(result.compile_step.max_memory_usage_kb)\n",
    "results_2nd.append(result.compose_step.creatingGameSpace.max_memory_usage_kb)\n",
    "results_3rd.append(result.compose_step.solvingProblem.max_memory_usage_kb)\n",
    "results_all.append(result.significant_max_memory_usage_kb)\n",
    "\n",
    "states_m.append(result.compile_step.environments[0].number_of_states)\n",
    "states_g.append(result.compose_step.creatingGameSpace.number_of_states)\n",
    "states_c.append(result.compose_step.solvingProblem.number_of_states)\n",
    "\n",
    "transitions_m.append(result.compile_step.environments[0].number_of_transitions)\n",
    "transitions_g.append(result.compose_step.creatingGameSpace.number_of_transitions)\n",
    "transitions_c.append(result.compose_step.solvingProblem.number_of_transitions)"
   ],
   "id": "66e9d9db2c4d87db",
   "outputs": [],
   "execution_count": 4
  },
  {
   "metadata": {
    "ExecuteTime": {
     "end_time": "2024-12-29T13:32:52.638458Z",
     "start_time": "2024-12-29T13:32:52.629687Z"
    }
   },
   "cell_type": "code",
   "source": [
    "with open(RESULT_FILE_PATH_CM, \"r\") as f:\n",
    "    data = json.load(f)\n",
    "result = MTSAResult(**data)\n",
    "results_1st.append(result.compile_step.max_memory_usage_kb)\n",
    "results_2nd.append(result.compose_step.creatingGameSpace.max_memory_usage_kb)\n",
    "results_3rd.append(result.compose_step.solvingProblem.max_memory_usage_kb)\n",
    "results_all.append(result.significant_max_memory_usage_kb)\n",
    "\n",
    "states_m.append(result.compile_step.environments[0].number_of_states)\n",
    "states_g.append(result.compose_step.creatingGameSpace.number_of_states)\n",
    "states_c.append(result.compose_step.solvingProblem.number_of_states)\n",
    "\n",
    "transitions_m.append(result.compile_step.environments[0].number_of_transitions)\n",
    "transitions_g.append(result.compose_step.creatingGameSpace.number_of_transitions)\n",
    "transitions_c.append(result.compose_step.solvingProblem.number_of_transitions)"
   ],
   "id": "20d93e4757f0cfd1",
   "outputs": [],
   "execution_count": 5
  },
  {
   "metadata": {
    "ExecuteTime": {
     "end_time": "2024-12-29T13:32:52.691268Z",
     "start_time": "2024-12-29T13:32:52.660881Z"
    }
   },
   "cell_type": "code",
   "source": [
    "pd.DataFrame({\n",
    "    \"1st\": [v/1000 for v in results_1st],\n",
    "    \"2nd\": [v/1000 for v in results_2nd],\n",
    "    \"3rd\": [v/1000 for v in results_3rd],\n",
    "    \"all\": [v/1000 for v in results_all]\n",
    "})"
   ],
   "id": "74ef3dd5f5d6964a",
   "outputs": [
    {
     "data": {
      "text/plain": [
       "         1st       2nd       3rd        all\n",
       "0   2748.500  7046.231  8278.461   8278.461\n",
       "1   5784.364  6681.724  8423.822   8423.822\n",
       "2   1902.653  2844.704  3713.151   3713.151\n",
       "3  10105.315  9337.174  9975.170  10105.315"
      ],
      "text/html": [
       "<div>\n",
       "<style scoped>\n",
       "    .dataframe tbody tr th:only-of-type {\n",
       "        vertical-align: middle;\n",
       "    }\n",
       "\n",
       "    .dataframe tbody tr th {\n",
       "        vertical-align: top;\n",
       "    }\n",
       "\n",
       "    .dataframe thead th {\n",
       "        text-align: right;\n",
       "    }\n",
       "</style>\n",
       "<table border=\"1\" class=\"dataframe\">\n",
       "  <thead>\n",
       "    <tr style=\"text-align: right;\">\n",
       "      <th></th>\n",
       "      <th>1st</th>\n",
       "      <th>2nd</th>\n",
       "      <th>3rd</th>\n",
       "      <th>all</th>\n",
       "    </tr>\n",
       "  </thead>\n",
       "  <tbody>\n",
       "    <tr>\n",
       "      <th>0</th>\n",
       "      <td>2748.500</td>\n",
       "      <td>7046.231</td>\n",
       "      <td>8278.461</td>\n",
       "      <td>8278.461</td>\n",
       "    </tr>\n",
       "    <tr>\n",
       "      <th>1</th>\n",
       "      <td>5784.364</td>\n",
       "      <td>6681.724</td>\n",
       "      <td>8423.822</td>\n",
       "      <td>8423.822</td>\n",
       "    </tr>\n",
       "    <tr>\n",
       "      <th>2</th>\n",
       "      <td>1902.653</td>\n",
       "      <td>2844.704</td>\n",
       "      <td>3713.151</td>\n",
       "      <td>3713.151</td>\n",
       "    </tr>\n",
       "    <tr>\n",
       "      <th>3</th>\n",
       "      <td>10105.315</td>\n",
       "      <td>9337.174</td>\n",
       "      <td>9975.170</td>\n",
       "      <td>10105.315</td>\n",
       "    </tr>\n",
       "  </tbody>\n",
       "</table>\n",
       "</div>"
      ]
     },
     "execution_count": 6,
     "metadata": {},
     "output_type": "execute_result"
    }
   ],
   "execution_count": 6
  },
  {
   "metadata": {
    "ExecuteTime": {
     "end_time": "2024-12-29T13:32:52.797323Z",
     "start_time": "2024-12-29T13:32:52.789417Z"
    }
   },
   "cell_type": "code",
   "source": [
    "pd.DataFrame({\n",
    "    \"1st\": [results_1st[i] / results_all[i] for i in range(4)],\n",
    "    \"2nd\": [results_2nd[i] / results_all[i] for i in range(4)],\n",
    "    \"3rd\": [results_3rd[i] / results_all[i] for i in range(4)],\n",
    "    \"all\": [1 for _ in range(4)]\n",
    "})"
   ],
   "id": "e1793f29c3b8291",
   "outputs": [
    {
     "data": {
      "text/plain": [
       "        1st       2nd       3rd  all\n",
       "0  0.332006  0.851152  1.000000    1\n",
       "1  0.686667  0.793194  1.000000    1\n",
       "2  0.512409  0.766116  1.000000    1\n",
       "3  1.000000  0.923986  0.987121    1"
      ],
      "text/html": [
       "<div>\n",
       "<style scoped>\n",
       "    .dataframe tbody tr th:only-of-type {\n",
       "        vertical-align: middle;\n",
       "    }\n",
       "\n",
       "    .dataframe tbody tr th {\n",
       "        vertical-align: top;\n",
       "    }\n",
       "\n",
       "    .dataframe thead th {\n",
       "        text-align: right;\n",
       "    }\n",
       "</style>\n",
       "<table border=\"1\" class=\"dataframe\">\n",
       "  <thead>\n",
       "    <tr style=\"text-align: right;\">\n",
       "      <th></th>\n",
       "      <th>1st</th>\n",
       "      <th>2nd</th>\n",
       "      <th>3rd</th>\n",
       "      <th>all</th>\n",
       "    </tr>\n",
       "  </thead>\n",
       "  <tbody>\n",
       "    <tr>\n",
       "      <th>0</th>\n",
       "      <td>0.332006</td>\n",
       "      <td>0.851152</td>\n",
       "      <td>1.000000</td>\n",
       "      <td>1</td>\n",
       "    </tr>\n",
       "    <tr>\n",
       "      <th>1</th>\n",
       "      <td>0.686667</td>\n",
       "      <td>0.793194</td>\n",
       "      <td>1.000000</td>\n",
       "      <td>1</td>\n",
       "    </tr>\n",
       "    <tr>\n",
       "      <th>2</th>\n",
       "      <td>0.512409</td>\n",
       "      <td>0.766116</td>\n",
       "      <td>1.000000</td>\n",
       "      <td>1</td>\n",
       "    </tr>\n",
       "    <tr>\n",
       "      <th>3</th>\n",
       "      <td>1.000000</td>\n",
       "      <td>0.923986</td>\n",
       "      <td>0.987121</td>\n",
       "      <td>1</td>\n",
       "    </tr>\n",
       "  </tbody>\n",
       "</table>\n",
       "</div>"
      ]
     },
     "execution_count": 7,
     "metadata": {},
     "output_type": "execute_result"
    }
   ],
   "execution_count": 7
  },
  {
   "metadata": {
    "ExecuteTime": {
     "end_time": "2024-12-29T13:32:52.847289Z",
     "start_time": "2024-12-29T13:32:52.839533Z"
    }
   },
   "cell_type": "code",
   "source": [
    "pd.DataFrame({\n",
    "    \"m\": states_m,\n",
    "    \"g\": states_g,\n",
    "    \"c\": states_c\n",
    "})"
   ],
   "id": "5a0444035a2b03c5",
   "outputs": [
    {
     "data": {
      "text/plain": [
       "         m       g       c\n",
       "0   277440  711062  711061\n",
       "1   514098  488005  488004\n",
       "2   161052  222105  222104\n",
       "3  1362053  936791  225184"
      ],
      "text/html": [
       "<div>\n",
       "<style scoped>\n",
       "    .dataframe tbody tr th:only-of-type {\n",
       "        vertical-align: middle;\n",
       "    }\n",
       "\n",
       "    .dataframe tbody tr th {\n",
       "        vertical-align: top;\n",
       "    }\n",
       "\n",
       "    .dataframe thead th {\n",
       "        text-align: right;\n",
       "    }\n",
       "</style>\n",
       "<table border=\"1\" class=\"dataframe\">\n",
       "  <thead>\n",
       "    <tr style=\"text-align: right;\">\n",
       "      <th></th>\n",
       "      <th>m</th>\n",
       "      <th>g</th>\n",
       "      <th>c</th>\n",
       "    </tr>\n",
       "  </thead>\n",
       "  <tbody>\n",
       "    <tr>\n",
       "      <th>0</th>\n",
       "      <td>277440</td>\n",
       "      <td>711062</td>\n",
       "      <td>711061</td>\n",
       "    </tr>\n",
       "    <tr>\n",
       "      <th>1</th>\n",
       "      <td>514098</td>\n",
       "      <td>488005</td>\n",
       "      <td>488004</td>\n",
       "    </tr>\n",
       "    <tr>\n",
       "      <th>2</th>\n",
       "      <td>161052</td>\n",
       "      <td>222105</td>\n",
       "      <td>222104</td>\n",
       "    </tr>\n",
       "    <tr>\n",
       "      <th>3</th>\n",
       "      <td>1362053</td>\n",
       "      <td>936791</td>\n",
       "      <td>225184</td>\n",
       "    </tr>\n",
       "  </tbody>\n",
       "</table>\n",
       "</div>"
      ]
     },
     "execution_count": 8,
     "metadata": {},
     "output_type": "execute_result"
    }
   ],
   "execution_count": 8
  },
  {
   "metadata": {
    "ExecuteTime": {
     "end_time": "2024-12-29T13:32:52.946187Z",
     "start_time": "2024-12-29T13:32:52.937349Z"
    }
   },
   "cell_type": "code",
   "source": [
    "pd.DataFrame({\n",
    "    \"m\": [states_m[i] / max(states_m[i], states_g[i], states_c[i]) for i in range(4)],\n",
    "    \"g\":  [states_g[i] / max(states_m[i], states_g[i], states_c[i]) for i in range(4)],\n",
    "    \"c\":  [states_c[i] / max(states_m[i], states_g[i], states_c[i]) for i in range(4)]\n",
    "})"
   ],
   "id": "52dbfebcb9440eec",
   "outputs": [
    {
     "data": {
      "text/plain": [
       "          m         g         c\n",
       "0  0.390177  1.000000  0.999999\n",
       "1  1.000000  0.949245  0.949243\n",
       "2  0.725116  1.000000  0.999995\n",
       "3  1.000000  0.687779  0.165327"
      ],
      "text/html": [
       "<div>\n",
       "<style scoped>\n",
       "    .dataframe tbody tr th:only-of-type {\n",
       "        vertical-align: middle;\n",
       "    }\n",
       "\n",
       "    .dataframe tbody tr th {\n",
       "        vertical-align: top;\n",
       "    }\n",
       "\n",
       "    .dataframe thead th {\n",
       "        text-align: right;\n",
       "    }\n",
       "</style>\n",
       "<table border=\"1\" class=\"dataframe\">\n",
       "  <thead>\n",
       "    <tr style=\"text-align: right;\">\n",
       "      <th></th>\n",
       "      <th>m</th>\n",
       "      <th>g</th>\n",
       "      <th>c</th>\n",
       "    </tr>\n",
       "  </thead>\n",
       "  <tbody>\n",
       "    <tr>\n",
       "      <th>0</th>\n",
       "      <td>0.390177</td>\n",
       "      <td>1.000000</td>\n",
       "      <td>0.999999</td>\n",
       "    </tr>\n",
       "    <tr>\n",
       "      <th>1</th>\n",
       "      <td>1.000000</td>\n",
       "      <td>0.949245</td>\n",
       "      <td>0.949243</td>\n",
       "    </tr>\n",
       "    <tr>\n",
       "      <th>2</th>\n",
       "      <td>0.725116</td>\n",
       "      <td>1.000000</td>\n",
       "      <td>0.999995</td>\n",
       "    </tr>\n",
       "    <tr>\n",
       "      <th>3</th>\n",
       "      <td>1.000000</td>\n",
       "      <td>0.687779</td>\n",
       "      <td>0.165327</td>\n",
       "    </tr>\n",
       "  </tbody>\n",
       "</table>\n",
       "</div>"
      ]
     },
     "execution_count": 9,
     "metadata": {},
     "output_type": "execute_result"
    }
   ],
   "execution_count": 9
  },
  {
   "metadata": {
    "ExecuteTime": {
     "end_time": "2024-12-29T13:32:53.009296Z",
     "start_time": "2024-12-29T13:32:53.001055Z"
    }
   },
   "cell_type": "code",
   "source": [
    "pd.DataFrame({\n",
    "    \"m\": transitions_m,\n",
    "    \"g\": transitions_g,\n",
    "    \"c\": transitions_c\n",
    "})"
   ],
   "id": "9f6089677c24f843",
   "outputs": [
    {
     "data": {
      "text/plain": [
       "         m        g        c\n",
       "0  1514240  3927387  2194772\n",
       "1  3328456  3172444  2893334\n",
       "2  1098078  1446156  1446155\n",
       "3  5405337  3696915   714669"
      ],
      "text/html": [
       "<div>\n",
       "<style scoped>\n",
       "    .dataframe tbody tr th:only-of-type {\n",
       "        vertical-align: middle;\n",
       "    }\n",
       "\n",
       "    .dataframe tbody tr th {\n",
       "        vertical-align: top;\n",
       "    }\n",
       "\n",
       "    .dataframe thead th {\n",
       "        text-align: right;\n",
       "    }\n",
       "</style>\n",
       "<table border=\"1\" class=\"dataframe\">\n",
       "  <thead>\n",
       "    <tr style=\"text-align: right;\">\n",
       "      <th></th>\n",
       "      <th>m</th>\n",
       "      <th>g</th>\n",
       "      <th>c</th>\n",
       "    </tr>\n",
       "  </thead>\n",
       "  <tbody>\n",
       "    <tr>\n",
       "      <th>0</th>\n",
       "      <td>1514240</td>\n",
       "      <td>3927387</td>\n",
       "      <td>2194772</td>\n",
       "    </tr>\n",
       "    <tr>\n",
       "      <th>1</th>\n",
       "      <td>3328456</td>\n",
       "      <td>3172444</td>\n",
       "      <td>2893334</td>\n",
       "    </tr>\n",
       "    <tr>\n",
       "      <th>2</th>\n",
       "      <td>1098078</td>\n",
       "      <td>1446156</td>\n",
       "      <td>1446155</td>\n",
       "    </tr>\n",
       "    <tr>\n",
       "      <th>3</th>\n",
       "      <td>5405337</td>\n",
       "      <td>3696915</td>\n",
       "      <td>714669</td>\n",
       "    </tr>\n",
       "  </tbody>\n",
       "</table>\n",
       "</div>"
      ]
     },
     "execution_count": 10,
     "metadata": {},
     "output_type": "execute_result"
    }
   ],
   "execution_count": 10
  },
  {
   "metadata": {
    "ExecuteTime": {
     "end_time": "2024-12-29T13:32:53.134195Z",
     "start_time": "2024-12-29T13:32:53.120518Z"
    }
   },
   "cell_type": "code",
   "source": [
    "pd.DataFrame({\n",
    "    \"m\": [transitions_m[i] / max(transitions_m[i], transitions_g[i], transitions_c[i]) for i in range(4)],\n",
    "    \"g\": [transitions_g[i] / max(transitions_m[i], transitions_g[i], transitions_c[i]) for i in range(4)],\n",
    "    \"c\": [transitions_c[i] / max(transitions_m[i], transitions_g[i], transitions_c[i]) for i in range(4)]\n",
    "})"
   ],
   "id": "dcdeb5f44d996100",
   "outputs": [
    {
     "data": {
      "text/plain": [
       "          m         g         c\n",
       "0  0.385559  1.000000  0.558838\n",
       "1  1.000000  0.953128  0.869272\n",
       "2  0.759308  1.000000  0.999999\n",
       "3  1.000000  0.683938  0.132215"
      ],
      "text/html": [
       "<div>\n",
       "<style scoped>\n",
       "    .dataframe tbody tr th:only-of-type {\n",
       "        vertical-align: middle;\n",
       "    }\n",
       "\n",
       "    .dataframe tbody tr th {\n",
       "        vertical-align: top;\n",
       "    }\n",
       "\n",
       "    .dataframe thead th {\n",
       "        text-align: right;\n",
       "    }\n",
       "</style>\n",
       "<table border=\"1\" class=\"dataframe\">\n",
       "  <thead>\n",
       "    <tr style=\"text-align: right;\">\n",
       "      <th></th>\n",
       "      <th>m</th>\n",
       "      <th>g</th>\n",
       "      <th>c</th>\n",
       "    </tr>\n",
       "  </thead>\n",
       "  <tbody>\n",
       "    <tr>\n",
       "      <th>0</th>\n",
       "      <td>0.385559</td>\n",
       "      <td>1.000000</td>\n",
       "      <td>0.558838</td>\n",
       "    </tr>\n",
       "    <tr>\n",
       "      <th>1</th>\n",
       "      <td>1.000000</td>\n",
       "      <td>0.953128</td>\n",
       "      <td>0.869272</td>\n",
       "    </tr>\n",
       "    <tr>\n",
       "      <th>2</th>\n",
       "      <td>0.759308</td>\n",
       "      <td>1.000000</td>\n",
       "      <td>0.999999</td>\n",
       "    </tr>\n",
       "    <tr>\n",
       "      <th>3</th>\n",
       "      <td>1.000000</td>\n",
       "      <td>0.683938</td>\n",
       "      <td>0.132215</td>\n",
       "    </tr>\n",
       "  </tbody>\n",
       "</table>\n",
       "</div>"
      ]
     },
     "execution_count": 11,
     "metadata": {},
     "output_type": "execute_result"
    }
   ],
   "execution_count": 11
  }
 ],
 "metadata": {
  "kernelspec": {
   "name": "python3",
   "language": "python",
   "display_name": "Python 3 (ipykernel)"
  }
 },
 "nbformat": 5,
 "nbformat_minor": 9
}
