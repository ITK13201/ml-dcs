{
 "cells": [
  {
   "metadata": {
    "ExecuteTime": {
     "end_time": "2025-03-25T17:43:40.814929Z",
     "start_time": "2025-03-25T17:43:39.596651Z"
    }
   },
   "cell_type": "code",
   "source": [
    "from ml_dcs.config import config  # NOQA\n",
    "import json\n",
    "import pandas as pd\n",
    "\n",
    "from ml_dcs.domain.mtsa import MTSAResult\n",
    "\n",
    "RESULT_FILE_PATH_HC = \"tmp/mtsa-results/calculation-time/20241227_064029_ArtGallery（N, 4 room）_000036_TraditionalController_compose.json\"\n",
    "RESULT_FILE_PATH_AT = \"tmp/mtsa-results/calculation-time/20241227_052401_AT（5, 10）_000070_TraditionalController_compose.json\"\n",
    "RESULT_FILE_PATH_BW = \"tmp/mtsa-results/calculation-time/20241227_054842_BW（5, 5）_000002_TraditionalController_compose.json\"\n",
    "RESULT_FILE_PATH_CM = \"tmp/mtsa-results/calculation-time/20241227_055948_CM（3, 3）_000100_TraditionalController_compose.json\"\n",
    "\n",
    "calculation_time_1st = []\n",
    "calculation_time_2nd = []\n",
    "calculation_time_3rd = []\n",
    "calculation_time_all = []\n",
    "\n",
    "memory_usage_1st = []\n",
    "memory_usage_2nd = []\n",
    "memory_usage_3rd = []\n",
    "\n",
    "states_m = []\n",
    "states_g = []\n",
    "states_c = []\n",
    "\n",
    "transitions_m = []\n",
    "transitions_g = []\n",
    "transitions_c = []"
   ],
   "id": "d7561347b3ae662a",
   "outputs": [
    {
     "name": "stdout",
     "output_type": "stream",
     "text": [
      "PyTorch Device: cuda\n"
     ]
    }
   ],
   "execution_count": 1
  },
  {
   "metadata": {
    "ExecuteTime": {
     "end_time": "2025-03-25T17:43:40.823113Z",
     "start_time": "2025-03-25T17:43:40.819393Z"
    }
   },
   "cell_type": "code",
   "source": [
    "with open(RESULT_FILE_PATH_HC, \"r\") as f:\n",
    "    data = json.load(f)\n",
    "result = MTSAResult(**data)\n",
    "\n",
    "calculation_time_1st.append(result.compile_step.duration_ms)\n",
    "calculation_time_2nd.append(result.compose_step.creatingGameSpace.duration_ms)\n",
    "calculation_time_3rd.append(result.compose_step.solvingProblem.duration_ms)\n",
    "calculation_time_all.append(result.significant_duration_ms)\n",
    "\n",
    "memory_usage_1st.append(result.compile_step.max_memory_usage_kb)\n",
    "memory_usage_2nd.append(result.compose_step.creatingGameSpace.max_memory_usage_kb)\n",
    "memory_usage_3rd.append(result.compose_step.solvingProblem.max_memory_usage_kb)\n",
    "\n",
    "states_m.append(result.compile_step.environments[0].number_of_states)\n",
    "states_g.append(result.compose_step.creatingGameSpace.number_of_states)\n",
    "states_c.append(result.compose_step.solvingProblem.number_of_states)\n",
    "\n",
    "transitions_m.append(result.compile_step.environments[0].number_of_transitions)\n",
    "transitions_g.append(result.compose_step.creatingGameSpace.number_of_transitions)\n",
    "transitions_c.append(result.compose_step.solvingProblem.number_of_transitions)"
   ],
   "id": "3ddab80d886a9ac4",
   "outputs": [],
   "execution_count": 2
  },
  {
   "metadata": {
    "ExecuteTime": {
     "end_time": "2025-03-25T17:43:40.877948Z",
     "start_time": "2025-03-25T17:43:40.874484Z"
    }
   },
   "cell_type": "code",
   "source": [
    "with open(RESULT_FILE_PATH_AT, \"r\") as f:\n",
    "    data = json.load(f)\n",
    "result = MTSAResult(**data)\n",
    "\n",
    "calculation_time_1st.append(result.compile_step.duration_ms)\n",
    "calculation_time_2nd.append(result.compose_step.creatingGameSpace.duration_ms)\n",
    "calculation_time_3rd.append(result.compose_step.solvingProblem.duration_ms)\n",
    "calculation_time_all.append(result.significant_duration_ms)\n",
    "\n",
    "memory_usage_1st.append(result.compile_step.max_memory_usage_kb)\n",
    "memory_usage_2nd.append(result.compose_step.creatingGameSpace.max_memory_usage_kb)\n",
    "memory_usage_3rd.append(result.compose_step.solvingProblem.max_memory_usage_kb)\n",
    "\n",
    "states_m.append(result.compile_step.environments[0].number_of_states)\n",
    "states_g.append(result.compose_step.creatingGameSpace.number_of_states)\n",
    "states_c.append(result.compose_step.solvingProblem.number_of_states)\n",
    "\n",
    "transitions_m.append(result.compile_step.environments[0].number_of_transitions)\n",
    "transitions_g.append(result.compose_step.creatingGameSpace.number_of_transitions)\n",
    "transitions_c.append(result.compose_step.solvingProblem.number_of_transitions)"
   ],
   "id": "b2156d724fab5738",
   "outputs": [],
   "execution_count": 3
  },
  {
   "metadata": {
    "ExecuteTime": {
     "end_time": "2025-03-25T17:43:40.926172Z",
     "start_time": "2025-03-25T17:43:40.921316Z"
    }
   },
   "cell_type": "code",
   "source": [
    "with open(RESULT_FILE_PATH_BW, \"r\") as f:\n",
    "    data = json.load(f)\n",
    "result = MTSAResult(**data)\n",
    "\n",
    "calculation_time_1st.append(result.compile_step.duration_ms)\n",
    "calculation_time_2nd.append(result.compose_step.creatingGameSpace.duration_ms)\n",
    "calculation_time_3rd.append(result.compose_step.solvingProblem.duration_ms)\n",
    "calculation_time_all.append(result.significant_duration_ms)\n",
    "\n",
    "memory_usage_1st.append(result.compile_step.max_memory_usage_kb)\n",
    "memory_usage_2nd.append(result.compose_step.creatingGameSpace.max_memory_usage_kb)\n",
    "memory_usage_3rd.append(result.compose_step.solvingProblem.max_memory_usage_kb)\n",
    "\n",
    "states_m.append(result.compile_step.environments[0].number_of_states)\n",
    "states_g.append(result.compose_step.creatingGameSpace.number_of_states)\n",
    "states_c.append(result.compose_step.solvingProblem.number_of_states)\n",
    "\n",
    "transitions_m.append(result.compile_step.environments[0].number_of_transitions)\n",
    "transitions_g.append(result.compose_step.creatingGameSpace.number_of_transitions)\n",
    "transitions_c.append(result.compose_step.solvingProblem.number_of_transitions)"
   ],
   "id": "ecb62b2903f39df3",
   "outputs": [],
   "execution_count": 4
  },
  {
   "metadata": {
    "ExecuteTime": {
     "end_time": "2025-03-25T17:43:40.942058Z",
     "start_time": "2025-03-25T17:43:40.936649Z"
    }
   },
   "cell_type": "code",
   "source": [
    "with open(RESULT_FILE_PATH_CM, \"r\") as f:\n",
    "    data = json.load(f)\n",
    "result = MTSAResult(**data)\n",
    "\n",
    "calculation_time_1st.append(result.compile_step.duration_ms)\n",
    "calculation_time_2nd.append(result.compose_step.creatingGameSpace.duration_ms)\n",
    "calculation_time_3rd.append(result.compose_step.solvingProblem.duration_ms)\n",
    "calculation_time_all.append(result.significant_duration_ms)\n",
    "\n",
    "memory_usage_1st.append(result.compile_step.max_memory_usage_kb)\n",
    "memory_usage_2nd.append(result.compose_step.creatingGameSpace.max_memory_usage_kb)\n",
    "memory_usage_3rd.append(result.compose_step.solvingProblem.max_memory_usage_kb)\n",
    "\n",
    "states_m.append(result.compile_step.environments[0].number_of_states)\n",
    "states_g.append(result.compose_step.creatingGameSpace.number_of_states)\n",
    "states_c.append(result.compose_step.solvingProblem.number_of_states)\n",
    "\n",
    "transitions_m.append(result.compile_step.environments[0].number_of_transitions)\n",
    "transitions_g.append(result.compose_step.creatingGameSpace.number_of_transitions)\n",
    "transitions_c.append(result.compose_step.solvingProblem.number_of_transitions)"
   ],
   "id": "fcce842abf64cb6f",
   "outputs": [],
   "execution_count": 5
  },
  {
   "metadata": {
    "ExecuteTime": {
     "end_time": "2025-03-25T17:43:40.958502Z",
     "start_time": "2025-03-25T17:43:40.951027Z"
    }
   },
   "cell_type": "code",
   "source": [
    "pd.DataFrame(\n",
    "    {\n",
    "        \"1st\": [v / 1000 for v in calculation_time_1st],\n",
    "        \"2nd\": [v / 1000 for v in calculation_time_2nd],\n",
    "        \"3rd\": [v / 1000 for v in calculation_time_3rd],\n",
    "        \"all\": [v / 1000 for v in calculation_time_all],\n",
    "    }\n",
    ")"
   ],
   "id": "2848c8c5c4afa392",
   "outputs": [
    {
     "data": {
      "text/plain": [
       "      1st     2nd      3rd      all\n",
       "0  27.191  30.683  306.869  364.743\n",
       "1  48.145  22.446  143.012  213.603\n",
       "2  12.812   9.111   43.873   65.796\n",
       "3  74.606  31.960  233.705  340.271"
      ],
      "text/html": [
       "<div>\n",
       "<style scoped>\n",
       "    .dataframe tbody tr th:only-of-type {\n",
       "        vertical-align: middle;\n",
       "    }\n",
       "\n",
       "    .dataframe tbody tr th {\n",
       "        vertical-align: top;\n",
       "    }\n",
       "\n",
       "    .dataframe thead th {\n",
       "        text-align: right;\n",
       "    }\n",
       "</style>\n",
       "<table border=\"1\" class=\"dataframe\">\n",
       "  <thead>\n",
       "    <tr style=\"text-align: right;\">\n",
       "      <th></th>\n",
       "      <th>1st</th>\n",
       "      <th>2nd</th>\n",
       "      <th>3rd</th>\n",
       "      <th>all</th>\n",
       "    </tr>\n",
       "  </thead>\n",
       "  <tbody>\n",
       "    <tr>\n",
       "      <th>0</th>\n",
       "      <td>27.191</td>\n",
       "      <td>30.683</td>\n",
       "      <td>306.869</td>\n",
       "      <td>364.743</td>\n",
       "    </tr>\n",
       "    <tr>\n",
       "      <th>1</th>\n",
       "      <td>48.145</td>\n",
       "      <td>22.446</td>\n",
       "      <td>143.012</td>\n",
       "      <td>213.603</td>\n",
       "    </tr>\n",
       "    <tr>\n",
       "      <th>2</th>\n",
       "      <td>12.812</td>\n",
       "      <td>9.111</td>\n",
       "      <td>43.873</td>\n",
       "      <td>65.796</td>\n",
       "    </tr>\n",
       "    <tr>\n",
       "      <th>3</th>\n",
       "      <td>74.606</td>\n",
       "      <td>31.960</td>\n",
       "      <td>233.705</td>\n",
       "      <td>340.271</td>\n",
       "    </tr>\n",
       "  </tbody>\n",
       "</table>\n",
       "</div>"
      ]
     },
     "execution_count": 6,
     "metadata": {},
     "output_type": "execute_result"
    }
   ],
   "execution_count": 6
  },
  {
   "metadata": {
    "ExecuteTime": {
     "end_time": "2025-03-25T17:43:41.034078Z",
     "start_time": "2025-03-25T17:43:41.029916Z"
    }
   },
   "cell_type": "code",
   "source": [
    "pd.DataFrame(\n",
    "    {\n",
    "        \"1st\": [calculation_time_1st[i] / calculation_time_all[i] for i in range(4)],\n",
    "        \"2nd\": [calculation_time_2nd[i] / calculation_time_all[i] for i in range(4)],\n",
    "        \"3rd\": [calculation_time_3rd[i] / calculation_time_all[i] for i in range(4)],\n",
    "        \"all\": [1 for _ in range(4)],\n",
    "    }\n",
    ")"
   ],
   "id": "63620286a5c4b577",
   "outputs": [
    {
     "data": {
      "text/plain": [
       "        1st       2nd       3rd  all\n",
       "0  0.074548  0.084122  0.841329    1\n",
       "1  0.225395  0.105083  0.669522    1\n",
       "2  0.194723  0.138473  0.666803    1\n",
       "3  0.219255  0.093925  0.686820    1"
      ],
      "text/html": [
       "<div>\n",
       "<style scoped>\n",
       "    .dataframe tbody tr th:only-of-type {\n",
       "        vertical-align: middle;\n",
       "    }\n",
       "\n",
       "    .dataframe tbody tr th {\n",
       "        vertical-align: top;\n",
       "    }\n",
       "\n",
       "    .dataframe thead th {\n",
       "        text-align: right;\n",
       "    }\n",
       "</style>\n",
       "<table border=\"1\" class=\"dataframe\">\n",
       "  <thead>\n",
       "    <tr style=\"text-align: right;\">\n",
       "      <th></th>\n",
       "      <th>1st</th>\n",
       "      <th>2nd</th>\n",
       "      <th>3rd</th>\n",
       "      <th>all</th>\n",
       "    </tr>\n",
       "  </thead>\n",
       "  <tbody>\n",
       "    <tr>\n",
       "      <th>0</th>\n",
       "      <td>0.074548</td>\n",
       "      <td>0.084122</td>\n",
       "      <td>0.841329</td>\n",
       "      <td>1</td>\n",
       "    </tr>\n",
       "    <tr>\n",
       "      <th>1</th>\n",
       "      <td>0.225395</td>\n",
       "      <td>0.105083</td>\n",
       "      <td>0.669522</td>\n",
       "      <td>1</td>\n",
       "    </tr>\n",
       "    <tr>\n",
       "      <th>2</th>\n",
       "      <td>0.194723</td>\n",
       "      <td>0.138473</td>\n",
       "      <td>0.666803</td>\n",
       "      <td>1</td>\n",
       "    </tr>\n",
       "    <tr>\n",
       "      <th>3</th>\n",
       "      <td>0.219255</td>\n",
       "      <td>0.093925</td>\n",
       "      <td>0.686820</td>\n",
       "      <td>1</td>\n",
       "    </tr>\n",
       "  </tbody>\n",
       "</table>\n",
       "</div>"
      ]
     },
     "execution_count": 7,
     "metadata": {},
     "output_type": "execute_result"
    }
   ],
   "execution_count": 7
  },
  {
   "metadata": {
    "ExecuteTime": {
     "end_time": "2025-03-25T17:43:41.060153Z",
     "start_time": "2025-03-25T17:43:41.056105Z"
    }
   },
   "cell_type": "code",
   "source": [
    "pd.DataFrame(\n",
    "    {\n",
    "        \"1st\": [v / 1000 for v in memory_usage_1st],\n",
    "        \"2nd\": [v / 1000 for v in memory_usage_2nd],\n",
    "        \"3rd\": [v / 1000 for v in memory_usage_3rd],\n",
    "    }\n",
    ")"
   ],
   "id": "2afaa5bc09fb5c33",
   "outputs": [
    {
     "data": {
      "text/plain": [
       "         1st       2nd       3rd\n",
       "0   2735.615  8558.880  9902.556\n",
       "1   5784.364  6681.724  8423.822\n",
       "2   1901.731  2845.211  3711.348\n",
       "3  10071.612  9224.426  9845.739"
      ],
      "text/html": [
       "<div>\n",
       "<style scoped>\n",
       "    .dataframe tbody tr th:only-of-type {\n",
       "        vertical-align: middle;\n",
       "    }\n",
       "\n",
       "    .dataframe tbody tr th {\n",
       "        vertical-align: top;\n",
       "    }\n",
       "\n",
       "    .dataframe thead th {\n",
       "        text-align: right;\n",
       "    }\n",
       "</style>\n",
       "<table border=\"1\" class=\"dataframe\">\n",
       "  <thead>\n",
       "    <tr style=\"text-align: right;\">\n",
       "      <th></th>\n",
       "      <th>1st</th>\n",
       "      <th>2nd</th>\n",
       "      <th>3rd</th>\n",
       "    </tr>\n",
       "  </thead>\n",
       "  <tbody>\n",
       "    <tr>\n",
       "      <th>0</th>\n",
       "      <td>2735.615</td>\n",
       "      <td>8558.880</td>\n",
       "      <td>9902.556</td>\n",
       "    </tr>\n",
       "    <tr>\n",
       "      <th>1</th>\n",
       "      <td>5784.364</td>\n",
       "      <td>6681.724</td>\n",
       "      <td>8423.822</td>\n",
       "    </tr>\n",
       "    <tr>\n",
       "      <th>2</th>\n",
       "      <td>1901.731</td>\n",
       "      <td>2845.211</td>\n",
       "      <td>3711.348</td>\n",
       "    </tr>\n",
       "    <tr>\n",
       "      <th>3</th>\n",
       "      <td>10071.612</td>\n",
       "      <td>9224.426</td>\n",
       "      <td>9845.739</td>\n",
       "    </tr>\n",
       "  </tbody>\n",
       "</table>\n",
       "</div>"
      ]
     },
     "execution_count": 8,
     "metadata": {},
     "output_type": "execute_result"
    }
   ],
   "execution_count": 8
  },
  {
   "metadata": {
    "ExecuteTime": {
     "end_time": "2025-03-25T17:43:41.142594Z",
     "start_time": "2025-03-25T17:43:41.138537Z"
    }
   },
   "cell_type": "code",
   "source": [
    "pd.DataFrame(\n",
    "    {\n",
    "        \"1st\": [\n",
    "            memory_usage_1st[i]\n",
    "            / max(memory_usage_1st[i], memory_usage_2nd[i], memory_usage_3rd[i])\n",
    "            for i in range(4)\n",
    "        ],\n",
    "        \"2nd\": [\n",
    "            memory_usage_2nd[i]\n",
    "            / max(memory_usage_1st[i], memory_usage_2nd[i], memory_usage_3rd[i])\n",
    "            for i in range(4)\n",
    "        ],\n",
    "        \"3nd\": [\n",
    "            memory_usage_3rd[i]\n",
    "            / max(memory_usage_1st[i], memory_usage_2nd[i], memory_usage_3rd[i])\n",
    "            for i in range(4)\n",
    "        ],\n",
    "    }\n",
    ")"
   ],
   "id": "68eb90fc5f1e467f",
   "outputs": [
    {
     "data": {
      "text/plain": [
       "        1st       2nd       3nd\n",
       "0  0.276253  0.864310  1.000000\n",
       "1  0.686667  0.793194  1.000000\n",
       "2  0.512410  0.766625  1.000000\n",
       "3  1.000000  0.915884  0.977573"
      ],
      "text/html": [
       "<div>\n",
       "<style scoped>\n",
       "    .dataframe tbody tr th:only-of-type {\n",
       "        vertical-align: middle;\n",
       "    }\n",
       "\n",
       "    .dataframe tbody tr th {\n",
       "        vertical-align: top;\n",
       "    }\n",
       "\n",
       "    .dataframe thead th {\n",
       "        text-align: right;\n",
       "    }\n",
       "</style>\n",
       "<table border=\"1\" class=\"dataframe\">\n",
       "  <thead>\n",
       "    <tr style=\"text-align: right;\">\n",
       "      <th></th>\n",
       "      <th>1st</th>\n",
       "      <th>2nd</th>\n",
       "      <th>3nd</th>\n",
       "    </tr>\n",
       "  </thead>\n",
       "  <tbody>\n",
       "    <tr>\n",
       "      <th>0</th>\n",
       "      <td>0.276253</td>\n",
       "      <td>0.864310</td>\n",
       "      <td>1.000000</td>\n",
       "    </tr>\n",
       "    <tr>\n",
       "      <th>1</th>\n",
       "      <td>0.686667</td>\n",
       "      <td>0.793194</td>\n",
       "      <td>1.000000</td>\n",
       "    </tr>\n",
       "    <tr>\n",
       "      <th>2</th>\n",
       "      <td>0.512410</td>\n",
       "      <td>0.766625</td>\n",
       "      <td>1.000000</td>\n",
       "    </tr>\n",
       "    <tr>\n",
       "      <th>3</th>\n",
       "      <td>1.000000</td>\n",
       "      <td>0.915884</td>\n",
       "      <td>0.977573</td>\n",
       "    </tr>\n",
       "  </tbody>\n",
       "</table>\n",
       "</div>"
      ]
     },
     "execution_count": 9,
     "metadata": {},
     "output_type": "execute_result"
    }
   ],
   "execution_count": 9
  },
  {
   "metadata": {
    "ExecuteTime": {
     "end_time": "2025-03-25T17:43:41.202798Z",
     "start_time": "2025-03-25T17:43:41.199583Z"
    }
   },
   "cell_type": "code",
   "source": [
    "pd.DataFrame({\"m\": states_m, \"g\": states_g, \"c\": states_c})"
   ],
   "id": "9b9fc24217396d00",
   "outputs": [
    {
     "data": {
      "text/plain": [
       "         m       g       c\n",
       "0   277440  865669  865668\n",
       "1   514098  488005  488004\n",
       "2   161052  222105  222104\n",
       "3  1362053  920039  134142"
      ],
      "text/html": [
       "<div>\n",
       "<style scoped>\n",
       "    .dataframe tbody tr th:only-of-type {\n",
       "        vertical-align: middle;\n",
       "    }\n",
       "\n",
       "    .dataframe tbody tr th {\n",
       "        vertical-align: top;\n",
       "    }\n",
       "\n",
       "    .dataframe thead th {\n",
       "        text-align: right;\n",
       "    }\n",
       "</style>\n",
       "<table border=\"1\" class=\"dataframe\">\n",
       "  <thead>\n",
       "    <tr style=\"text-align: right;\">\n",
       "      <th></th>\n",
       "      <th>m</th>\n",
       "      <th>g</th>\n",
       "      <th>c</th>\n",
       "    </tr>\n",
       "  </thead>\n",
       "  <tbody>\n",
       "    <tr>\n",
       "      <th>0</th>\n",
       "      <td>277440</td>\n",
       "      <td>865669</td>\n",
       "      <td>865668</td>\n",
       "    </tr>\n",
       "    <tr>\n",
       "      <th>1</th>\n",
       "      <td>514098</td>\n",
       "      <td>488005</td>\n",
       "      <td>488004</td>\n",
       "    </tr>\n",
       "    <tr>\n",
       "      <th>2</th>\n",
       "      <td>161052</td>\n",
       "      <td>222105</td>\n",
       "      <td>222104</td>\n",
       "    </tr>\n",
       "    <tr>\n",
       "      <th>3</th>\n",
       "      <td>1362053</td>\n",
       "      <td>920039</td>\n",
       "      <td>134142</td>\n",
       "    </tr>\n",
       "  </tbody>\n",
       "</table>\n",
       "</div>"
      ]
     },
     "execution_count": 10,
     "metadata": {},
     "output_type": "execute_result"
    }
   ],
   "execution_count": 10
  },
  {
   "metadata": {
    "ExecuteTime": {
     "end_time": "2025-03-25T17:43:41.290811Z",
     "start_time": "2025-03-25T17:43:41.286224Z"
    }
   },
   "cell_type": "code",
   "source": [
    "pd.DataFrame(\n",
    "    {\n",
    "        \"m\": [\n",
    "            states_m[i] / max(states_m[i], states_g[i], states_c[i]) for i in range(4)\n",
    "        ],\n",
    "        \"g\": [\n",
    "            states_g[i] / max(states_m[i], states_g[i], states_c[i]) for i in range(4)\n",
    "        ],\n",
    "        \"c\": [\n",
    "            states_c[i] / max(states_m[i], states_g[i], states_c[i]) for i in range(4)\n",
    "        ],\n",
    "    }\n",
    ")"
   ],
   "id": "f0dba27a9c6cc2fc",
   "outputs": [
    {
     "data": {
      "text/plain": [
       "          m         g         c\n",
       "0  0.320492  1.000000  0.999999\n",
       "1  1.000000  0.949245  0.949243\n",
       "2  0.725116  1.000000  0.999995\n",
       "3  1.000000  0.675480  0.098485"
      ],
      "text/html": [
       "<div>\n",
       "<style scoped>\n",
       "    .dataframe tbody tr th:only-of-type {\n",
       "        vertical-align: middle;\n",
       "    }\n",
       "\n",
       "    .dataframe tbody tr th {\n",
       "        vertical-align: top;\n",
       "    }\n",
       "\n",
       "    .dataframe thead th {\n",
       "        text-align: right;\n",
       "    }\n",
       "</style>\n",
       "<table border=\"1\" class=\"dataframe\">\n",
       "  <thead>\n",
       "    <tr style=\"text-align: right;\">\n",
       "      <th></th>\n",
       "      <th>m</th>\n",
       "      <th>g</th>\n",
       "      <th>c</th>\n",
       "    </tr>\n",
       "  </thead>\n",
       "  <tbody>\n",
       "    <tr>\n",
       "      <th>0</th>\n",
       "      <td>0.320492</td>\n",
       "      <td>1.000000</td>\n",
       "      <td>0.999999</td>\n",
       "    </tr>\n",
       "    <tr>\n",
       "      <th>1</th>\n",
       "      <td>1.000000</td>\n",
       "      <td>0.949245</td>\n",
       "      <td>0.949243</td>\n",
       "    </tr>\n",
       "    <tr>\n",
       "      <th>2</th>\n",
       "      <td>0.725116</td>\n",
       "      <td>1.000000</td>\n",
       "      <td>0.999995</td>\n",
       "    </tr>\n",
       "    <tr>\n",
       "      <th>3</th>\n",
       "      <td>1.000000</td>\n",
       "      <td>0.675480</td>\n",
       "      <td>0.098485</td>\n",
       "    </tr>\n",
       "  </tbody>\n",
       "</table>\n",
       "</div>"
      ]
     },
     "execution_count": 11,
     "metadata": {},
     "output_type": "execute_result"
    }
   ],
   "execution_count": 11
  },
  {
   "metadata": {
    "ExecuteTime": {
     "end_time": "2025-03-25T17:43:41.365199Z",
     "start_time": "2025-03-25T17:43:41.361787Z"
    }
   },
   "cell_type": "code",
   "source": [
    "pd.DataFrame({\"m\": transitions_m, \"g\": transitions_g, \"c\": transitions_c})"
   ],
   "id": "a59d61d906142b8d",
   "outputs": [
    {
     "data": {
      "text/plain": [
       "         m        g        c\n",
       "0  1514240  4777468  2208453\n",
       "1  3328456  3172444  2893334\n",
       "2  1098078  1446156  1446154\n",
       "3  5405337  3629937   461476"
      ],
      "text/html": [
       "<div>\n",
       "<style scoped>\n",
       "    .dataframe tbody tr th:only-of-type {\n",
       "        vertical-align: middle;\n",
       "    }\n",
       "\n",
       "    .dataframe tbody tr th {\n",
       "        vertical-align: top;\n",
       "    }\n",
       "\n",
       "    .dataframe thead th {\n",
       "        text-align: right;\n",
       "    }\n",
       "</style>\n",
       "<table border=\"1\" class=\"dataframe\">\n",
       "  <thead>\n",
       "    <tr style=\"text-align: right;\">\n",
       "      <th></th>\n",
       "      <th>m</th>\n",
       "      <th>g</th>\n",
       "      <th>c</th>\n",
       "    </tr>\n",
       "  </thead>\n",
       "  <tbody>\n",
       "    <tr>\n",
       "      <th>0</th>\n",
       "      <td>1514240</td>\n",
       "      <td>4777468</td>\n",
       "      <td>2208453</td>\n",
       "    </tr>\n",
       "    <tr>\n",
       "      <th>1</th>\n",
       "      <td>3328456</td>\n",
       "      <td>3172444</td>\n",
       "      <td>2893334</td>\n",
       "    </tr>\n",
       "    <tr>\n",
       "      <th>2</th>\n",
       "      <td>1098078</td>\n",
       "      <td>1446156</td>\n",
       "      <td>1446154</td>\n",
       "    </tr>\n",
       "    <tr>\n",
       "      <th>3</th>\n",
       "      <td>5405337</td>\n",
       "      <td>3629937</td>\n",
       "      <td>461476</td>\n",
       "    </tr>\n",
       "  </tbody>\n",
       "</table>\n",
       "</div>"
      ]
     },
     "execution_count": 12,
     "metadata": {},
     "output_type": "execute_result"
    }
   ],
   "execution_count": 12
  },
  {
   "metadata": {
    "ExecuteTime": {
     "end_time": "2025-03-25T17:43:41.910390Z",
     "start_time": "2025-03-25T17:43:41.905664Z"
    }
   },
   "cell_type": "code",
   "source": [
    "pd.DataFrame(\n",
    "    {\n",
    "        \"m\": [\n",
    "            transitions_m[i] / max(transitions_m[i], transitions_g[i], transitions_c[i])\n",
    "            for i in range(4)\n",
    "        ],\n",
    "        \"g\": [\n",
    "            transitions_g[i] / max(transitions_m[i], transitions_g[i], transitions_c[i])\n",
    "            for i in range(4)\n",
    "        ],\n",
    "        \"c\": [\n",
    "            transitions_c[i] / max(transitions_m[i], transitions_g[i], transitions_c[i])\n",
    "            for i in range(4)\n",
    "        ],\n",
    "    }\n",
    ")"
   ],
   "id": "b633c28dad7d9f7f",
   "outputs": [
    {
     "data": {
      "text/plain": [
       "          m         g         c\n",
       "0  0.316955  1.000000  0.462264\n",
       "1  1.000000  0.953128  0.869272\n",
       "2  0.759308  1.000000  0.999999\n",
       "3  1.000000  0.671547  0.085374"
      ],
      "text/html": [
       "<div>\n",
       "<style scoped>\n",
       "    .dataframe tbody tr th:only-of-type {\n",
       "        vertical-align: middle;\n",
       "    }\n",
       "\n",
       "    .dataframe tbody tr th {\n",
       "        vertical-align: top;\n",
       "    }\n",
       "\n",
       "    .dataframe thead th {\n",
       "        text-align: right;\n",
       "    }\n",
       "</style>\n",
       "<table border=\"1\" class=\"dataframe\">\n",
       "  <thead>\n",
       "    <tr style=\"text-align: right;\">\n",
       "      <th></th>\n",
       "      <th>m</th>\n",
       "      <th>g</th>\n",
       "      <th>c</th>\n",
       "    </tr>\n",
       "  </thead>\n",
       "  <tbody>\n",
       "    <tr>\n",
       "      <th>0</th>\n",
       "      <td>0.316955</td>\n",
       "      <td>1.000000</td>\n",
       "      <td>0.462264</td>\n",
       "    </tr>\n",
       "    <tr>\n",
       "      <th>1</th>\n",
       "      <td>1.000000</td>\n",
       "      <td>0.953128</td>\n",
       "      <td>0.869272</td>\n",
       "    </tr>\n",
       "    <tr>\n",
       "      <th>2</th>\n",
       "      <td>0.759308</td>\n",
       "      <td>1.000000</td>\n",
       "      <td>0.999999</td>\n",
       "    </tr>\n",
       "    <tr>\n",
       "      <th>3</th>\n",
       "      <td>1.000000</td>\n",
       "      <td>0.671547</td>\n",
       "      <td>0.085374</td>\n",
       "    </tr>\n",
       "  </tbody>\n",
       "</table>\n",
       "</div>"
      ]
     },
     "execution_count": 13,
     "metadata": {},
     "output_type": "execute_result"
    }
   ],
   "execution_count": 13
  }
 ],
 "metadata": {
  "kernelspec": {
   "name": "python3",
   "language": "python",
   "display_name": "Python 3 (ipykernel)"
  }
 },
 "nbformat": 5,
 "nbformat_minor": 9
}
