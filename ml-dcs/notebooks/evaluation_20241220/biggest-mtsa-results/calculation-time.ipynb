{
 "cells": [
  {
   "metadata": {
    "ExecuteTime": {
     "end_time": "2024-12-29T13:11:42.246137Z",
     "start_time": "2024-12-29T13:11:38.204874Z"
    }
   },
   "cell_type": "code",
   "source": [
    "from ml_dcs.config import config  # NOQA\n",
    "import json\n",
    "import pandas as pd\n",
    "\n",
    "from ml_dcs.domain.mtsa import MTSAResult\n",
    "\n",
    "RESULT_FILE_PATH_HC = \"tmp/mtsa-results/calculation-time/20241227_064029_ArtGallery（N, 4 room）_000036_TraditionalController_compose.json\"\n",
    "RESULT_FILE_PATH_AT = \"tmp/mtsa-results/calculation-time/20241227_052401_AT（5, 10）_000070_TraditionalController_compose.json\"\n",
    "RESULT_FILE_PATH_BW = \"tmp/mtsa-results/calculation-time/20241227_054842_BW（5, 5）_000002_TraditionalController_compose.json\"\n",
    "RESULT_FILE_PATH_CM = \"tmp/mtsa-results/calculation-time/20241227_055948_CM（3, 3）_000100_TraditionalController_compose.json\"\n",
    "\n",
    "results_1st = []\n",
    "results_2nd = []\n",
    "results_3rd = []\n",
    "results_all = []\n",
    "\n",
    "states_m = []\n",
    "states_g = []\n",
    "states_c = []\n",
    "\n",
    "transitions_m = []\n",
    "transitions_g = []\n",
    "transitions_c = []"
   ],
   "id": "d7561347b3ae662a",
   "outputs": [
    {
     "name": "stdout",
     "output_type": "stream",
     "text": [
      "PyTorch Device: cpu\n"
     ]
    }
   ],
   "execution_count": 1
  },
  {
   "metadata": {
    "ExecuteTime": {
     "end_time": "2024-12-29T13:11:42.270119Z",
     "start_time": "2024-12-29T13:11:42.254550Z"
    }
   },
   "cell_type": "code",
   "source": [
    "with open(RESULT_FILE_PATH_HC, \"r\") as f:\n",
    "    data = json.load(f)\n",
    "result = MTSAResult(**data)\n",
    "results_1st.append(result.compile_step.duration_ms)\n",
    "results_2nd.append(result.compose_step.creatingGameSpace.duration_ms)\n",
    "results_3rd.append(result.compose_step.solvingProblem.duration_ms)\n",
    "results_all.append(result.significant_duration_ms)\n",
    "\n",
    "states_m.append(result.compile_step.environments[0].number_of_states)\n",
    "states_g.append(result.compose_step.creatingGameSpace.number_of_states)\n",
    "states_c.append(result.compose_step.solvingProblem.number_of_states)\n",
    "\n",
    "transitions_m.append(result.compile_step.environments[0].number_of_transitions)\n",
    "transitions_g.append(result.compose_step.creatingGameSpace.number_of_transitions)\n",
    "transitions_c.append(result.compose_step.solvingProblem.number_of_transitions)"
   ],
   "id": "3ddab80d886a9ac4",
   "outputs": [],
   "execution_count": 2
  },
  {
   "metadata": {
    "ExecuteTime": {
     "end_time": "2024-12-29T13:11:42.389980Z",
     "start_time": "2024-12-29T13:11:42.382641Z"
    }
   },
   "cell_type": "code",
   "source": [
    "with open(RESULT_FILE_PATH_AT, \"r\") as f:\n",
    "    data = json.load(f)\n",
    "result = MTSAResult(**data)\n",
    "results_1st.append(result.compile_step.duration_ms)\n",
    "results_2nd.append(result.compose_step.creatingGameSpace.duration_ms)\n",
    "results_3rd.append(result.compose_step.solvingProblem.duration_ms)\n",
    "results_all.append(result.significant_duration_ms)\n",
    "\n",
    "states_m.append(result.compile_step.environments[0].number_of_states)\n",
    "states_g.append(result.compose_step.creatingGameSpace.number_of_states)\n",
    "states_c.append(result.compose_step.solvingProblem.number_of_states)\n",
    "\n",
    "transitions_m.append(result.compile_step.environments[0].number_of_transitions)\n",
    "transitions_g.append(result.compose_step.creatingGameSpace.number_of_transitions)\n",
    "transitions_c.append(result.compose_step.solvingProblem.number_of_transitions)"
   ],
   "id": "b2156d724fab5738",
   "outputs": [],
   "execution_count": 3
  },
  {
   "metadata": {
    "ExecuteTime": {
     "end_time": "2024-12-29T13:11:42.407046Z",
     "start_time": "2024-12-29T13:11:42.399568Z"
    }
   },
   "cell_type": "code",
   "source": [
    "with open(RESULT_FILE_PATH_BW, \"r\") as f:\n",
    "    data = json.load(f)\n",
    "result = MTSAResult(**data)\n",
    "results_1st.append(result.compile_step.duration_ms)\n",
    "results_2nd.append(result.compose_step.creatingGameSpace.duration_ms)\n",
    "results_3rd.append(result.compose_step.solvingProblem.duration_ms)\n",
    "results_all.append(result.significant_duration_ms)\n",
    "\n",
    "states_m.append(result.compile_step.environments[0].number_of_states)\n",
    "states_g.append(result.compose_step.creatingGameSpace.number_of_states)\n",
    "states_c.append(result.compose_step.solvingProblem.number_of_states)\n",
    "\n",
    "transitions_m.append(result.compile_step.environments[0].number_of_transitions)\n",
    "transitions_g.append(result.compose_step.creatingGameSpace.number_of_transitions)\n",
    "transitions_c.append(result.compose_step.solvingProblem.number_of_transitions)"
   ],
   "id": "ecb62b2903f39df3",
   "outputs": [],
   "execution_count": 4
  },
  {
   "metadata": {
    "ExecuteTime": {
     "end_time": "2024-12-29T13:11:42.442050Z",
     "start_time": "2024-12-29T13:11:42.434856Z"
    }
   },
   "cell_type": "code",
   "source": [
    "with open(RESULT_FILE_PATH_CM, \"r\") as f:\n",
    "    data = json.load(f)\n",
    "result = MTSAResult(**data)\n",
    "results_1st.append(result.compile_step.duration_ms)\n",
    "results_2nd.append(result.compose_step.creatingGameSpace.duration_ms)\n",
    "results_3rd.append(result.compose_step.solvingProblem.duration_ms)\n",
    "results_all.append(result.significant_duration_ms)\n",
    "\n",
    "states_m.append(result.compile_step.environments[0].number_of_states)\n",
    "states_g.append(result.compose_step.creatingGameSpace.number_of_states)\n",
    "states_c.append(result.compose_step.solvingProblem.number_of_states)\n",
    "\n",
    "transitions_m.append(result.compile_step.environments[0].number_of_transitions)\n",
    "transitions_g.append(result.compose_step.creatingGameSpace.number_of_transitions)\n",
    "transitions_c.append(result.compose_step.solvingProblem.number_of_transitions)"
   ],
   "id": "fcce842abf64cb6f",
   "outputs": [],
   "execution_count": 5
  },
  {
   "metadata": {
    "ExecuteTime": {
     "end_time": "2024-12-29T13:11:42.499015Z",
     "start_time": "2024-12-29T13:11:42.465854Z"
    }
   },
   "cell_type": "code",
   "source": [
    "pd.DataFrame(\n",
    "    {\n",
    "        \"1st\": [v / 1000 for v in results_1st],\n",
    "        \"2nd\": [v / 1000 for v in results_2nd],\n",
    "        \"3rd\": [v / 1000 for v in results_3rd],\n",
    "        \"all\": [v / 1000 for v in results_all],\n",
    "    }\n",
    ")"
   ],
   "id": "2848c8c5c4afa392",
   "outputs": [
    {
     "data": {
      "text/plain": [
       "      1st     2nd      3rd      all\n",
       "0  27.191  30.683  306.869  364.743\n",
       "1  48.145  22.446  143.012  213.603\n",
       "2  12.812   9.111   43.873   65.796\n",
       "3  74.606  31.960  233.705  340.271"
      ],
      "text/html": [
       "<div>\n",
       "<style scoped>\n",
       "    .dataframe tbody tr th:only-of-type {\n",
       "        vertical-align: middle;\n",
       "    }\n",
       "\n",
       "    .dataframe tbody tr th {\n",
       "        vertical-align: top;\n",
       "    }\n",
       "\n",
       "    .dataframe thead th {\n",
       "        text-align: right;\n",
       "    }\n",
       "</style>\n",
       "<table border=\"1\" class=\"dataframe\">\n",
       "  <thead>\n",
       "    <tr style=\"text-align: right;\">\n",
       "      <th></th>\n",
       "      <th>1st</th>\n",
       "      <th>2nd</th>\n",
       "      <th>3rd</th>\n",
       "      <th>all</th>\n",
       "    </tr>\n",
       "  </thead>\n",
       "  <tbody>\n",
       "    <tr>\n",
       "      <th>0</th>\n",
       "      <td>27.191</td>\n",
       "      <td>30.683</td>\n",
       "      <td>306.869</td>\n",
       "      <td>364.743</td>\n",
       "    </tr>\n",
       "    <tr>\n",
       "      <th>1</th>\n",
       "      <td>48.145</td>\n",
       "      <td>22.446</td>\n",
       "      <td>143.012</td>\n",
       "      <td>213.603</td>\n",
       "    </tr>\n",
       "    <tr>\n",
       "      <th>2</th>\n",
       "      <td>12.812</td>\n",
       "      <td>9.111</td>\n",
       "      <td>43.873</td>\n",
       "      <td>65.796</td>\n",
       "    </tr>\n",
       "    <tr>\n",
       "      <th>3</th>\n",
       "      <td>74.606</td>\n",
       "      <td>31.960</td>\n",
       "      <td>233.705</td>\n",
       "      <td>340.271</td>\n",
       "    </tr>\n",
       "  </tbody>\n",
       "</table>\n",
       "</div>"
      ]
     },
     "execution_count": 6,
     "metadata": {},
     "output_type": "execute_result"
    }
   ],
   "execution_count": 6
  },
  {
   "metadata": {
    "ExecuteTime": {
     "end_time": "2024-12-29T13:11:42.554991Z",
     "start_time": "2024-12-29T13:11:42.546107Z"
    }
   },
   "cell_type": "code",
   "source": [
    "pd.DataFrame(\n",
    "    {\n",
    "        \"1st\": [results_1st[i] / results_all[i] for i in range(4)],\n",
    "        \"2nd\": [results_2nd[i] / results_all[i] for i in range(4)],\n",
    "        \"3rd\": [results_3rd[i] / results_all[i] for i in range(4)],\n",
    "        \"all\": [1 for _ in range(4)],\n",
    "    }\n",
    ")"
   ],
   "id": "63620286a5c4b577",
   "outputs": [
    {
     "data": {
      "text/plain": [
       "        1st       2nd       3rd  all\n",
       "0  0.074548  0.084122  0.841329    1\n",
       "1  0.225395  0.105083  0.669522    1\n",
       "2  0.194723  0.138473  0.666803    1\n",
       "3  0.219255  0.093925  0.686820    1"
      ],
      "text/html": [
       "<div>\n",
       "<style scoped>\n",
       "    .dataframe tbody tr th:only-of-type {\n",
       "        vertical-align: middle;\n",
       "    }\n",
       "\n",
       "    .dataframe tbody tr th {\n",
       "        vertical-align: top;\n",
       "    }\n",
       "\n",
       "    .dataframe thead th {\n",
       "        text-align: right;\n",
       "    }\n",
       "</style>\n",
       "<table border=\"1\" class=\"dataframe\">\n",
       "  <thead>\n",
       "    <tr style=\"text-align: right;\">\n",
       "      <th></th>\n",
       "      <th>1st</th>\n",
       "      <th>2nd</th>\n",
       "      <th>3rd</th>\n",
       "      <th>all</th>\n",
       "    </tr>\n",
       "  </thead>\n",
       "  <tbody>\n",
       "    <tr>\n",
       "      <th>0</th>\n",
       "      <td>0.074548</td>\n",
       "      <td>0.084122</td>\n",
       "      <td>0.841329</td>\n",
       "      <td>1</td>\n",
       "    </tr>\n",
       "    <tr>\n",
       "      <th>1</th>\n",
       "      <td>0.225395</td>\n",
       "      <td>0.105083</td>\n",
       "      <td>0.669522</td>\n",
       "      <td>1</td>\n",
       "    </tr>\n",
       "    <tr>\n",
       "      <th>2</th>\n",
       "      <td>0.194723</td>\n",
       "      <td>0.138473</td>\n",
       "      <td>0.666803</td>\n",
       "      <td>1</td>\n",
       "    </tr>\n",
       "    <tr>\n",
       "      <th>3</th>\n",
       "      <td>0.219255</td>\n",
       "      <td>0.093925</td>\n",
       "      <td>0.686820</td>\n",
       "      <td>1</td>\n",
       "    </tr>\n",
       "  </tbody>\n",
       "</table>\n",
       "</div>"
      ]
     },
     "execution_count": 7,
     "metadata": {},
     "output_type": "execute_result"
    }
   ],
   "execution_count": 7
  },
  {
   "metadata": {
    "ExecuteTime": {
     "end_time": "2024-12-29T13:11:42.641926Z",
     "start_time": "2024-12-29T13:11:42.635069Z"
    }
   },
   "cell_type": "code",
   "source": [
    "pd.DataFrame({\"m\": states_m, \"g\": states_g, \"c\": states_c})"
   ],
   "id": "9b9fc24217396d00",
   "outputs": [
    {
     "data": {
      "text/plain": [
       "         m       g       c\n",
       "0   277440  865669  865668\n",
       "1   514098  488005  488004\n",
       "2   161052  222105  222104\n",
       "3  1362053  920039  134142"
      ],
      "text/html": [
       "<div>\n",
       "<style scoped>\n",
       "    .dataframe tbody tr th:only-of-type {\n",
       "        vertical-align: middle;\n",
       "    }\n",
       "\n",
       "    .dataframe tbody tr th {\n",
       "        vertical-align: top;\n",
       "    }\n",
       "\n",
       "    .dataframe thead th {\n",
       "        text-align: right;\n",
       "    }\n",
       "</style>\n",
       "<table border=\"1\" class=\"dataframe\">\n",
       "  <thead>\n",
       "    <tr style=\"text-align: right;\">\n",
       "      <th></th>\n",
       "      <th>m</th>\n",
       "      <th>g</th>\n",
       "      <th>c</th>\n",
       "    </tr>\n",
       "  </thead>\n",
       "  <tbody>\n",
       "    <tr>\n",
       "      <th>0</th>\n",
       "      <td>277440</td>\n",
       "      <td>865669</td>\n",
       "      <td>865668</td>\n",
       "    </tr>\n",
       "    <tr>\n",
       "      <th>1</th>\n",
       "      <td>514098</td>\n",
       "      <td>488005</td>\n",
       "      <td>488004</td>\n",
       "    </tr>\n",
       "    <tr>\n",
       "      <th>2</th>\n",
       "      <td>161052</td>\n",
       "      <td>222105</td>\n",
       "      <td>222104</td>\n",
       "    </tr>\n",
       "    <tr>\n",
       "      <th>3</th>\n",
       "      <td>1362053</td>\n",
       "      <td>920039</td>\n",
       "      <td>134142</td>\n",
       "    </tr>\n",
       "  </tbody>\n",
       "</table>\n",
       "</div>"
      ]
     },
     "execution_count": 8,
     "metadata": {},
     "output_type": "execute_result"
    }
   ],
   "execution_count": 8
  },
  {
   "metadata": {
    "ExecuteTime": {
     "end_time": "2024-12-29T13:11:42.762927Z",
     "start_time": "2024-12-29T13:11:42.752889Z"
    }
   },
   "cell_type": "code",
   "source": [
    "pd.DataFrame(\n",
    "    {\n",
    "        \"m\": [\n",
    "            states_m[i] / max(states_m[i], states_g[i], states_c[i]) for i in range(4)\n",
    "        ],\n",
    "        \"g\": [\n",
    "            states_g[i] / max(states_m[i], states_g[i], states_c[i]) for i in range(4)\n",
    "        ],\n",
    "        \"c\": [\n",
    "            states_c[i] / max(states_m[i], states_g[i], states_c[i]) for i in range(4)\n",
    "        ],\n",
    "    }\n",
    ")"
   ],
   "id": "f0dba27a9c6cc2fc",
   "outputs": [
    {
     "data": {
      "text/plain": [
       "          m         g         c\n",
       "0  0.320492  1.000000  0.999999\n",
       "1  1.000000  0.949245  0.949243\n",
       "2  0.725116  1.000000  0.999995\n",
       "3  1.000000  0.675480  0.098485"
      ],
      "text/html": [
       "<div>\n",
       "<style scoped>\n",
       "    .dataframe tbody tr th:only-of-type {\n",
       "        vertical-align: middle;\n",
       "    }\n",
       "\n",
       "    .dataframe tbody tr th {\n",
       "        vertical-align: top;\n",
       "    }\n",
       "\n",
       "    .dataframe thead th {\n",
       "        text-align: right;\n",
       "    }\n",
       "</style>\n",
       "<table border=\"1\" class=\"dataframe\">\n",
       "  <thead>\n",
       "    <tr style=\"text-align: right;\">\n",
       "      <th></th>\n",
       "      <th>m</th>\n",
       "      <th>g</th>\n",
       "      <th>c</th>\n",
       "    </tr>\n",
       "  </thead>\n",
       "  <tbody>\n",
       "    <tr>\n",
       "      <th>0</th>\n",
       "      <td>0.320492</td>\n",
       "      <td>1.000000</td>\n",
       "      <td>0.999999</td>\n",
       "    </tr>\n",
       "    <tr>\n",
       "      <th>1</th>\n",
       "      <td>1.000000</td>\n",
       "      <td>0.949245</td>\n",
       "      <td>0.949243</td>\n",
       "    </tr>\n",
       "    <tr>\n",
       "      <th>2</th>\n",
       "      <td>0.725116</td>\n",
       "      <td>1.000000</td>\n",
       "      <td>0.999995</td>\n",
       "    </tr>\n",
       "    <tr>\n",
       "      <th>3</th>\n",
       "      <td>1.000000</td>\n",
       "      <td>0.675480</td>\n",
       "      <td>0.098485</td>\n",
       "    </tr>\n",
       "  </tbody>\n",
       "</table>\n",
       "</div>"
      ]
     },
     "execution_count": 9,
     "metadata": {},
     "output_type": "execute_result"
    }
   ],
   "execution_count": 9
  },
  {
   "metadata": {
    "ExecuteTime": {
     "end_time": "2024-12-29T13:11:42.865923Z",
     "start_time": "2024-12-29T13:11:42.859455Z"
    }
   },
   "cell_type": "code",
   "source": [
    "pd.DataFrame({\"m\": transitions_m, \"g\": transitions_g, \"c\": transitions_c})"
   ],
   "id": "a59d61d906142b8d",
   "outputs": [
    {
     "data": {
      "text/plain": [
       "         m        g        c\n",
       "0  1514240  4777468  2208453\n",
       "1  3328456  3172444  2893334\n",
       "2  1098078  1446156  1446154\n",
       "3  5405337  3629937   461476"
      ],
      "text/html": [
       "<div>\n",
       "<style scoped>\n",
       "    .dataframe tbody tr th:only-of-type {\n",
       "        vertical-align: middle;\n",
       "    }\n",
       "\n",
       "    .dataframe tbody tr th {\n",
       "        vertical-align: top;\n",
       "    }\n",
       "\n",
       "    .dataframe thead th {\n",
       "        text-align: right;\n",
       "    }\n",
       "</style>\n",
       "<table border=\"1\" class=\"dataframe\">\n",
       "  <thead>\n",
       "    <tr style=\"text-align: right;\">\n",
       "      <th></th>\n",
       "      <th>m</th>\n",
       "      <th>g</th>\n",
       "      <th>c</th>\n",
       "    </tr>\n",
       "  </thead>\n",
       "  <tbody>\n",
       "    <tr>\n",
       "      <th>0</th>\n",
       "      <td>1514240</td>\n",
       "      <td>4777468</td>\n",
       "      <td>2208453</td>\n",
       "    </tr>\n",
       "    <tr>\n",
       "      <th>1</th>\n",
       "      <td>3328456</td>\n",
       "      <td>3172444</td>\n",
       "      <td>2893334</td>\n",
       "    </tr>\n",
       "    <tr>\n",
       "      <th>2</th>\n",
       "      <td>1098078</td>\n",
       "      <td>1446156</td>\n",
       "      <td>1446154</td>\n",
       "    </tr>\n",
       "    <tr>\n",
       "      <th>3</th>\n",
       "      <td>5405337</td>\n",
       "      <td>3629937</td>\n",
       "      <td>461476</td>\n",
       "    </tr>\n",
       "  </tbody>\n",
       "</table>\n",
       "</div>"
      ]
     },
     "execution_count": 10,
     "metadata": {},
     "output_type": "execute_result"
    }
   ],
   "execution_count": 10
  },
  {
   "metadata": {
    "ExecuteTime": {
     "end_time": "2024-12-29T13:11:42.977907Z",
     "start_time": "2024-12-29T13:11:42.967681Z"
    }
   },
   "cell_type": "code",
   "source": [
    "pd.DataFrame(\n",
    "    {\n",
    "        \"m\": [\n",
    "            transitions_m[i] / max(transitions_m[i], transitions_g[i], transitions_c[i])\n",
    "            for i in range(4)\n",
    "        ],\n",
    "        \"g\": [\n",
    "            transitions_g[i] / max(transitions_m[i], transitions_g[i], transitions_c[i])\n",
    "            for i in range(4)\n",
    "        ],\n",
    "        \"c\": [\n",
    "            transitions_c[i] / max(transitions_m[i], transitions_g[i], transitions_c[i])\n",
    "            for i in range(4)\n",
    "        ],\n",
    "    }\n",
    ")"
   ],
   "id": "b633c28dad7d9f7f",
   "outputs": [
    {
     "data": {
      "text/plain": [
       "          m         g         c\n",
       "0  0.316955  1.000000  0.462264\n",
       "1  1.000000  0.953128  0.869272\n",
       "2  0.759308  1.000000  0.999999\n",
       "3  1.000000  0.671547  0.085374"
      ],
      "text/html": [
       "<div>\n",
       "<style scoped>\n",
       "    .dataframe tbody tr th:only-of-type {\n",
       "        vertical-align: middle;\n",
       "    }\n",
       "\n",
       "    .dataframe tbody tr th {\n",
       "        vertical-align: top;\n",
       "    }\n",
       "\n",
       "    .dataframe thead th {\n",
       "        text-align: right;\n",
       "    }\n",
       "</style>\n",
       "<table border=\"1\" class=\"dataframe\">\n",
       "  <thead>\n",
       "    <tr style=\"text-align: right;\">\n",
       "      <th></th>\n",
       "      <th>m</th>\n",
       "      <th>g</th>\n",
       "      <th>c</th>\n",
       "    </tr>\n",
       "  </thead>\n",
       "  <tbody>\n",
       "    <tr>\n",
       "      <th>0</th>\n",
       "      <td>0.316955</td>\n",
       "      <td>1.000000</td>\n",
       "      <td>0.462264</td>\n",
       "    </tr>\n",
       "    <tr>\n",
       "      <th>1</th>\n",
       "      <td>1.000000</td>\n",
       "      <td>0.953128</td>\n",
       "      <td>0.869272</td>\n",
       "    </tr>\n",
       "    <tr>\n",
       "      <th>2</th>\n",
       "      <td>0.759308</td>\n",
       "      <td>1.000000</td>\n",
       "      <td>0.999999</td>\n",
       "    </tr>\n",
       "    <tr>\n",
       "      <th>3</th>\n",
       "      <td>1.000000</td>\n",
       "      <td>0.671547</td>\n",
       "      <td>0.085374</td>\n",
       "    </tr>\n",
       "  </tbody>\n",
       "</table>\n",
       "</div>"
      ]
     },
     "execution_count": 11,
     "metadata": {},
     "output_type": "execute_result"
    }
   ],
   "execution_count": 11
  }
 ],
 "metadata": {
  "kernelspec": {
   "name": "python3",
   "language": "python",
   "display_name": "Python 3 (ipykernel)"
  }
 },
 "nbformat": 5,
 "nbformat_minor": 9
}
