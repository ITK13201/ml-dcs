{
 "cells": [
  {
   "cell_type": "code",
   "id": "initial_id",
   "metadata": {
    "collapsed": true,
    "ExecuteTime": {
     "end_time": "2024-12-22T15:51:32.363526Z",
     "start_time": "2024-12-22T15:51:32.361574Z"
    }
   },
   "source": [
    "from ml_dcs.config import config # NOQA\n",
    "\n",
    "SIMPLE_INPUT_PATH = lambda algorithm: f\"tmp/prod-results/results-20241220/20241220_calculation-time/simple/20241218-223051/training-result_{algorithm}.json\"\n",
    "GNN_INPUT_PATH_L1 = \"tmp/prod-results/results-20241220/20241220_calculation-time/gnn-L1/20241218-224116/training-result.json\"\n",
    "GNN_INPUT_PATH_L2 = \"tmp/prod-results/results-20241220/20241220_calculation-time/gnn-L2/20241218-230732/training-result.json\"\n",
    "GNN_INPUT_PATH_L3 = \"tmp/prod-results/results-20241220/20241220_calculation-time/gnn-L3/20241218-232205/training-result.json\"\n",
    "\n",
    "results = []"
   ],
   "outputs": [],
   "execution_count": 16
  },
  {
   "metadata": {
    "ExecuteTime": {
     "end_time": "2024-12-22T15:51:32.367056Z",
     "start_time": "2024-12-22T15:51:32.364192Z"
    }
   },
   "cell_type": "code",
   "source": [
    "import json\n",
    "from ml_dcs.domain.ml_simple import MLSimpleTrainingResultSet\n",
    "\n",
    "with open(SIMPLE_INPUT_PATH(\"RF\"), \"r\") as f:\n",
    "    data_dict = json.load(f)\n",
    "data_model = MLSimpleTrainingResultSet(**data_dict)\n",
    "\n",
    "results.append(data_model.duration_avg.total_seconds())"
   ],
   "id": "119f4dacd160d1e8",
   "outputs": [],
   "execution_count": 17
  },
  {
   "metadata": {
    "ExecuteTime": {
     "end_time": "2024-12-22T15:51:32.370458Z",
     "start_time": "2024-12-22T15:51:32.367551Z"
    }
   },
   "cell_type": "code",
   "source": [
    "import json\n",
    "from ml_dcs.domain.ml_simple import MLSimpleTrainingResultSet\n",
    "\n",
    "with open(SIMPLE_INPUT_PATH(\"GBDT\"), \"r\") as f:\n",
    "    data_dict = json.load(f)\n",
    "data_model = MLSimpleTrainingResultSet(**data_dict)\n",
    "\n",
    "results.append(data_model.duration_avg.total_seconds())"
   ],
   "id": "383b77d05dc5ec25",
   "outputs": [],
   "execution_count": 18
  },
  {
   "metadata": {
    "ExecuteTime": {
     "end_time": "2024-12-22T15:51:32.374016Z",
     "start_time": "2024-12-22T15:51:32.371332Z"
    }
   },
   "cell_type": "code",
   "source": [
    "import json\n",
    "from ml_dcs.domain.ml_simple import MLSimpleTrainingResultSet\n",
    "\n",
    "with open(SIMPLE_INPUT_PATH(\"DT\"), \"r\") as f:\n",
    "    data_dict = json.load(f)\n",
    "data_model = MLSimpleTrainingResultSet(**data_dict)\n",
    "\n",
    "results.append(data_model.duration_avg.total_seconds())"
   ],
   "id": "2648701cc580ce50",
   "outputs": [],
   "execution_count": 19
  },
  {
   "metadata": {
    "ExecuteTime": {
     "end_time": "2024-12-22T15:51:32.377522Z",
     "start_time": "2024-12-22T15:51:32.374466Z"
    }
   },
   "cell_type": "code",
   "source": [
    "import json\n",
    "from ml_dcs.domain.ml_simple import MLSimpleTrainingResultSet\n",
    "\n",
    "with open(SIMPLE_INPUT_PATH(\"LR\"), \"r\") as f:\n",
    "    data_dict = json.load(f)\n",
    "data_model = MLSimpleTrainingResultSet(**data_dict)\n",
    "\n",
    "results.append(data_model.duration_avg.total_seconds())"
   ],
   "id": "d1aa66dc5b28303f",
   "outputs": [],
   "execution_count": 20
  },
  {
   "metadata": {
    "ExecuteTime": {
     "end_time": "2024-12-22T15:51:32.382375Z",
     "start_time": "2024-12-22T15:51:32.378109Z"
    }
   },
   "cell_type": "code",
   "source": [
    "import json\n",
    "from ml_dcs.domain.ml_gnn import GNNTrainingResult\n",
    "\n",
    "with open(GNN_INPUT_PATH_L1, \"r\") as f:\n",
    "    data_dict = json.load(f)\n",
    "data_model = GNNTrainingResult(**data_dict)\n",
    "\n",
    "results.append(data_model.duration.total_seconds())"
   ],
   "id": "33e428d8a14222af",
   "outputs": [],
   "execution_count": 21
  },
  {
   "metadata": {
    "ExecuteTime": {
     "end_time": "2024-12-22T15:51:32.385785Z",
     "start_time": "2024-12-22T15:51:32.382862Z"
    }
   },
   "cell_type": "code",
   "source": [
    "import json\n",
    "from ml_dcs.domain.ml_gnn import GNNTrainingResult\n",
    "\n",
    "with open(GNN_INPUT_PATH_L2, \"r\") as f:\n",
    "    data_dict = json.load(f)\n",
    "data_model = GNNTrainingResult(**data_dict)\n",
    "\n",
    "results.append(data_model.duration.total_seconds())"
   ],
   "id": "b0a6c4d20c613742",
   "outputs": [],
   "execution_count": 22
  },
  {
   "metadata": {
    "ExecuteTime": {
     "end_time": "2024-12-22T15:51:32.388455Z",
     "start_time": "2024-12-22T15:51:32.386278Z"
    }
   },
   "cell_type": "code",
   "source": [
    "import json\n",
    "from ml_dcs.domain.ml_gnn import GNNTrainingResult\n",
    "\n",
    "with open(GNN_INPUT_PATH_L3, \"r\") as f:\n",
    "    data_dict = json.load(f)\n",
    "data_model = GNNTrainingResult(**data_dict)\n",
    "\n",
    "results.append(data_model.duration.total_seconds())"
   ],
   "id": "aa7aa011763f1756",
   "outputs": [],
   "execution_count": 23
  },
  {
   "metadata": {
    "ExecuteTime": {
     "end_time": "2024-12-22T15:51:32.393145Z",
     "start_time": "2024-12-22T15:51:32.388942Z"
    }
   },
   "cell_type": "code",
   "source": [
    "# FOR TABLE\n",
    "import pandas as pd\n",
    "\n",
    "pd.DataFrame({\n",
    "    \"T_train\": results,\n",
    "})"
   ],
   "id": "19f96f7ac56b23d8",
   "outputs": [
    {
     "data": {
      "text/plain": [
       "      T_train\n",
       "0    0.409272\n",
       "1    0.182498\n",
       "2    0.005576\n",
       "3    4.307324\n",
       "4  933.338234\n",
       "5  229.110310\n",
       "6  752.916832"
      ],
      "text/html": [
       "<div>\n",
       "<style scoped>\n",
       "    .dataframe tbody tr th:only-of-type {\n",
       "        vertical-align: middle;\n",
       "    }\n",
       "\n",
       "    .dataframe tbody tr th {\n",
       "        vertical-align: top;\n",
       "    }\n",
       "\n",
       "    .dataframe thead th {\n",
       "        text-align: right;\n",
       "    }\n",
       "</style>\n",
       "<table border=\"1\" class=\"dataframe\">\n",
       "  <thead>\n",
       "    <tr style=\"text-align: right;\">\n",
       "      <th></th>\n",
       "      <th>T_train</th>\n",
       "    </tr>\n",
       "  </thead>\n",
       "  <tbody>\n",
       "    <tr>\n",
       "      <th>0</th>\n",
       "      <td>0.409272</td>\n",
       "    </tr>\n",
       "    <tr>\n",
       "      <th>1</th>\n",
       "      <td>0.182498</td>\n",
       "    </tr>\n",
       "    <tr>\n",
       "      <th>2</th>\n",
       "      <td>0.005576</td>\n",
       "    </tr>\n",
       "    <tr>\n",
       "      <th>3</th>\n",
       "      <td>4.307324</td>\n",
       "    </tr>\n",
       "    <tr>\n",
       "      <th>4</th>\n",
       "      <td>933.338234</td>\n",
       "    </tr>\n",
       "    <tr>\n",
       "      <th>5</th>\n",
       "      <td>229.110310</td>\n",
       "    </tr>\n",
       "    <tr>\n",
       "      <th>6</th>\n",
       "      <td>752.916832</td>\n",
       "    </tr>\n",
       "  </tbody>\n",
       "</table>\n",
       "</div>"
      ]
     },
     "execution_count": 24,
     "metadata": {},
     "output_type": "execute_result"
    }
   ],
   "execution_count": 24
  }
 ],
 "metadata": {
  "kernelspec": {
   "display_name": "Python 3",
   "language": "python",
   "name": "python3"
  },
  "language_info": {
   "codemirror_mode": {
    "name": "ipython",
    "version": 2
   },
   "file_extension": ".py",
   "mimetype": "text/x-python",
   "name": "python",
   "nbconvert_exporter": "python",
   "pygments_lexer": "ipython2",
   "version": "2.7.6"
  }
 },
 "nbformat": 4,
 "nbformat_minor": 5
}
