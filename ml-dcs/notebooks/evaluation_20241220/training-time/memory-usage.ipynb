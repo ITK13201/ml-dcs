{
 "cells": [
  {
   "cell_type": "code",
   "id": "initial_id",
   "metadata": {
    "collapsed": true,
    "ExecuteTime": {
     "end_time": "2024-12-22T15:53:46.332792Z",
     "start_time": "2024-12-22T15:53:45.259681Z"
    }
   },
   "source": [
    "from ml_dcs.config import config # NOQA\n",
    "\n",
    "SIMPLE_INPUT_PATH = lambda algorithm: f\"tmp/prod-results/results-20241220/20241220_memory-usage/simple/20241219-061555/training-result_{algorithm}.json\"\n",
    "GNN_INPUT_PATH_L1 = \"tmp/prod-results/results-20241220/20241220_memory-usage/gnn-L1/20241219-062623/training-result.json\"\n",
    "GNN_INPUT_PATH_L2 = \"tmp/prod-results/results-20241220/20241220_memory-usage/gnn-L2/20241219-064457/training-result.json\"\n",
    "GNN_INPUT_PATH_L3 = \"tmp/prod-results/results-20241220/20241220_memory-usage/gnn-L3/20241219-072210/training-result.json\"\n",
    "\n",
    "results = []"
   ],
   "outputs": [
    {
     "name": "stdout",
     "output_type": "stream",
     "text": [
      "PyTorch Device: cuda\n"
     ]
    }
   ],
   "execution_count": 1
  },
  {
   "metadata": {
    "ExecuteTime": {
     "end_time": "2024-12-22T15:53:46.745075Z",
     "start_time": "2024-12-22T15:53:46.333546Z"
    }
   },
   "cell_type": "code",
   "source": [
    "import json\n",
    "from ml_dcs.domain.ml_simple import MLSimpleTrainingResultSet\n",
    "\n",
    "with open(SIMPLE_INPUT_PATH(\"RF\"), \"r\") as f:\n",
    "    data_dict = json.load(f)\n",
    "data_model = MLSimpleTrainingResultSet(**data_dict)\n",
    "\n",
    "results.append(data_model.duration_avg.total_seconds())"
   ],
   "id": "119f4dacd160d1e8",
   "outputs": [],
   "execution_count": 2
  },
  {
   "metadata": {
    "ExecuteTime": {
     "end_time": "2024-12-22T15:53:46.747702Z",
     "start_time": "2024-12-22T15:53:46.745723Z"
    }
   },
   "cell_type": "code",
   "source": [
    "import json\n",
    "from ml_dcs.domain.ml_simple import MLSimpleTrainingResultSet\n",
    "\n",
    "with open(SIMPLE_INPUT_PATH(\"GBDT\"), \"r\") as f:\n",
    "    data_dict = json.load(f)\n",
    "data_model = MLSimpleTrainingResultSet(**data_dict)\n",
    "\n",
    "results.append(data_model.duration_avg.total_seconds())"
   ],
   "id": "383b77d05dc5ec25",
   "outputs": [],
   "execution_count": 3
  },
  {
   "metadata": {
    "ExecuteTime": {
     "end_time": "2024-12-22T15:53:46.752056Z",
     "start_time": "2024-12-22T15:53:46.748230Z"
    }
   },
   "cell_type": "code",
   "source": [
    "import json\n",
    "from ml_dcs.domain.ml_simple import MLSimpleTrainingResultSet\n",
    "\n",
    "with open(SIMPLE_INPUT_PATH(\"DT\"), \"r\") as f:\n",
    "    data_dict = json.load(f)\n",
    "data_model = MLSimpleTrainingResultSet(**data_dict)\n",
    "\n",
    "results.append(data_model.duration_avg.total_seconds())"
   ],
   "id": "2648701cc580ce50",
   "outputs": [],
   "execution_count": 4
  },
  {
   "metadata": {
    "ExecuteTime": {
     "end_time": "2024-12-22T15:53:46.755271Z",
     "start_time": "2024-12-22T15:53:46.753127Z"
    }
   },
   "cell_type": "code",
   "source": [
    "import json\n",
    "from ml_dcs.domain.ml_simple import MLSimpleTrainingResultSet\n",
    "\n",
    "with open(SIMPLE_INPUT_PATH(\"LR\"), \"r\") as f:\n",
    "    data_dict = json.load(f)\n",
    "data_model = MLSimpleTrainingResultSet(**data_dict)\n",
    "\n",
    "results.append(data_model.duration_avg.total_seconds())"
   ],
   "id": "d1aa66dc5b28303f",
   "outputs": [],
   "execution_count": 5
  },
  {
   "metadata": {
    "ExecuteTime": {
     "end_time": "2024-12-22T15:53:47.332484Z",
     "start_time": "2024-12-22T15:53:46.755747Z"
    }
   },
   "cell_type": "code",
   "source": [
    "import json\n",
    "from ml_dcs.domain.ml_gnn import GNNTrainingResult\n",
    "\n",
    "with open(GNN_INPUT_PATH_L1, \"r\") as f:\n",
    "    data_dict = json.load(f)\n",
    "data_model = GNNTrainingResult(**data_dict)\n",
    "\n",
    "results.append(data_model.duration.total_seconds())"
   ],
   "id": "33e428d8a14222af",
   "outputs": [],
   "execution_count": 6
  },
  {
   "metadata": {
    "ExecuteTime": {
     "end_time": "2024-12-22T15:53:47.335813Z",
     "start_time": "2024-12-22T15:53:47.333119Z"
    }
   },
   "cell_type": "code",
   "source": [
    "import json\n",
    "from ml_dcs.domain.ml_gnn import GNNTrainingResult\n",
    "\n",
    "with open(GNN_INPUT_PATH_L2, \"r\") as f:\n",
    "    data_dict = json.load(f)\n",
    "data_model = GNNTrainingResult(**data_dict)\n",
    "\n",
    "results.append(data_model.duration.total_seconds())"
   ],
   "id": "b0a6c4d20c613742",
   "outputs": [],
   "execution_count": 7
  },
  {
   "metadata": {
    "ExecuteTime": {
     "end_time": "2024-12-22T15:53:47.339529Z",
     "start_time": "2024-12-22T15:53:47.336318Z"
    }
   },
   "cell_type": "code",
   "source": [
    "import json\n",
    "from ml_dcs.domain.ml_gnn import GNNTrainingResult\n",
    "\n",
    "with open(GNN_INPUT_PATH_L3, \"r\") as f:\n",
    "    data_dict = json.load(f)\n",
    "data_model = GNNTrainingResult(**data_dict)\n",
    "\n",
    "results.append(data_model.duration.total_seconds())"
   ],
   "id": "aa7aa011763f1756",
   "outputs": [],
   "execution_count": 8
  },
  {
   "metadata": {
    "ExecuteTime": {
     "end_time": "2024-12-22T15:53:47.346240Z",
     "start_time": "2024-12-22T15:53:47.339997Z"
    }
   },
   "cell_type": "code",
   "source": [
    "# FOR TABLE\n",
    "import pandas as pd\n",
    "\n",
    "pd.DataFrame({\n",
    "    \"T_train\": results,\n",
    "})"
   ],
   "id": "19f96f7ac56b23d8",
   "outputs": [
    {
     "data": {
      "text/plain": [
       "       T_train\n",
       "0     0.398622\n",
       "1     0.175409\n",
       "2     0.005319\n",
       "3     7.746016\n",
       "4   472.739792\n",
       "5  1588.990195\n",
       "6  1577.588655"
      ],
      "text/html": [
       "<div>\n",
       "<style scoped>\n",
       "    .dataframe tbody tr th:only-of-type {\n",
       "        vertical-align: middle;\n",
       "    }\n",
       "\n",
       "    .dataframe tbody tr th {\n",
       "        vertical-align: top;\n",
       "    }\n",
       "\n",
       "    .dataframe thead th {\n",
       "        text-align: right;\n",
       "    }\n",
       "</style>\n",
       "<table border=\"1\" class=\"dataframe\">\n",
       "  <thead>\n",
       "    <tr style=\"text-align: right;\">\n",
       "      <th></th>\n",
       "      <th>T_train</th>\n",
       "    </tr>\n",
       "  </thead>\n",
       "  <tbody>\n",
       "    <tr>\n",
       "      <th>0</th>\n",
       "      <td>0.398622</td>\n",
       "    </tr>\n",
       "    <tr>\n",
       "      <th>1</th>\n",
       "      <td>0.175409</td>\n",
       "    </tr>\n",
       "    <tr>\n",
       "      <th>2</th>\n",
       "      <td>0.005319</td>\n",
       "    </tr>\n",
       "    <tr>\n",
       "      <th>3</th>\n",
       "      <td>7.746016</td>\n",
       "    </tr>\n",
       "    <tr>\n",
       "      <th>4</th>\n",
       "      <td>472.739792</td>\n",
       "    </tr>\n",
       "    <tr>\n",
       "      <th>5</th>\n",
       "      <td>1588.990195</td>\n",
       "    </tr>\n",
       "    <tr>\n",
       "      <th>6</th>\n",
       "      <td>1577.588655</td>\n",
       "    </tr>\n",
       "  </tbody>\n",
       "</table>\n",
       "</div>"
      ]
     },
     "execution_count": 9,
     "metadata": {},
     "output_type": "execute_result"
    }
   ],
   "execution_count": 9
  }
 ],
 "metadata": {
  "kernelspec": {
   "display_name": "Python 3",
   "language": "python",
   "name": "python3"
  },
  "language_info": {
   "codemirror_mode": {
    "name": "ipython",
    "version": 2
   },
   "file_extension": ".py",
   "mimetype": "text/x-python",
   "name": "python",
   "nbconvert_exporter": "python",
   "pygments_lexer": "ipython2",
   "version": "2.7.6"
  }
 },
 "nbformat": 4,
 "nbformat_minor": 5
}
