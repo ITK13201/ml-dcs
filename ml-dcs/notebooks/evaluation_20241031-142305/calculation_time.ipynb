{
 "cells": [
  {
   "metadata": {
    "ExecuteTime": {
     "end_time": "2024-11-11T12:35:25.900673Z",
     "start_time": "2024-11-11T12:35:25.685633Z"
    }
   },
   "cell_type": "code",
   "source": [
    "from ml_dcs.config import config # NOQA\n",
    "\n",
    "INPUT_DIR_PATH = \"./tmp/20241031-142305/input\"\n",
    "OUTPUT_DIR_PATH = \"./tmp/20241031-142305/output\"\n",
    "BENCH_RESULT_FILE_PATH = \"./tmp/result_20241031-142305.json\""
   ],
   "id": "10951daeb29e6b58",
   "outputs": [],
   "execution_count": 1
  },
  {
   "metadata": {
    "ExecuteTime": {
     "end_time": "2024-11-11T12:35:32.050505Z",
     "start_time": "2024-11-11T12:35:25.905049Z"
    }
   },
   "cell_type": "code",
   "source": [
    "from ml_dcs.internal.mtsa.data_utils import MTSADataUtil, MTSABenchDataUtil\n",
    "\n",
    "util = MTSADataUtil(input_dir_path=INPUT_DIR_PATH)\n",
    "results = list(util._parse_data())\n",
    "for result in results:\n",
    "    result.initial_models.initialize_quantified_structures()\n",
    "    for environment in result.initial_models.environments:\n",
    "        print(environment.quantified_structure)\n",
    "        break\n",
    "    for requirement in result.initial_models.requirements:\n",
    "        print(requirement.quantified_structure)\n",
    "        break\n",
    "    break"
   ],
   "id": "898ac5d6d7209bab",
   "outputs": [
    {
     "name": "stdout",
     "output_type": "stream",
     "text": [
      "[INFO] 2024-11-11 21:35:25,929 utils 558 123547311499072 Note: NumExpr detected 20 cores but \"NUMEXPR_MAX_THREADS\" not set, so enforcing safe limit of 8.\n",
      "[INFO] 2024-11-11 21:35:25,930 utils 558 123547311499072 NumExpr defaulting to 8 threads.\n",
      "[[0, 8, 0.6808829066491903, 0], [0, 1, -0.1856953381770519, 0], [1, 7, 1.2998673672393632, 1], [1, 6, -0.061898446059017294, 1], [1, 5, -1.052273583003294, 1], [1, 3, 0.3094922302950865, 1], [1, 2, -0.3094922302950865, 1], [2, 3, 0.3094922302950865, 1], [3, 4, 1.5474611514754324, 1], [4, 8, 0.8046797987672248, 0], [5, 6, -0.061898446059017294, 1], [6, 2, -0.3094922302950865, 1], [7, 5, -1.052273583003294, 1], [8, 0, -1.1760704751213287, 0]]\n",
      "[[0, 0, 1.2998673672393632, 1], [0, 0, -0.061898446059017294, 1], [0, 0, 0.5570860145311557, 1], [0, 0, -1.052273583003294, 1], [0, 0, 0.1856953381770519, 1], [0, 0, 0.3094922302950865, 1], [0, 1, -0.3094922302950865, 1], [1, 0, 1.2998673672393632, 1], [1, 0, -0.061898446059017294, 1], [1, -1, 0.5570860145311557, 1], [1, 0, -1.052273583003294, 1], [1, -1, 0.1856953381770519, 1], [1, 0, 0.3094922302950865, 1], [1, 1, -0.3094922302950865, 1]]\n"
     ]
    }
   ],
   "execution_count": 2
  }
 ],
 "metadata": {
  "kernelspec": {
   "display_name": "Python 3",
   "language": "python",
   "name": "python3"
  },
  "language_info": {
   "codemirror_mode": {
    "name": "ipython",
    "version": 2
   },
   "file_extension": ".py",
   "mimetype": "text/x-python",
   "name": "python",
   "nbconvert_exporter": "python",
   "pygments_lexer": "ipython2",
   "version": "2.7.6"
  }
 },
 "nbformat": 4,
 "nbformat_minor": 5
}
