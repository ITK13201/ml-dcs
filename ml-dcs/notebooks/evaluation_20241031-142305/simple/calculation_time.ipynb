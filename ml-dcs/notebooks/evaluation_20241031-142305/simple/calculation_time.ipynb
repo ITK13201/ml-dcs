{
 "cells": [
  {
   "cell_type": "code",
   "id": "initial_id",
   "metadata": {
    "collapsed": true,
    "ExecuteTime": {
     "end_time": "2024-11-16T14:27:29.444070Z",
     "start_time": "2024-11-16T14:27:29.439899Z"
    }
   },
   "source": [
    "from ml_dcs.domain.ml_simple import MLCalculationTimePredictionInput2\n",
    "import os\n",
    "import datetime\n",
    "\n",
    "from ml_dcs.config import config  # NOQA\n",
    "\n",
    "# input\n",
    "INPUT_DIR_PATH = \"./tmp/evaluation/20241031-142305/input\"\n",
    "BENCH_RESULT_FILE_PATH = \"./tmp/evaluation/result_20241031-142305.json\"\n",
    "# output\n",
    "now_str = datetime.datetime.now().strftime(\"%y%m%d-%H%M%S\")\n",
    "output_dir_path = (\n",
    "    f\"./tmp/evaluation/20241031-142305/output/simple/calculation-time/{now_str}\"\n",
    ")\n",
    "os.makedirs(output_dir_path, exist_ok=True)\n",
    "\n",
    "training_result_output_file_path = (\n",
    "    lambda algorithm: f\"{output_dir_path}/training-result_{algorithm}.json\"\n",
    ")\n",
    "testing_result_output_file_path = (\n",
    "    lambda algorithm: f\"{output_dir_path}/testing-result_{algorithm}.json\"\n",
    ")\n",
    "\n",
    "ML_INPUT_CLASS = MLCalculationTimePredictionInput2"
   ],
   "outputs": [],
   "execution_count": 9
  },
  {
   "metadata": {
    "ExecuteTime": {
     "end_time": "2024-11-16T14:28:10.025Z",
     "start_time": "2024-11-16T14:27:29.444874Z"
    }
   },
   "cell_type": "code",
   "source": [
    "from ml_dcs.internal.ml.simple import RegressionAlgorithm\n",
    "from ml_dcs.usecases.simple_evaluator import MLSimpleEvaluator\n",
    "\n",
    "evaluator = MLSimpleEvaluator(\n",
    "    input_dir_path=INPUT_DIR_PATH,\n",
    "    training_result_output_file_path=training_result_output_file_path(\"GBDT\"),\n",
    "    testing_result_output_file_path=testing_result_output_file_path(\"GBDT\"),\n",
    "    algorithm=RegressionAlgorithm.GRADIENT_BOOSTING_DECISION_TREE,\n",
    "    ml_input_class=ML_INPUT_CLASS,\n",
    ")\n",
    "evaluator.evaluate()"
   ],
   "id": "c19b2aa4d07a0bb7",
   "outputs": [
    {
     "name": "stdout",
     "output_type": "stream",
     "text": [
      "[INFO] 2024-11-16 14:27:29,446 ml_dcs.usecases.simple_evaluator:64 evaluate simple_evaluator 503 123359553406784: loading data...\n",
      "[INFO] 2024-11-16 14:27:38,890 ml_dcs.usecases.simple_evaluator:72 evaluate simple_evaluator 503 123359553406784: evaluation started\n",
      "[INFO] 2024-11-16 14:27:39,913 ml_dcs.usecases.simple_evaluator:92 evaluate simple_evaluator 503 123359553406784: evaluating... : {\"progress\": \"10/300\", \"best_accuracy\": 0.6473954834869005}\n",
      "[INFO] 2024-11-16 14:27:40,942 ml_dcs.usecases.simple_evaluator:92 evaluate simple_evaluator 503 123359553406784: evaluating... : {\"progress\": \"20/300\", \"best_accuracy\": 0.6473954834869005}\n",
      "[INFO] 2024-11-16 14:27:42,043 ml_dcs.usecases.simple_evaluator:92 evaluate simple_evaluator 503 123359553406784: evaluating... : {\"progress\": \"30/300\", \"best_accuracy\": 0.6473954834869005}\n",
      "[INFO] 2024-11-16 14:27:43,084 ml_dcs.usecases.simple_evaluator:92 evaluate simple_evaluator 503 123359553406784: evaluating... : {\"progress\": \"40/300\", \"best_accuracy\": 0.6473954834869005}\n",
      "[INFO] 2024-11-16 14:27:44,099 ml_dcs.usecases.simple_evaluator:92 evaluate simple_evaluator 503 123359553406784: evaluating... : {\"progress\": \"50/300\", \"best_accuracy\": 0.6473954834869005}\n",
      "[INFO] 2024-11-16 14:27:45,139 ml_dcs.usecases.simple_evaluator:92 evaluate simple_evaluator 503 123359553406784: evaluating... : {\"progress\": \"60/300\", \"best_accuracy\": 0.6473954834869005}\n",
      "[INFO] 2024-11-16 14:27:46,171 ml_dcs.usecases.simple_evaluator:92 evaluate simple_evaluator 503 123359553406784: evaluating... : {\"progress\": \"70/300\", \"best_accuracy\": 0.6473954834869005}\n",
      "[INFO] 2024-11-16 14:27:47,191 ml_dcs.usecases.simple_evaluator:92 evaluate simple_evaluator 503 123359553406784: evaluating... : {\"progress\": \"80/300\", \"best_accuracy\": 0.6473954834869005}\n",
      "[INFO] 2024-11-16 14:27:48,203 ml_dcs.usecases.simple_evaluator:92 evaluate simple_evaluator 503 123359553406784: evaluating... : {\"progress\": \"90/300\", \"best_accuracy\": 0.6473954834869005}\n",
      "[INFO] 2024-11-16 14:27:49,220 ml_dcs.usecases.simple_evaluator:92 evaluate simple_evaluator 503 123359553406784: evaluating... : {\"progress\": \"100/300\", \"best_accuracy\": 0.6473954834869005}\n",
      "[INFO] 2024-11-16 14:27:50,233 ml_dcs.usecases.simple_evaluator:92 evaluate simple_evaluator 503 123359553406784: evaluating... : {\"progress\": \"110/300\", \"best_accuracy\": 0.6473954834869005}\n",
      "[INFO] 2024-11-16 14:27:51,248 ml_dcs.usecases.simple_evaluator:92 evaluate simple_evaluator 503 123359553406784: evaluating... : {\"progress\": \"120/300\", \"best_accuracy\": 0.6473954834869005}\n",
      "[INFO] 2024-11-16 14:27:52,261 ml_dcs.usecases.simple_evaluator:92 evaluate simple_evaluator 503 123359553406784: evaluating... : {\"progress\": \"130/300\", \"best_accuracy\": 0.6473954834869005}\n",
      "[INFO] 2024-11-16 14:27:53,283 ml_dcs.usecases.simple_evaluator:92 evaluate simple_evaluator 503 123359553406784: evaluating... : {\"progress\": \"140/300\", \"best_accuracy\": 0.6473954834869005}\n",
      "[INFO] 2024-11-16 14:27:54,308 ml_dcs.usecases.simple_evaluator:92 evaluate simple_evaluator 503 123359553406784: evaluating... : {\"progress\": \"150/300\", \"best_accuracy\": 0.6473954834869005}\n",
      "[INFO] 2024-11-16 14:27:55,325 ml_dcs.usecases.simple_evaluator:92 evaluate simple_evaluator 503 123359553406784: evaluating... : {\"progress\": \"160/300\", \"best_accuracy\": 0.6473954834869005}\n",
      "[INFO] 2024-11-16 14:27:56,412 ml_dcs.usecases.simple_evaluator:92 evaluate simple_evaluator 503 123359553406784: evaluating... : {\"progress\": \"170/300\", \"best_accuracy\": 0.6473954834869005}\n",
      "[INFO] 2024-11-16 14:27:57,457 ml_dcs.usecases.simple_evaluator:92 evaluate simple_evaluator 503 123359553406784: evaluating... : {\"progress\": \"180/300\", \"best_accuracy\": 0.6473954834869005}\n",
      "[INFO] 2024-11-16 14:27:58,511 ml_dcs.usecases.simple_evaluator:92 evaluate simple_evaluator 503 123359553406784: evaluating... : {\"progress\": \"190/300\", \"best_accuracy\": 0.6473954834869005}\n",
      "[INFO] 2024-11-16 14:27:59,540 ml_dcs.usecases.simple_evaluator:92 evaluate simple_evaluator 503 123359553406784: evaluating... : {\"progress\": \"200/300\", \"best_accuracy\": 0.6473954834869005}\n",
      "[INFO] 2024-11-16 14:28:00,575 ml_dcs.usecases.simple_evaluator:92 evaluate simple_evaluator 503 123359553406784: evaluating... : {\"progress\": \"210/300\", \"best_accuracy\": 0.6473954834869005}\n",
      "[INFO] 2024-11-16 14:28:01,599 ml_dcs.usecases.simple_evaluator:92 evaluate simple_evaluator 503 123359553406784: evaluating... : {\"progress\": \"220/300\", \"best_accuracy\": 0.6473954834869005}\n",
      "[INFO] 2024-11-16 14:28:02,624 ml_dcs.usecases.simple_evaluator:92 evaluate simple_evaluator 503 123359553406784: evaluating... : {\"progress\": \"230/300\", \"best_accuracy\": 0.6473954834869005}\n",
      "[INFO] 2024-11-16 14:28:03,653 ml_dcs.usecases.simple_evaluator:92 evaluate simple_evaluator 503 123359553406784: evaluating... : {\"progress\": \"240/300\", \"best_accuracy\": 0.6473954834869005}\n",
      "[INFO] 2024-11-16 14:28:04,682 ml_dcs.usecases.simple_evaluator:92 evaluate simple_evaluator 503 123359553406784: evaluating... : {\"progress\": \"250/300\", \"best_accuracy\": 0.6473954834869005}\n",
      "[INFO] 2024-11-16 14:28:05,746 ml_dcs.usecases.simple_evaluator:92 evaluate simple_evaluator 503 123359553406784: evaluating... : {\"progress\": \"260/300\", \"best_accuracy\": 0.6473954834869005}\n",
      "[INFO] 2024-11-16 14:28:06,820 ml_dcs.usecases.simple_evaluator:92 evaluate simple_evaluator 503 123359553406784: evaluating... : {\"progress\": \"270/300\", \"best_accuracy\": 0.6473954834869005}\n",
      "[INFO] 2024-11-16 14:28:07,939 ml_dcs.usecases.simple_evaluator:92 evaluate simple_evaluator 503 123359553406784: evaluating... : {\"progress\": \"280/300\", \"best_accuracy\": 0.6473954834869005}\n",
      "[INFO] 2024-11-16 14:28:08,962 ml_dcs.usecases.simple_evaluator:92 evaluate simple_evaluator 503 123359553406784: evaluating... : {\"progress\": \"290/300\", \"best_accuracy\": 0.6473954834869005}\n",
      "[INFO] 2024-11-16 14:28:10,021 ml_dcs.usecases.simple_evaluator:92 evaluate simple_evaluator 503 123359553406784: evaluating... : {\"progress\": \"300/300\", \"best_accuracy\": 0.6473954834869005}\n",
      "[INFO] 2024-11-16 14:28:10,023 ml_dcs.usecases.simple_evaluator:112 evaluate simple_evaluator 503 123359553406784: evaluation finished\n"
     ]
    }
   ],
   "execution_count": 10
  },
  {
   "metadata": {
    "ExecuteTime": {
     "end_time": "2024-11-16T14:29:37.279841Z",
     "start_time": "2024-11-16T14:28:10.025501Z"
    }
   },
   "cell_type": "code",
   "source": [
    "from ml_dcs.internal.ml.simple import RegressionAlgorithm\n",
    "from ml_dcs.usecases.simple_evaluator import MLSimpleEvaluator\n",
    "\n",
    "evaluator = MLSimpleEvaluator(\n",
    "    input_dir_path=INPUT_DIR_PATH,\n",
    "    training_result_output_file_path=training_result_output_file_path(\"RF\"),\n",
    "    testing_result_output_file_path=testing_result_output_file_path(\"RF\"),\n",
    "    algorithm=RegressionAlgorithm.RANDOM_FOREST,\n",
    "    ml_input_class=ML_INPUT_CLASS,\n",
    ")\n",
    "evaluator.evaluate()"
   ],
   "id": "a40e30e68fe9a65f",
   "outputs": [
    {
     "name": "stdout",
     "output_type": "stream",
     "text": [
      "[INFO] 2024-11-16 14:28:10,026 ml_dcs.usecases.simple_evaluator:64 evaluate simple_evaluator 503 123359553406784: loading data...\n",
      "[INFO] 2024-11-16 14:28:19,403 ml_dcs.usecases.simple_evaluator:72 evaluate simple_evaluator 503 123359553406784: evaluation started\n",
      "[INFO] 2024-11-16 14:28:21,948 ml_dcs.usecases.simple_evaluator:92 evaluate simple_evaluator 503 123359553406784: evaluating... : {\"progress\": \"10/300\", \"best_accuracy\": 0.6517631057484394}\n",
      "[INFO] 2024-11-16 14:28:24,562 ml_dcs.usecases.simple_evaluator:92 evaluate simple_evaluator 503 123359553406784: evaluating... : {\"progress\": \"20/300\", \"best_accuracy\": 0.6517631057484394}\n",
      "[INFO] 2024-11-16 14:28:27,165 ml_dcs.usecases.simple_evaluator:92 evaluate simple_evaluator 503 123359553406784: evaluating... : {\"progress\": \"30/300\", \"best_accuracy\": 0.6517631057484394}\n",
      "[INFO] 2024-11-16 14:28:29,789 ml_dcs.usecases.simple_evaluator:92 evaluate simple_evaluator 503 123359553406784: evaluating... : {\"progress\": \"40/300\", \"best_accuracy\": 0.6517631057484394}\n",
      "[INFO] 2024-11-16 14:28:32,493 ml_dcs.usecases.simple_evaluator:92 evaluate simple_evaluator 503 123359553406784: evaluating... : {\"progress\": \"50/300\", \"best_accuracy\": 0.6518500941541865}\n",
      "[INFO] 2024-11-16 14:28:35,120 ml_dcs.usecases.simple_evaluator:92 evaluate simple_evaluator 503 123359553406784: evaluating... : {\"progress\": \"60/300\", \"best_accuracy\": 0.6528543230865027}\n",
      "[INFO] 2024-11-16 14:28:37,796 ml_dcs.usecases.simple_evaluator:92 evaluate simple_evaluator 503 123359553406784: evaluating... : {\"progress\": \"70/300\", \"best_accuracy\": 0.6528543230865027}\n",
      "[INFO] 2024-11-16 14:28:40,418 ml_dcs.usecases.simple_evaluator:92 evaluate simple_evaluator 503 123359553406784: evaluating... : {\"progress\": \"80/300\", \"best_accuracy\": 0.6528543230865027}\n",
      "[INFO] 2024-11-16 14:28:43,015 ml_dcs.usecases.simple_evaluator:92 evaluate simple_evaluator 503 123359553406784: evaluating... : {\"progress\": \"90/300\", \"best_accuracy\": 0.6528543230865027}\n",
      "[INFO] 2024-11-16 14:28:45,626 ml_dcs.usecases.simple_evaluator:92 evaluate simple_evaluator 503 123359553406784: evaluating... : {\"progress\": \"100/300\", \"best_accuracy\": 0.6528543230865027}\n",
      "[INFO] 2024-11-16 14:28:48,227 ml_dcs.usecases.simple_evaluator:92 evaluate simple_evaluator 503 123359553406784: evaluating... : {\"progress\": \"110/300\", \"best_accuracy\": 0.6528543230865027}\n",
      "[INFO] 2024-11-16 14:28:50,772 ml_dcs.usecases.simple_evaluator:92 evaluate simple_evaluator 503 123359553406784: evaluating... : {\"progress\": \"120/300\", \"best_accuracy\": 0.6528543230865027}\n",
      "[INFO] 2024-11-16 14:28:53,387 ml_dcs.usecases.simple_evaluator:92 evaluate simple_evaluator 503 123359553406784: evaluating... : {\"progress\": \"130/300\", \"best_accuracy\": 0.6528543230865027}\n",
      "[INFO] 2024-11-16 14:28:56,030 ml_dcs.usecases.simple_evaluator:92 evaluate simple_evaluator 503 123359553406784: evaluating... : {\"progress\": \"140/300\", \"best_accuracy\": 0.6528543230865027}\n",
      "[INFO] 2024-11-16 14:28:58,614 ml_dcs.usecases.simple_evaluator:92 evaluate simple_evaluator 503 123359553406784: evaluating... : {\"progress\": \"150/300\", \"best_accuracy\": 0.6528543230865027}\n",
      "[INFO] 2024-11-16 14:29:01,165 ml_dcs.usecases.simple_evaluator:92 evaluate simple_evaluator 503 123359553406784: evaluating... : {\"progress\": \"160/300\", \"best_accuracy\": 0.6528543230865027}\n",
      "[INFO] 2024-11-16 14:29:03,745 ml_dcs.usecases.simple_evaluator:92 evaluate simple_evaluator 503 123359553406784: evaluating... : {\"progress\": \"170/300\", \"best_accuracy\": 0.6528543230865027}\n",
      "[INFO] 2024-11-16 14:29:06,379 ml_dcs.usecases.simple_evaluator:92 evaluate simple_evaluator 503 123359553406784: evaluating... : {\"progress\": \"180/300\", \"best_accuracy\": 0.6528543230865027}\n",
      "[INFO] 2024-11-16 14:29:09,013 ml_dcs.usecases.simple_evaluator:92 evaluate simple_evaluator 503 123359553406784: evaluating... : {\"progress\": \"190/300\", \"best_accuracy\": 0.6528543230865027}\n",
      "[INFO] 2024-11-16 14:29:11,627 ml_dcs.usecases.simple_evaluator:92 evaluate simple_evaluator 503 123359553406784: evaluating... : {\"progress\": \"200/300\", \"best_accuracy\": 0.6528543230865027}\n",
      "[INFO] 2024-11-16 14:29:14,163 ml_dcs.usecases.simple_evaluator:92 evaluate simple_evaluator 503 123359553406784: evaluating... : {\"progress\": \"210/300\", \"best_accuracy\": 0.6528543230865027}\n",
      "[INFO] 2024-11-16 14:29:16,740 ml_dcs.usecases.simple_evaluator:92 evaluate simple_evaluator 503 123359553406784: evaluating... : {\"progress\": \"220/300\", \"best_accuracy\": 0.6528543230865027}\n",
      "[INFO] 2024-11-16 14:29:19,311 ml_dcs.usecases.simple_evaluator:92 evaluate simple_evaluator 503 123359553406784: evaluating... : {\"progress\": \"230/300\", \"best_accuracy\": 0.6528543230865027}\n",
      "[INFO] 2024-11-16 14:29:21,921 ml_dcs.usecases.simple_evaluator:92 evaluate simple_evaluator 503 123359553406784: evaluating... : {\"progress\": \"240/300\", \"best_accuracy\": 0.6528543230865027}\n",
      "[INFO] 2024-11-16 14:29:24,496 ml_dcs.usecases.simple_evaluator:92 evaluate simple_evaluator 503 123359553406784: evaluating... : {\"progress\": \"250/300\", \"best_accuracy\": 0.6528543230865027}\n",
      "[INFO] 2024-11-16 14:29:27,091 ml_dcs.usecases.simple_evaluator:92 evaluate simple_evaluator 503 123359553406784: evaluating... : {\"progress\": \"260/300\", \"best_accuracy\": 0.6528543230865027}\n",
      "[INFO] 2024-11-16 14:29:29,623 ml_dcs.usecases.simple_evaluator:92 evaluate simple_evaluator 503 123359553406784: evaluating... : {\"progress\": \"270/300\", \"best_accuracy\": 0.6528543230865027}\n",
      "[INFO] 2024-11-16 14:29:32,167 ml_dcs.usecases.simple_evaluator:92 evaluate simple_evaluator 503 123359553406784: evaluating... : {\"progress\": \"280/300\", \"best_accuracy\": 0.6528543230865027}\n",
      "[INFO] 2024-11-16 14:29:34,707 ml_dcs.usecases.simple_evaluator:92 evaluate simple_evaluator 503 123359553406784: evaluating... : {\"progress\": \"290/300\", \"best_accuracy\": 0.6528543230865027}\n",
      "[INFO] 2024-11-16 14:29:37,276 ml_dcs.usecases.simple_evaluator:92 evaluate simple_evaluator 503 123359553406784: evaluating... : {\"progress\": \"300/300\", \"best_accuracy\": 0.6528543230865027}\n",
      "[INFO] 2024-11-16 14:29:37,278 ml_dcs.usecases.simple_evaluator:112 evaluate simple_evaluator 503 123359553406784: evaluation finished\n"
     ]
    }
   ],
   "execution_count": 11
  },
  {
   "metadata": {
    "ExecuteTime": {
     "end_time": "2024-11-16T14:29:48.016680Z",
     "start_time": "2024-11-16T14:29:37.280530Z"
    }
   },
   "cell_type": "code",
   "source": [
    "from ml_dcs.internal.ml.simple import RegressionAlgorithm\n",
    "from ml_dcs.usecases.simple_evaluator import MLSimpleEvaluator\n",
    "\n",
    "evaluator = MLSimpleEvaluator(\n",
    "    input_dir_path=INPUT_DIR_PATH,\n",
    "    training_result_output_file_path=training_result_output_file_path(\"DT\"),\n",
    "    testing_result_output_file_path=testing_result_output_file_path(\"DT\"),\n",
    "    algorithm=RegressionAlgorithm.DECISION_TREE,\n",
    "    ml_input_class=ML_INPUT_CLASS,\n",
    ")\n",
    "evaluator.evaluate()"
   ],
   "id": "ff5f10563b1ff0ed",
   "outputs": [
    {
     "name": "stdout",
     "output_type": "stream",
     "text": [
      "[INFO] 2024-11-16 14:29:37,281 ml_dcs.usecases.simple_evaluator:64 evaluate simple_evaluator 503 123359553406784: loading data...\n",
      "[INFO] 2024-11-16 14:29:46,853 ml_dcs.usecases.simple_evaluator:72 evaluate simple_evaluator 503 123359553406784: evaluation started\n",
      "[INFO] 2024-11-16 14:29:46,892 ml_dcs.usecases.simple_evaluator:92 evaluate simple_evaluator 503 123359553406784: evaluating... : {\"progress\": \"10/300\", \"best_accuracy\": 0.6473787273415411}\n",
      "[INFO] 2024-11-16 14:29:46,930 ml_dcs.usecases.simple_evaluator:92 evaluate simple_evaluator 503 123359553406784: evaluating... : {\"progress\": \"20/300\", \"best_accuracy\": 0.6473788777537743}\n",
      "[INFO] 2024-11-16 14:29:46,969 ml_dcs.usecases.simple_evaluator:92 evaluate simple_evaluator 503 123359553406784: evaluating... : {\"progress\": \"30/300\", \"best_accuracy\": 0.6473788777537743}\n",
      "[INFO] 2024-11-16 14:29:47,013 ml_dcs.usecases.simple_evaluator:92 evaluate simple_evaluator 503 123359553406784: evaluating... : {\"progress\": \"40/300\", \"best_accuracy\": 0.6473788777537743}\n",
      "[INFO] 2024-11-16 14:29:47,051 ml_dcs.usecases.simple_evaluator:92 evaluate simple_evaluator 503 123359553406784: evaluating... : {\"progress\": \"50/300\", \"best_accuracy\": 0.6473788777537743}\n",
      "[INFO] 2024-11-16 14:29:47,090 ml_dcs.usecases.simple_evaluator:92 evaluate simple_evaluator 503 123359553406784: evaluating... : {\"progress\": \"60/300\", \"best_accuracy\": 0.6473788777537743}\n",
      "[INFO] 2024-11-16 14:29:47,128 ml_dcs.usecases.simple_evaluator:92 evaluate simple_evaluator 503 123359553406784: evaluating... : {\"progress\": \"70/300\", \"best_accuracy\": 0.6473788777537743}\n",
      "[INFO] 2024-11-16 14:29:47,167 ml_dcs.usecases.simple_evaluator:92 evaluate simple_evaluator 503 123359553406784: evaluating... : {\"progress\": \"80/300\", \"best_accuracy\": 0.6473788777537743}\n",
      "[INFO] 2024-11-16 14:29:47,205 ml_dcs.usecases.simple_evaluator:92 evaluate simple_evaluator 503 123359553406784: evaluating... : {\"progress\": \"90/300\", \"best_accuracy\": 0.6473788777537743}\n",
      "[INFO] 2024-11-16 14:29:47,244 ml_dcs.usecases.simple_evaluator:92 evaluate simple_evaluator 503 123359553406784: evaluating... : {\"progress\": \"100/300\", \"best_accuracy\": 0.6473788777537743}\n",
      "[INFO] 2024-11-16 14:29:47,283 ml_dcs.usecases.simple_evaluator:92 evaluate simple_evaluator 503 123359553406784: evaluating... : {\"progress\": \"110/300\", \"best_accuracy\": 0.6473788777537743}\n",
      "[INFO] 2024-11-16 14:29:47,321 ml_dcs.usecases.simple_evaluator:92 evaluate simple_evaluator 503 123359553406784: evaluating... : {\"progress\": \"120/300\", \"best_accuracy\": 0.6473788777537743}\n",
      "[INFO] 2024-11-16 14:29:47,359 ml_dcs.usecases.simple_evaluator:92 evaluate simple_evaluator 503 123359553406784: evaluating... : {\"progress\": \"130/300\", \"best_accuracy\": 0.6473788777537743}\n",
      "[INFO] 2024-11-16 14:29:47,398 ml_dcs.usecases.simple_evaluator:92 evaluate simple_evaluator 503 123359553406784: evaluating... : {\"progress\": \"140/300\", \"best_accuracy\": 0.6473788777537743}\n",
      "[INFO] 2024-11-16 14:29:47,436 ml_dcs.usecases.simple_evaluator:92 evaluate simple_evaluator 503 123359553406784: evaluating... : {\"progress\": \"150/300\", \"best_accuracy\": 0.6473788777537743}\n",
      "[INFO] 2024-11-16 14:29:47,475 ml_dcs.usecases.simple_evaluator:92 evaluate simple_evaluator 503 123359553406784: evaluating... : {\"progress\": \"160/300\", \"best_accuracy\": 0.6473788777537743}\n",
      "[INFO] 2024-11-16 14:29:47,513 ml_dcs.usecases.simple_evaluator:92 evaluate simple_evaluator 503 123359553406784: evaluating... : {\"progress\": \"170/300\", \"best_accuracy\": 0.6473788777537743}\n",
      "[INFO] 2024-11-16 14:29:47,552 ml_dcs.usecases.simple_evaluator:92 evaluate simple_evaluator 503 123359553406784: evaluating... : {\"progress\": \"180/300\", \"best_accuracy\": 0.6473788777537743}\n",
      "[INFO] 2024-11-16 14:29:47,590 ml_dcs.usecases.simple_evaluator:92 evaluate simple_evaluator 503 123359553406784: evaluating... : {\"progress\": \"190/300\", \"best_accuracy\": 0.6473788777537743}\n",
      "[INFO] 2024-11-16 14:29:47,628 ml_dcs.usecases.simple_evaluator:92 evaluate simple_evaluator 503 123359553406784: evaluating... : {\"progress\": \"200/300\", \"best_accuracy\": 0.6473788777537743}\n",
      "[INFO] 2024-11-16 14:29:47,666 ml_dcs.usecases.simple_evaluator:92 evaluate simple_evaluator 503 123359553406784: evaluating... : {\"progress\": \"210/300\", \"best_accuracy\": 0.6473788777537743}\n",
      "[INFO] 2024-11-16 14:29:47,705 ml_dcs.usecases.simple_evaluator:92 evaluate simple_evaluator 503 123359553406784: evaluating... : {\"progress\": \"220/300\", \"best_accuracy\": 0.6473788777537743}\n",
      "[INFO] 2024-11-16 14:29:47,744 ml_dcs.usecases.simple_evaluator:92 evaluate simple_evaluator 503 123359553406784: evaluating... : {\"progress\": \"230/300\", \"best_accuracy\": 0.6473788777537743}\n",
      "[INFO] 2024-11-16 14:29:47,784 ml_dcs.usecases.simple_evaluator:92 evaluate simple_evaluator 503 123359553406784: evaluating... : {\"progress\": \"240/300\", \"best_accuracy\": 0.6473788777537743}\n",
      "[INFO] 2024-11-16 14:29:47,822 ml_dcs.usecases.simple_evaluator:92 evaluate simple_evaluator 503 123359553406784: evaluating... : {\"progress\": \"250/300\", \"best_accuracy\": 0.6473788777537743}\n",
      "[INFO] 2024-11-16 14:29:47,860 ml_dcs.usecases.simple_evaluator:92 evaluate simple_evaluator 503 123359553406784: evaluating... : {\"progress\": \"260/300\", \"best_accuracy\": 0.6473788777537743}\n",
      "[INFO] 2024-11-16 14:29:47,898 ml_dcs.usecases.simple_evaluator:92 evaluate simple_evaluator 503 123359553406784: evaluating... : {\"progress\": \"270/300\", \"best_accuracy\": 0.6473788777537743}\n",
      "[INFO] 2024-11-16 14:29:47,937 ml_dcs.usecases.simple_evaluator:92 evaluate simple_evaluator 503 123359553406784: evaluating... : {\"progress\": \"280/300\", \"best_accuracy\": 0.6473788777537743}\n",
      "[INFO] 2024-11-16 14:29:47,975 ml_dcs.usecases.simple_evaluator:92 evaluate simple_evaluator 503 123359553406784: evaluating... : {\"progress\": \"290/300\", \"best_accuracy\": 0.6473788777537743}\n",
      "[INFO] 2024-11-16 14:29:48,013 ml_dcs.usecases.simple_evaluator:92 evaluate simple_evaluator 503 123359553406784: evaluating... : {\"progress\": \"300/300\", \"best_accuracy\": 0.6473788777537743}\n",
      "[INFO] 2024-11-16 14:29:48,015 ml_dcs.usecases.simple_evaluator:112 evaluate simple_evaluator 503 123359553406784: evaluation finished\n"
     ]
    }
   ],
   "execution_count": 12
  },
  {
   "metadata": {
    "ExecuteTime": {
     "end_time": "2024-11-16T14:31:37.377778Z",
     "start_time": "2024-11-16T14:29:48.017226Z"
    }
   },
   "cell_type": "code",
   "source": [
    "from ml_dcs.internal.ml.simple import RegressionAlgorithm\n",
    "from ml_dcs.usecases.simple_evaluator import MLSimpleEvaluator\n",
    "\n",
    "evaluator = MLSimpleEvaluator(\n",
    "    input_dir_path=INPUT_DIR_PATH,\n",
    "    training_result_output_file_path=training_result_output_file_path(\"LR\"),\n",
    "    testing_result_output_file_path=testing_result_output_file_path(\"LR\"),\n",
    "    algorithm=RegressionAlgorithm.LOGISTIC_REGRESSION,\n",
    "    ml_input_class=ML_INPUT_CLASS,\n",
    ")\n",
    "evaluator.evaluate()"
   ],
   "id": "d91336038863e426",
   "outputs": [
    {
     "name": "stdout",
     "output_type": "stream",
     "text": [
      "[INFO] 2024-11-16 14:29:48,017 ml_dcs.usecases.simple_evaluator:64 evaluate simple_evaluator 503 123359553406784: loading data...\n",
      "[INFO] 2024-11-16 14:29:57,779 ml_dcs.usecases.simple_evaluator:72 evaluate simple_evaluator 503 123359553406784: evaluation started\n",
      "[INFO] 2024-11-16 14:31:15,482 ml_dcs.usecases.simple_evaluator:92 evaluate simple_evaluator 503 123359553406784: evaluating... : {\"progress\": \"10/300\", \"best_accuracy\": -1.1174351417826824}\n"
     ]
    },
    {
     "ename": "KeyboardInterrupt",
     "evalue": "",
     "output_type": "error",
     "traceback": [
      "\u001b[0;31m---------------------------------------------------------------------------\u001b[0m",
      "\u001b[0;31mKeyboardInterrupt\u001b[0m                         Traceback (most recent call last)",
      "Cell \u001b[0;32mIn[13], line 11\u001b[0m\n\u001b[1;32m      2\u001b[0m \u001b[38;5;28;01mfrom\u001b[39;00m \u001b[38;5;21;01mml_dcs\u001b[39;00m\u001b[38;5;21;01m.\u001b[39;00m\u001b[38;5;21;01musecases\u001b[39;00m\u001b[38;5;21;01m.\u001b[39;00m\u001b[38;5;21;01msimple_evaluator\u001b[39;00m \u001b[38;5;28;01mimport\u001b[39;00m MLSimpleEvaluator\n\u001b[1;32m      4\u001b[0m evaluator \u001b[38;5;241m=\u001b[39m MLSimpleEvaluator(\n\u001b[1;32m      5\u001b[0m     input_dir_path\u001b[38;5;241m=\u001b[39mINPUT_DIR_PATH,\n\u001b[1;32m      6\u001b[0m     training_result_output_file_path\u001b[38;5;241m=\u001b[39mtraining_result_output_file_path(\u001b[38;5;124m\"\u001b[39m\u001b[38;5;124mLR\u001b[39m\u001b[38;5;124m\"\u001b[39m),\n\u001b[0;32m   (...)\u001b[0m\n\u001b[1;32m      9\u001b[0m     ml_input_class\u001b[38;5;241m=\u001b[39mML_INPUT_CLASS\n\u001b[1;32m     10\u001b[0m )\n\u001b[0;32m---> 11\u001b[0m \u001b[43mevaluator\u001b[49m\u001b[38;5;241;43m.\u001b[39;49m\u001b[43mevaluate\u001b[49m\u001b[43m(\u001b[49m\u001b[43m)\u001b[49m\n",
      "File \u001b[0;32m/usr/local/src/ml-dcs/ml_dcs/usecases/simple_evaluator.py:80\u001b[0m, in \u001b[0;36mMLSimpleEvaluator.evaluate\u001b[0;34m(self)\u001b[0m\n\u001b[1;32m     78\u001b[0m \u001b[38;5;28;01mfor\u001b[39;00m index, random_state \u001b[38;5;129;01min\u001b[39;00m \u001b[38;5;28menumerate\u001b[39m(\u001b[38;5;28mself\u001b[39m\u001b[38;5;241m.\u001b[39mRANDOM_STATES):\n\u001b[1;32m     79\u001b[0m     model \u001b[38;5;241m=\u001b[39m RegressionModel(algorithm\u001b[38;5;241m=\u001b[39m\u001b[38;5;28mself\u001b[39m\u001b[38;5;241m.\u001b[39malgorithm, random_state\u001b[38;5;241m=\u001b[39mrandom_state)\n\u001b[0;32m---> 80\u001b[0m     train_result \u001b[38;5;241m=\u001b[39m \u001b[38;5;28;43mself\u001b[39;49m\u001b[38;5;241;43m.\u001b[39;49m\u001b[43mtrain\u001b[49m\u001b[43m(\u001b[49m\u001b[43mmodel\u001b[49m\u001b[43m,\u001b[49m\u001b[43m \u001b[49m\u001b[43mx_train_std\u001b[49m\u001b[43m,\u001b[49m\u001b[43m \u001b[49m\u001b[43my_train\u001b[49m\u001b[43m)\u001b[49m\n\u001b[1;32m     81\u001b[0m     test_result \u001b[38;5;241m=\u001b[39m \u001b[38;5;28mself\u001b[39m\u001b[38;5;241m.\u001b[39mtest(model, x_test_std, y_test)\n\u001b[1;32m     83\u001b[0m     train_results\u001b[38;5;241m.\u001b[39mappend(train_result)\n",
      "File \u001b[0;32m/usr/local/src/ml-dcs/ml_dcs/usecases/simple_evaluator.py:33\u001b[0m, in \u001b[0;36mMLSimpleEvaluator.train\u001b[0;34m(self, model, x_train_std, y_train)\u001b[0m\n\u001b[1;32m     30\u001b[0m \u001b[38;5;28;01mdef\u001b[39;00m \u001b[38;5;21mtrain\u001b[39m(\u001b[38;5;28mself\u001b[39m, model: RegressionModel, x_train_std: np\u001b[38;5;241m.\u001b[39mndarray, y_train: pd\u001b[38;5;241m.\u001b[39mSeries) \u001b[38;5;241m-\u001b[39m\u001b[38;5;241m>\u001b[39m MLSimpleTrainingResult:\n\u001b[1;32m     31\u001b[0m     started_at \u001b[38;5;241m=\u001b[39m datetime\u001b[38;5;241m.\u001b[39mdatetime\u001b[38;5;241m.\u001b[39mnow()\n\u001b[0;32m---> 33\u001b[0m     \u001b[43mmodel\u001b[49m\u001b[38;5;241;43m.\u001b[39;49m\u001b[43mtrain\u001b[49m\u001b[43m(\u001b[49m\u001b[43mx_train_std\u001b[49m\u001b[43m,\u001b[49m\u001b[43m \u001b[49m\u001b[43my_train\u001b[49m\u001b[43m)\u001b[49m\n\u001b[1;32m     35\u001b[0m     finished_at \u001b[38;5;241m=\u001b[39m datetime\u001b[38;5;241m.\u001b[39mdatetime\u001b[38;5;241m.\u001b[39mnow()\n\u001b[1;32m     36\u001b[0m     result \u001b[38;5;241m=\u001b[39m MLSimpleTrainingResult(\n\u001b[1;32m     37\u001b[0m         algorithm\u001b[38;5;241m=\u001b[39m\u001b[38;5;28mself\u001b[39m\u001b[38;5;241m.\u001b[39malgorithm\u001b[38;5;241m.\u001b[39mvalue,\n\u001b[1;32m     38\u001b[0m         random_state\u001b[38;5;241m=\u001b[39mmodel\u001b[38;5;241m.\u001b[39mrandom_state,\n\u001b[1;32m     39\u001b[0m         started_at\u001b[38;5;241m=\u001b[39mstarted_at,\n\u001b[1;32m     40\u001b[0m         finished_at\u001b[38;5;241m=\u001b[39mfinished_at,\n\u001b[1;32m     41\u001b[0m     )\n",
      "File \u001b[0;32m/usr/local/src/ml-dcs/ml_dcs/internal/ml/simple.py:70\u001b[0m, in \u001b[0;36mRegressionModel.train\u001b[0;34m(self, x_train_std, y_train)\u001b[0m\n\u001b[1;32m     68\u001b[0m     \u001b[38;5;28;01mcase\u001b[39;00m\u001b[38;5;250m \u001b[39m\u001b[38;5;28;01m_\u001b[39;00m:\n\u001b[1;32m     69\u001b[0m         \u001b[38;5;28;01mraise\u001b[39;00m \u001b[38;5;167;01mValueError\u001b[39;00m(\u001b[38;5;124mf\u001b[39m\u001b[38;5;124m\"\u001b[39m\u001b[38;5;124mUnsupported algorithm \u001b[39m\u001b[38;5;132;01m{\u001b[39;00m\u001b[38;5;28mself\u001b[39m\u001b[38;5;241m.\u001b[39malgorithm\u001b[38;5;132;01m}\u001b[39;00m\u001b[38;5;124m\"\u001b[39m)\n\u001b[0;32m---> 70\u001b[0m \u001b[38;5;28;43mself\u001b[39;49m\u001b[38;5;241;43m.\u001b[39;49m\u001b[43mmodel\u001b[49m\u001b[38;5;241;43m.\u001b[39;49m\u001b[43mfit\u001b[49m\u001b[43m(\u001b[49m\u001b[43mx_train_std\u001b[49m\u001b[43m,\u001b[49m\u001b[43m \u001b[49m\u001b[43my_train\u001b[49m\u001b[43m)\u001b[49m\n",
      "File \u001b[0;32m/opt/conda/lib/python3.11/site-packages/sklearn/base.py:1473\u001b[0m, in \u001b[0;36m_fit_context.<locals>.decorator.<locals>.wrapper\u001b[0;34m(estimator, *args, **kwargs)\u001b[0m\n\u001b[1;32m   1466\u001b[0m     estimator\u001b[38;5;241m.\u001b[39m_validate_params()\n\u001b[1;32m   1468\u001b[0m \u001b[38;5;28;01mwith\u001b[39;00m config_context(\n\u001b[1;32m   1469\u001b[0m     skip_parameter_validation\u001b[38;5;241m=\u001b[39m(\n\u001b[1;32m   1470\u001b[0m         prefer_skip_nested_validation \u001b[38;5;129;01mor\u001b[39;00m global_skip_validation\n\u001b[1;32m   1471\u001b[0m     )\n\u001b[1;32m   1472\u001b[0m ):\n\u001b[0;32m-> 1473\u001b[0m     \u001b[38;5;28;01mreturn\u001b[39;00m \u001b[43mfit_method\u001b[49m\u001b[43m(\u001b[49m\u001b[43mestimator\u001b[49m\u001b[43m,\u001b[49m\u001b[43m \u001b[49m\u001b[38;5;241;43m*\u001b[39;49m\u001b[43margs\u001b[49m\u001b[43m,\u001b[49m\u001b[43m \u001b[49m\u001b[38;5;241;43m*\u001b[39;49m\u001b[38;5;241;43m*\u001b[39;49m\u001b[43mkwargs\u001b[49m\u001b[43m)\u001b[49m\n",
      "File \u001b[0;32m/opt/conda/lib/python3.11/site-packages/sklearn/linear_model/_logistic.py:1350\u001b[0m, in \u001b[0;36mLogisticRegression.fit\u001b[0;34m(self, X, y, sample_weight)\u001b[0m\n\u001b[1;32m   1347\u001b[0m \u001b[38;5;28;01melse\u001b[39;00m:\n\u001b[1;32m   1348\u001b[0m     n_threads \u001b[38;5;241m=\u001b[39m \u001b[38;5;241m1\u001b[39m\n\u001b[0;32m-> 1350\u001b[0m fold_coefs_ \u001b[38;5;241m=\u001b[39m \u001b[43mParallel\u001b[49m\u001b[43m(\u001b[49m\u001b[43mn_jobs\u001b[49m\u001b[38;5;241;43m=\u001b[39;49m\u001b[38;5;28;43mself\u001b[39;49m\u001b[38;5;241;43m.\u001b[39;49m\u001b[43mn_jobs\u001b[49m\u001b[43m,\u001b[49m\u001b[43m \u001b[49m\u001b[43mverbose\u001b[49m\u001b[38;5;241;43m=\u001b[39;49m\u001b[38;5;28;43mself\u001b[39;49m\u001b[38;5;241;43m.\u001b[39;49m\u001b[43mverbose\u001b[49m\u001b[43m,\u001b[49m\u001b[43m \u001b[49m\u001b[43mprefer\u001b[49m\u001b[38;5;241;43m=\u001b[39;49m\u001b[43mprefer\u001b[49m\u001b[43m)\u001b[49m\u001b[43m(\u001b[49m\n\u001b[1;32m   1351\u001b[0m \u001b[43m    \u001b[49m\u001b[43mpath_func\u001b[49m\u001b[43m(\u001b[49m\n\u001b[1;32m   1352\u001b[0m \u001b[43m        \u001b[49m\u001b[43mX\u001b[49m\u001b[43m,\u001b[49m\n\u001b[1;32m   1353\u001b[0m \u001b[43m        \u001b[49m\u001b[43my\u001b[49m\u001b[43m,\u001b[49m\n\u001b[1;32m   1354\u001b[0m \u001b[43m        \u001b[49m\u001b[43mpos_class\u001b[49m\u001b[38;5;241;43m=\u001b[39;49m\u001b[43mclass_\u001b[49m\u001b[43m,\u001b[49m\n\u001b[1;32m   1355\u001b[0m \u001b[43m        \u001b[49m\u001b[43mCs\u001b[49m\u001b[38;5;241;43m=\u001b[39;49m\u001b[43m[\u001b[49m\u001b[43mC_\u001b[49m\u001b[43m]\u001b[49m\u001b[43m,\u001b[49m\n\u001b[1;32m   1356\u001b[0m \u001b[43m        \u001b[49m\u001b[43ml1_ratio\u001b[49m\u001b[38;5;241;43m=\u001b[39;49m\u001b[38;5;28;43mself\u001b[39;49m\u001b[38;5;241;43m.\u001b[39;49m\u001b[43ml1_ratio\u001b[49m\u001b[43m,\u001b[49m\n\u001b[1;32m   1357\u001b[0m \u001b[43m        \u001b[49m\u001b[43mfit_intercept\u001b[49m\u001b[38;5;241;43m=\u001b[39;49m\u001b[38;5;28;43mself\u001b[39;49m\u001b[38;5;241;43m.\u001b[39;49m\u001b[43mfit_intercept\u001b[49m\u001b[43m,\u001b[49m\n\u001b[1;32m   1358\u001b[0m \u001b[43m        \u001b[49m\u001b[43mtol\u001b[49m\u001b[38;5;241;43m=\u001b[39;49m\u001b[38;5;28;43mself\u001b[39;49m\u001b[38;5;241;43m.\u001b[39;49m\u001b[43mtol\u001b[49m\u001b[43m,\u001b[49m\n\u001b[1;32m   1359\u001b[0m \u001b[43m        \u001b[49m\u001b[43mverbose\u001b[49m\u001b[38;5;241;43m=\u001b[39;49m\u001b[38;5;28;43mself\u001b[39;49m\u001b[38;5;241;43m.\u001b[39;49m\u001b[43mverbose\u001b[49m\u001b[43m,\u001b[49m\n\u001b[1;32m   1360\u001b[0m \u001b[43m        \u001b[49m\u001b[43msolver\u001b[49m\u001b[38;5;241;43m=\u001b[39;49m\u001b[43msolver\u001b[49m\u001b[43m,\u001b[49m\n\u001b[1;32m   1361\u001b[0m \u001b[43m        \u001b[49m\u001b[43mmulti_class\u001b[49m\u001b[38;5;241;43m=\u001b[39;49m\u001b[43mmulti_class\u001b[49m\u001b[43m,\u001b[49m\n\u001b[1;32m   1362\u001b[0m \u001b[43m        \u001b[49m\u001b[43mmax_iter\u001b[49m\u001b[38;5;241;43m=\u001b[39;49m\u001b[38;5;28;43mself\u001b[39;49m\u001b[38;5;241;43m.\u001b[39;49m\u001b[43mmax_iter\u001b[49m\u001b[43m,\u001b[49m\n\u001b[1;32m   1363\u001b[0m \u001b[43m        \u001b[49m\u001b[43mclass_weight\u001b[49m\u001b[38;5;241;43m=\u001b[39;49m\u001b[38;5;28;43mself\u001b[39;49m\u001b[38;5;241;43m.\u001b[39;49m\u001b[43mclass_weight\u001b[49m\u001b[43m,\u001b[49m\n\u001b[1;32m   1364\u001b[0m \u001b[43m        \u001b[49m\u001b[43mcheck_input\u001b[49m\u001b[38;5;241;43m=\u001b[39;49m\u001b[38;5;28;43;01mFalse\u001b[39;49;00m\u001b[43m,\u001b[49m\n\u001b[1;32m   1365\u001b[0m \u001b[43m        \u001b[49m\u001b[43mrandom_state\u001b[49m\u001b[38;5;241;43m=\u001b[39;49m\u001b[38;5;28;43mself\u001b[39;49m\u001b[38;5;241;43m.\u001b[39;49m\u001b[43mrandom_state\u001b[49m\u001b[43m,\u001b[49m\n\u001b[1;32m   1366\u001b[0m \u001b[43m        \u001b[49m\u001b[43mcoef\u001b[49m\u001b[38;5;241;43m=\u001b[39;49m\u001b[43mwarm_start_coef_\u001b[49m\u001b[43m,\u001b[49m\n\u001b[1;32m   1367\u001b[0m \u001b[43m        \u001b[49m\u001b[43mpenalty\u001b[49m\u001b[38;5;241;43m=\u001b[39;49m\u001b[43mpenalty\u001b[49m\u001b[43m,\u001b[49m\n\u001b[1;32m   1368\u001b[0m \u001b[43m        \u001b[49m\u001b[43mmax_squared_sum\u001b[49m\u001b[38;5;241;43m=\u001b[39;49m\u001b[43mmax_squared_sum\u001b[49m\u001b[43m,\u001b[49m\n\u001b[1;32m   1369\u001b[0m \u001b[43m        \u001b[49m\u001b[43msample_weight\u001b[49m\u001b[38;5;241;43m=\u001b[39;49m\u001b[43msample_weight\u001b[49m\u001b[43m,\u001b[49m\n\u001b[1;32m   1370\u001b[0m \u001b[43m        \u001b[49m\u001b[43mn_threads\u001b[49m\u001b[38;5;241;43m=\u001b[39;49m\u001b[43mn_threads\u001b[49m\u001b[43m,\u001b[49m\n\u001b[1;32m   1371\u001b[0m \u001b[43m    \u001b[49m\u001b[43m)\u001b[49m\n\u001b[1;32m   1372\u001b[0m \u001b[43m    \u001b[49m\u001b[38;5;28;43;01mfor\u001b[39;49;00m\u001b[43m \u001b[49m\u001b[43mclass_\u001b[49m\u001b[43m,\u001b[49m\u001b[43m \u001b[49m\u001b[43mwarm_start_coef_\u001b[49m\u001b[43m \u001b[49m\u001b[38;5;129;43;01min\u001b[39;49;00m\u001b[43m \u001b[49m\u001b[38;5;28;43mzip\u001b[39;49m\u001b[43m(\u001b[49m\u001b[43mclasses_\u001b[49m\u001b[43m,\u001b[49m\u001b[43m \u001b[49m\u001b[43mwarm_start_coef\u001b[49m\u001b[43m)\u001b[49m\n\u001b[1;32m   1373\u001b[0m \u001b[43m\u001b[49m\u001b[43m)\u001b[49m\n\u001b[1;32m   1375\u001b[0m fold_coefs_, _, n_iter_ \u001b[38;5;241m=\u001b[39m \u001b[38;5;28mzip\u001b[39m(\u001b[38;5;241m*\u001b[39mfold_coefs_)\n\u001b[1;32m   1376\u001b[0m \u001b[38;5;28mself\u001b[39m\u001b[38;5;241m.\u001b[39mn_iter_ \u001b[38;5;241m=\u001b[39m np\u001b[38;5;241m.\u001b[39masarray(n_iter_, dtype\u001b[38;5;241m=\u001b[39mnp\u001b[38;5;241m.\u001b[39mint32)[:, \u001b[38;5;241m0\u001b[39m]\n",
      "File \u001b[0;32m/opt/conda/lib/python3.11/site-packages/sklearn/utils/parallel.py:74\u001b[0m, in \u001b[0;36mParallel.__call__\u001b[0;34m(self, iterable)\u001b[0m\n\u001b[1;32m     69\u001b[0m config \u001b[38;5;241m=\u001b[39m get_config()\n\u001b[1;32m     70\u001b[0m iterable_with_config \u001b[38;5;241m=\u001b[39m (\n\u001b[1;32m     71\u001b[0m     (_with_config(delayed_func, config), args, kwargs)\n\u001b[1;32m     72\u001b[0m     \u001b[38;5;28;01mfor\u001b[39;00m delayed_func, args, kwargs \u001b[38;5;129;01min\u001b[39;00m iterable\n\u001b[1;32m     73\u001b[0m )\n\u001b[0;32m---> 74\u001b[0m \u001b[38;5;28;01mreturn\u001b[39;00m \u001b[38;5;28;43msuper\u001b[39;49m\u001b[43m(\u001b[49m\u001b[43m)\u001b[49m\u001b[38;5;241;43m.\u001b[39;49m\u001b[38;5;21;43m__call__\u001b[39;49m\u001b[43m(\u001b[49m\u001b[43miterable_with_config\u001b[49m\u001b[43m)\u001b[49m\n",
      "File \u001b[0;32m/opt/conda/lib/python3.11/site-packages/joblib/parallel.py:1918\u001b[0m, in \u001b[0;36mParallel.__call__\u001b[0;34m(self, iterable)\u001b[0m\n\u001b[1;32m   1916\u001b[0m     output \u001b[38;5;241m=\u001b[39m \u001b[38;5;28mself\u001b[39m\u001b[38;5;241m.\u001b[39m_get_sequential_output(iterable)\n\u001b[1;32m   1917\u001b[0m     \u001b[38;5;28mnext\u001b[39m(output)\n\u001b[0;32m-> 1918\u001b[0m     \u001b[38;5;28;01mreturn\u001b[39;00m output \u001b[38;5;28;01mif\u001b[39;00m \u001b[38;5;28mself\u001b[39m\u001b[38;5;241m.\u001b[39mreturn_generator \u001b[38;5;28;01melse\u001b[39;00m \u001b[38;5;28mlist\u001b[39m(output)\n\u001b[1;32m   1920\u001b[0m \u001b[38;5;66;03m# Let's create an ID that uniquely identifies the current call. If the\u001b[39;00m\n\u001b[1;32m   1921\u001b[0m \u001b[38;5;66;03m# call is interrupted early and that the same instance is immediately\u001b[39;00m\n\u001b[1;32m   1922\u001b[0m \u001b[38;5;66;03m# re-used, this id will be used to prevent workers that were\u001b[39;00m\n\u001b[1;32m   1923\u001b[0m \u001b[38;5;66;03m# concurrently finalizing a task from the previous call to run the\u001b[39;00m\n\u001b[1;32m   1924\u001b[0m \u001b[38;5;66;03m# callback.\u001b[39;00m\n\u001b[1;32m   1925\u001b[0m \u001b[38;5;28;01mwith\u001b[39;00m \u001b[38;5;28mself\u001b[39m\u001b[38;5;241m.\u001b[39m_lock:\n",
      "File \u001b[0;32m/opt/conda/lib/python3.11/site-packages/joblib/parallel.py:1847\u001b[0m, in \u001b[0;36mParallel._get_sequential_output\u001b[0;34m(self, iterable)\u001b[0m\n\u001b[1;32m   1845\u001b[0m \u001b[38;5;28mself\u001b[39m\u001b[38;5;241m.\u001b[39mn_dispatched_batches \u001b[38;5;241m+\u001b[39m\u001b[38;5;241m=\u001b[39m \u001b[38;5;241m1\u001b[39m\n\u001b[1;32m   1846\u001b[0m \u001b[38;5;28mself\u001b[39m\u001b[38;5;241m.\u001b[39mn_dispatched_tasks \u001b[38;5;241m+\u001b[39m\u001b[38;5;241m=\u001b[39m \u001b[38;5;241m1\u001b[39m\n\u001b[0;32m-> 1847\u001b[0m res \u001b[38;5;241m=\u001b[39m \u001b[43mfunc\u001b[49m\u001b[43m(\u001b[49m\u001b[38;5;241;43m*\u001b[39;49m\u001b[43margs\u001b[49m\u001b[43m,\u001b[49m\u001b[43m \u001b[49m\u001b[38;5;241;43m*\u001b[39;49m\u001b[38;5;241;43m*\u001b[39;49m\u001b[43mkwargs\u001b[49m\u001b[43m)\u001b[49m\n\u001b[1;32m   1848\u001b[0m \u001b[38;5;28mself\u001b[39m\u001b[38;5;241m.\u001b[39mn_completed_tasks \u001b[38;5;241m+\u001b[39m\u001b[38;5;241m=\u001b[39m \u001b[38;5;241m1\u001b[39m\n\u001b[1;32m   1849\u001b[0m \u001b[38;5;28mself\u001b[39m\u001b[38;5;241m.\u001b[39mprint_progress()\n",
      "File \u001b[0;32m/opt/conda/lib/python3.11/site-packages/sklearn/utils/parallel.py:136\u001b[0m, in \u001b[0;36m_FuncWrapper.__call__\u001b[0;34m(self, *args, **kwargs)\u001b[0m\n\u001b[1;32m    134\u001b[0m     config \u001b[38;5;241m=\u001b[39m {}\n\u001b[1;32m    135\u001b[0m \u001b[38;5;28;01mwith\u001b[39;00m config_context(\u001b[38;5;241m*\u001b[39m\u001b[38;5;241m*\u001b[39mconfig):\n\u001b[0;32m--> 136\u001b[0m     \u001b[38;5;28;01mreturn\u001b[39;00m \u001b[38;5;28;43mself\u001b[39;49m\u001b[38;5;241;43m.\u001b[39;49m\u001b[43mfunction\u001b[49m\u001b[43m(\u001b[49m\u001b[38;5;241;43m*\u001b[39;49m\u001b[43margs\u001b[49m\u001b[43m,\u001b[49m\u001b[43m \u001b[49m\u001b[38;5;241;43m*\u001b[39;49m\u001b[38;5;241;43m*\u001b[39;49m\u001b[43mkwargs\u001b[49m\u001b[43m)\u001b[49m\n",
      "File \u001b[0;32m/opt/conda/lib/python3.11/site-packages/sklearn/linear_model/_logistic.py:455\u001b[0m, in \u001b[0;36m_logistic_regression_path\u001b[0;34m(X, y, pos_class, Cs, fit_intercept, max_iter, tol, verbose, solver, coef, class_weight, dual, penalty, intercept_scaling, multi_class, random_state, check_input, max_squared_sum, sample_weight, l1_ratio, n_threads)\u001b[0m\n\u001b[1;32m    451\u001b[0m l2_reg_strength \u001b[38;5;241m=\u001b[39m \u001b[38;5;241m1.0\u001b[39m \u001b[38;5;241m/\u001b[39m (C \u001b[38;5;241m*\u001b[39m sw_sum)\n\u001b[1;32m    452\u001b[0m iprint \u001b[38;5;241m=\u001b[39m [\u001b[38;5;241m-\u001b[39m\u001b[38;5;241m1\u001b[39m, \u001b[38;5;241m50\u001b[39m, \u001b[38;5;241m1\u001b[39m, \u001b[38;5;241m100\u001b[39m, \u001b[38;5;241m101\u001b[39m][\n\u001b[1;32m    453\u001b[0m     np\u001b[38;5;241m.\u001b[39msearchsorted(np\u001b[38;5;241m.\u001b[39marray([\u001b[38;5;241m0\u001b[39m, \u001b[38;5;241m1\u001b[39m, \u001b[38;5;241m2\u001b[39m, \u001b[38;5;241m3\u001b[39m]), verbose)\n\u001b[1;32m    454\u001b[0m ]\n\u001b[0;32m--> 455\u001b[0m opt_res \u001b[38;5;241m=\u001b[39m \u001b[43moptimize\u001b[49m\u001b[38;5;241;43m.\u001b[39;49m\u001b[43mminimize\u001b[49m\u001b[43m(\u001b[49m\n\u001b[1;32m    456\u001b[0m \u001b[43m    \u001b[49m\u001b[43mfunc\u001b[49m\u001b[43m,\u001b[49m\n\u001b[1;32m    457\u001b[0m \u001b[43m    \u001b[49m\u001b[43mw0\u001b[49m\u001b[43m,\u001b[49m\n\u001b[1;32m    458\u001b[0m \u001b[43m    \u001b[49m\u001b[43mmethod\u001b[49m\u001b[38;5;241;43m=\u001b[39;49m\u001b[38;5;124;43m\"\u001b[39;49m\u001b[38;5;124;43mL-BFGS-B\u001b[39;49m\u001b[38;5;124;43m\"\u001b[39;49m\u001b[43m,\u001b[49m\n\u001b[1;32m    459\u001b[0m \u001b[43m    \u001b[49m\u001b[43mjac\u001b[49m\u001b[38;5;241;43m=\u001b[39;49m\u001b[38;5;28;43;01mTrue\u001b[39;49;00m\u001b[43m,\u001b[49m\n\u001b[1;32m    460\u001b[0m \u001b[43m    \u001b[49m\u001b[43margs\u001b[49m\u001b[38;5;241;43m=\u001b[39;49m\u001b[43m(\u001b[49m\u001b[43mX\u001b[49m\u001b[43m,\u001b[49m\u001b[43m \u001b[49m\u001b[43mtarget\u001b[49m\u001b[43m,\u001b[49m\u001b[43m \u001b[49m\u001b[43msample_weight\u001b[49m\u001b[43m,\u001b[49m\u001b[43m \u001b[49m\u001b[43ml2_reg_strength\u001b[49m\u001b[43m,\u001b[49m\u001b[43m \u001b[49m\u001b[43mn_threads\u001b[49m\u001b[43m)\u001b[49m\u001b[43m,\u001b[49m\n\u001b[1;32m    461\u001b[0m \u001b[43m    \u001b[49m\u001b[43moptions\u001b[49m\u001b[38;5;241;43m=\u001b[39;49m\u001b[43m{\u001b[49m\n\u001b[1;32m    462\u001b[0m \u001b[43m        \u001b[49m\u001b[38;5;124;43m\"\u001b[39;49m\u001b[38;5;124;43mmaxiter\u001b[39;49m\u001b[38;5;124;43m\"\u001b[39;49m\u001b[43m:\u001b[49m\u001b[43m \u001b[49m\u001b[43mmax_iter\u001b[49m\u001b[43m,\u001b[49m\n\u001b[1;32m    463\u001b[0m \u001b[43m        \u001b[49m\u001b[38;5;124;43m\"\u001b[39;49m\u001b[38;5;124;43mmaxls\u001b[39;49m\u001b[38;5;124;43m\"\u001b[39;49m\u001b[43m:\u001b[49m\u001b[43m \u001b[49m\u001b[38;5;241;43m50\u001b[39;49m\u001b[43m,\u001b[49m\u001b[43m  \u001b[49m\u001b[38;5;66;43;03m# default is 20\u001b[39;49;00m\n\u001b[1;32m    464\u001b[0m \u001b[43m        \u001b[49m\u001b[38;5;124;43m\"\u001b[39;49m\u001b[38;5;124;43miprint\u001b[39;49m\u001b[38;5;124;43m\"\u001b[39;49m\u001b[43m:\u001b[49m\u001b[43m \u001b[49m\u001b[43miprint\u001b[49m\u001b[43m,\u001b[49m\n\u001b[1;32m    465\u001b[0m \u001b[43m        \u001b[49m\u001b[38;5;124;43m\"\u001b[39;49m\u001b[38;5;124;43mgtol\u001b[39;49m\u001b[38;5;124;43m\"\u001b[39;49m\u001b[43m:\u001b[49m\u001b[43m \u001b[49m\u001b[43mtol\u001b[49m\u001b[43m,\u001b[49m\n\u001b[1;32m    466\u001b[0m \u001b[43m        \u001b[49m\u001b[38;5;124;43m\"\u001b[39;49m\u001b[38;5;124;43mftol\u001b[39;49m\u001b[38;5;124;43m\"\u001b[39;49m\u001b[43m:\u001b[49m\u001b[43m \u001b[49m\u001b[38;5;241;43m64\u001b[39;49m\u001b[43m \u001b[49m\u001b[38;5;241;43m*\u001b[39;49m\u001b[43m \u001b[49m\u001b[43mnp\u001b[49m\u001b[38;5;241;43m.\u001b[39;49m\u001b[43mfinfo\u001b[49m\u001b[43m(\u001b[49m\u001b[38;5;28;43mfloat\u001b[39;49m\u001b[43m)\u001b[49m\u001b[38;5;241;43m.\u001b[39;49m\u001b[43meps\u001b[49m\u001b[43m,\u001b[49m\n\u001b[1;32m    467\u001b[0m \u001b[43m    \u001b[49m\u001b[43m}\u001b[49m\u001b[43m,\u001b[49m\n\u001b[1;32m    468\u001b[0m \u001b[43m\u001b[49m\u001b[43m)\u001b[49m\n\u001b[1;32m    469\u001b[0m n_iter_i \u001b[38;5;241m=\u001b[39m _check_optimize_result(\n\u001b[1;32m    470\u001b[0m     solver,\n\u001b[1;32m    471\u001b[0m     opt_res,\n\u001b[1;32m    472\u001b[0m     max_iter,\n\u001b[1;32m    473\u001b[0m     extra_warning_msg\u001b[38;5;241m=\u001b[39m_LOGISTIC_SOLVER_CONVERGENCE_MSG,\n\u001b[1;32m    474\u001b[0m )\n\u001b[1;32m    475\u001b[0m w0, loss \u001b[38;5;241m=\u001b[39m opt_res\u001b[38;5;241m.\u001b[39mx, opt_res\u001b[38;5;241m.\u001b[39mfun\n",
      "File \u001b[0;32m/opt/conda/lib/python3.11/site-packages/scipy/optimize/_minimize.py:731\u001b[0m, in \u001b[0;36mminimize\u001b[0;34m(fun, x0, args, method, jac, hess, hessp, bounds, constraints, tol, callback, options)\u001b[0m\n\u001b[1;32m    728\u001b[0m     res \u001b[38;5;241m=\u001b[39m _minimize_newtoncg(fun, x0, args, jac, hess, hessp, callback,\n\u001b[1;32m    729\u001b[0m                              \u001b[38;5;241m*\u001b[39m\u001b[38;5;241m*\u001b[39moptions)\n\u001b[1;32m    730\u001b[0m \u001b[38;5;28;01melif\u001b[39;00m meth \u001b[38;5;241m==\u001b[39m \u001b[38;5;124m'\u001b[39m\u001b[38;5;124ml-bfgs-b\u001b[39m\u001b[38;5;124m'\u001b[39m:\n\u001b[0;32m--> 731\u001b[0m     res \u001b[38;5;241m=\u001b[39m \u001b[43m_minimize_lbfgsb\u001b[49m\u001b[43m(\u001b[49m\u001b[43mfun\u001b[49m\u001b[43m,\u001b[49m\u001b[43m \u001b[49m\u001b[43mx0\u001b[49m\u001b[43m,\u001b[49m\u001b[43m \u001b[49m\u001b[43margs\u001b[49m\u001b[43m,\u001b[49m\u001b[43m \u001b[49m\u001b[43mjac\u001b[49m\u001b[43m,\u001b[49m\u001b[43m \u001b[49m\u001b[43mbounds\u001b[49m\u001b[43m,\u001b[49m\n\u001b[1;32m    732\u001b[0m \u001b[43m                           \u001b[49m\u001b[43mcallback\u001b[49m\u001b[38;5;241;43m=\u001b[39;49m\u001b[43mcallback\u001b[49m\u001b[43m,\u001b[49m\u001b[43m \u001b[49m\u001b[38;5;241;43m*\u001b[39;49m\u001b[38;5;241;43m*\u001b[39;49m\u001b[43moptions\u001b[49m\u001b[43m)\u001b[49m\n\u001b[1;32m    733\u001b[0m \u001b[38;5;28;01melif\u001b[39;00m meth \u001b[38;5;241m==\u001b[39m \u001b[38;5;124m'\u001b[39m\u001b[38;5;124mtnc\u001b[39m\u001b[38;5;124m'\u001b[39m:\n\u001b[1;32m    734\u001b[0m     res \u001b[38;5;241m=\u001b[39m _minimize_tnc(fun, x0, args, jac, bounds, callback\u001b[38;5;241m=\u001b[39mcallback,\n\u001b[1;32m    735\u001b[0m                         \u001b[38;5;241m*\u001b[39m\u001b[38;5;241m*\u001b[39moptions)\n",
      "File \u001b[0;32m/opt/conda/lib/python3.11/site-packages/scipy/optimize/_lbfgsb_py.py:407\u001b[0m, in \u001b[0;36m_minimize_lbfgsb\u001b[0;34m(fun, x0, args, jac, bounds, disp, maxcor, ftol, gtol, eps, maxfun, maxiter, iprint, callback, maxls, finite_diff_rel_step, **unknown_options)\u001b[0m\n\u001b[1;32m    401\u001b[0m task_str \u001b[38;5;241m=\u001b[39m task\u001b[38;5;241m.\u001b[39mtobytes()\n\u001b[1;32m    402\u001b[0m \u001b[38;5;28;01mif\u001b[39;00m task_str\u001b[38;5;241m.\u001b[39mstartswith(\u001b[38;5;124mb\u001b[39m\u001b[38;5;124m'\u001b[39m\u001b[38;5;124mFG\u001b[39m\u001b[38;5;124m'\u001b[39m):\n\u001b[1;32m    403\u001b[0m     \u001b[38;5;66;03m# The minimization routine wants f and g at the current x.\u001b[39;00m\n\u001b[1;32m    404\u001b[0m     \u001b[38;5;66;03m# Note that interruptions due to maxfun are postponed\u001b[39;00m\n\u001b[1;32m    405\u001b[0m     \u001b[38;5;66;03m# until the completion of the current minimization iteration.\u001b[39;00m\n\u001b[1;32m    406\u001b[0m     \u001b[38;5;66;03m# Overwrite f and g:\u001b[39;00m\n\u001b[0;32m--> 407\u001b[0m     f, g \u001b[38;5;241m=\u001b[39m \u001b[43mfunc_and_grad\u001b[49m\u001b[43m(\u001b[49m\u001b[43mx\u001b[49m\u001b[43m)\u001b[49m\n\u001b[1;32m    408\u001b[0m \u001b[38;5;28;01melif\u001b[39;00m task_str\u001b[38;5;241m.\u001b[39mstartswith(\u001b[38;5;124mb\u001b[39m\u001b[38;5;124m'\u001b[39m\u001b[38;5;124mNEW_X\u001b[39m\u001b[38;5;124m'\u001b[39m):\n\u001b[1;32m    409\u001b[0m     \u001b[38;5;66;03m# new iteration\u001b[39;00m\n\u001b[1;32m    410\u001b[0m     n_iterations \u001b[38;5;241m+\u001b[39m\u001b[38;5;241m=\u001b[39m \u001b[38;5;241m1\u001b[39m\n",
      "File \u001b[0;32m/opt/conda/lib/python3.11/site-packages/scipy/optimize/_differentiable_functions.py:343\u001b[0m, in \u001b[0;36mScalarFunction.fun_and_grad\u001b[0;34m(self, x)\u001b[0m\n\u001b[1;32m    341\u001b[0m \u001b[38;5;28;01mif\u001b[39;00m \u001b[38;5;129;01mnot\u001b[39;00m np\u001b[38;5;241m.\u001b[39marray_equal(x, \u001b[38;5;28mself\u001b[39m\u001b[38;5;241m.\u001b[39mx):\n\u001b[1;32m    342\u001b[0m     \u001b[38;5;28mself\u001b[39m\u001b[38;5;241m.\u001b[39m_update_x(x)\n\u001b[0;32m--> 343\u001b[0m \u001b[38;5;28;43mself\u001b[39;49m\u001b[38;5;241;43m.\u001b[39;49m\u001b[43m_update_fun\u001b[49m\u001b[43m(\u001b[49m\u001b[43m)\u001b[49m\n\u001b[1;32m    344\u001b[0m \u001b[38;5;28mself\u001b[39m\u001b[38;5;241m.\u001b[39m_update_grad()\n\u001b[1;32m    345\u001b[0m \u001b[38;5;28;01mreturn\u001b[39;00m \u001b[38;5;28mself\u001b[39m\u001b[38;5;241m.\u001b[39mf, \u001b[38;5;28mself\u001b[39m\u001b[38;5;241m.\u001b[39mg\n",
      "File \u001b[0;32m/opt/conda/lib/python3.11/site-packages/scipy/optimize/_differentiable_functions.py:294\u001b[0m, in \u001b[0;36mScalarFunction._update_fun\u001b[0;34m(self)\u001b[0m\n\u001b[1;32m    292\u001b[0m \u001b[38;5;28;01mdef\u001b[39;00m \u001b[38;5;21m_update_fun\u001b[39m(\u001b[38;5;28mself\u001b[39m):\n\u001b[1;32m    293\u001b[0m     \u001b[38;5;28;01mif\u001b[39;00m \u001b[38;5;129;01mnot\u001b[39;00m \u001b[38;5;28mself\u001b[39m\u001b[38;5;241m.\u001b[39mf_updated:\n\u001b[0;32m--> 294\u001b[0m         fx \u001b[38;5;241m=\u001b[39m \u001b[38;5;28;43mself\u001b[39;49m\u001b[38;5;241;43m.\u001b[39;49m\u001b[43m_wrapped_fun\u001b[49m\u001b[43m(\u001b[49m\u001b[38;5;28;43mself\u001b[39;49m\u001b[38;5;241;43m.\u001b[39;49m\u001b[43mx\u001b[49m\u001b[43m)\u001b[49m\n\u001b[1;32m    295\u001b[0m         \u001b[38;5;28;01mif\u001b[39;00m fx \u001b[38;5;241m<\u001b[39m \u001b[38;5;28mself\u001b[39m\u001b[38;5;241m.\u001b[39m_lowest_f:\n\u001b[1;32m    296\u001b[0m             \u001b[38;5;28mself\u001b[39m\u001b[38;5;241m.\u001b[39m_lowest_x \u001b[38;5;241m=\u001b[39m \u001b[38;5;28mself\u001b[39m\u001b[38;5;241m.\u001b[39mx\n",
      "File \u001b[0;32m/opt/conda/lib/python3.11/site-packages/scipy/optimize/_differentiable_functions.py:20\u001b[0m, in \u001b[0;36m_wrapper_fun.<locals>.wrapped\u001b[0;34m(x)\u001b[0m\n\u001b[1;32m     16\u001b[0m ncalls[\u001b[38;5;241m0\u001b[39m] \u001b[38;5;241m+\u001b[39m\u001b[38;5;241m=\u001b[39m \u001b[38;5;241m1\u001b[39m\n\u001b[1;32m     17\u001b[0m \u001b[38;5;66;03m# Send a copy because the user may overwrite it.\u001b[39;00m\n\u001b[1;32m     18\u001b[0m \u001b[38;5;66;03m# Overwriting results in undefined behaviour because\u001b[39;00m\n\u001b[1;32m     19\u001b[0m \u001b[38;5;66;03m# fun(self.x) will change self.x, with the two no longer linked.\u001b[39;00m\n\u001b[0;32m---> 20\u001b[0m fx \u001b[38;5;241m=\u001b[39m \u001b[43mfun\u001b[49m\u001b[43m(\u001b[49m\u001b[43mnp\u001b[49m\u001b[38;5;241;43m.\u001b[39;49m\u001b[43mcopy\u001b[49m\u001b[43m(\u001b[49m\u001b[43mx\u001b[49m\u001b[43m)\u001b[49m\u001b[43m,\u001b[49m\u001b[43m \u001b[49m\u001b[38;5;241;43m*\u001b[39;49m\u001b[43margs\u001b[49m\u001b[43m)\u001b[49m\n\u001b[1;32m     21\u001b[0m \u001b[38;5;66;03m# Make sure the function returns a true scalar\u001b[39;00m\n\u001b[1;32m     22\u001b[0m \u001b[38;5;28;01mif\u001b[39;00m \u001b[38;5;129;01mnot\u001b[39;00m np\u001b[38;5;241m.\u001b[39misscalar(fx):\n",
      "File \u001b[0;32m/opt/conda/lib/python3.11/site-packages/scipy/optimize/_optimize.py:79\u001b[0m, in \u001b[0;36mMemoizeJac.__call__\u001b[0;34m(self, x, *args)\u001b[0m\n\u001b[1;32m     77\u001b[0m \u001b[38;5;28;01mdef\u001b[39;00m \u001b[38;5;21m__call__\u001b[39m(\u001b[38;5;28mself\u001b[39m, x, \u001b[38;5;241m*\u001b[39margs):\n\u001b[1;32m     78\u001b[0m \u001b[38;5;250m    \u001b[39m\u001b[38;5;124;03m\"\"\" returns the function value \"\"\"\u001b[39;00m\n\u001b[0;32m---> 79\u001b[0m     \u001b[38;5;28;43mself\u001b[39;49m\u001b[38;5;241;43m.\u001b[39;49m\u001b[43m_compute_if_needed\u001b[49m\u001b[43m(\u001b[49m\u001b[43mx\u001b[49m\u001b[43m,\u001b[49m\u001b[43m \u001b[49m\u001b[38;5;241;43m*\u001b[39;49m\u001b[43margs\u001b[49m\u001b[43m)\u001b[49m\n\u001b[1;32m     80\u001b[0m     \u001b[38;5;28;01mreturn\u001b[39;00m \u001b[38;5;28mself\u001b[39m\u001b[38;5;241m.\u001b[39m_value\n",
      "File \u001b[0;32m/opt/conda/lib/python3.11/site-packages/scipy/optimize/_optimize.py:73\u001b[0m, in \u001b[0;36mMemoizeJac._compute_if_needed\u001b[0;34m(self, x, *args)\u001b[0m\n\u001b[1;32m     71\u001b[0m \u001b[38;5;28;01mif\u001b[39;00m \u001b[38;5;129;01mnot\u001b[39;00m np\u001b[38;5;241m.\u001b[39mall(x \u001b[38;5;241m==\u001b[39m \u001b[38;5;28mself\u001b[39m\u001b[38;5;241m.\u001b[39mx) \u001b[38;5;129;01mor\u001b[39;00m \u001b[38;5;28mself\u001b[39m\u001b[38;5;241m.\u001b[39m_value \u001b[38;5;129;01mis\u001b[39;00m \u001b[38;5;28;01mNone\u001b[39;00m \u001b[38;5;129;01mor\u001b[39;00m \u001b[38;5;28mself\u001b[39m\u001b[38;5;241m.\u001b[39mjac \u001b[38;5;129;01mis\u001b[39;00m \u001b[38;5;28;01mNone\u001b[39;00m:\n\u001b[1;32m     72\u001b[0m     \u001b[38;5;28mself\u001b[39m\u001b[38;5;241m.\u001b[39mx \u001b[38;5;241m=\u001b[39m np\u001b[38;5;241m.\u001b[39masarray(x)\u001b[38;5;241m.\u001b[39mcopy()\n\u001b[0;32m---> 73\u001b[0m     fg \u001b[38;5;241m=\u001b[39m \u001b[38;5;28;43mself\u001b[39;49m\u001b[38;5;241;43m.\u001b[39;49m\u001b[43mfun\u001b[49m\u001b[43m(\u001b[49m\u001b[43mx\u001b[49m\u001b[43m,\u001b[49m\u001b[43m \u001b[49m\u001b[38;5;241;43m*\u001b[39;49m\u001b[43margs\u001b[49m\u001b[43m)\u001b[49m\n\u001b[1;32m     74\u001b[0m     \u001b[38;5;28mself\u001b[39m\u001b[38;5;241m.\u001b[39mjac \u001b[38;5;241m=\u001b[39m fg[\u001b[38;5;241m1\u001b[39m]\n\u001b[1;32m     75\u001b[0m     \u001b[38;5;28mself\u001b[39m\u001b[38;5;241m.\u001b[39m_value \u001b[38;5;241m=\u001b[39m fg[\u001b[38;5;241m0\u001b[39m]\n",
      "File \u001b[0;32m/opt/conda/lib/python3.11/site-packages/sklearn/linear_model/_linear_loss.py:303\u001b[0m, in \u001b[0;36mLinearModelLoss.loss_gradient\u001b[0;34m(self, coef, X, y, sample_weight, l2_reg_strength, n_threads, raw_prediction)\u001b[0m\n\u001b[1;32m    301\u001b[0m grad[:, :n_features] \u001b[38;5;241m=\u001b[39m grad_pointwise\u001b[38;5;241m.\u001b[39mT \u001b[38;5;241m@\u001b[39m X \u001b[38;5;241m+\u001b[39m l2_reg_strength \u001b[38;5;241m*\u001b[39m weights\n\u001b[1;32m    302\u001b[0m \u001b[38;5;28;01mif\u001b[39;00m \u001b[38;5;28mself\u001b[39m\u001b[38;5;241m.\u001b[39mfit_intercept:\n\u001b[0;32m--> 303\u001b[0m     grad[:, \u001b[38;5;241m-\u001b[39m\u001b[38;5;241m1\u001b[39m] \u001b[38;5;241m=\u001b[39m \u001b[43mgrad_pointwise\u001b[49m\u001b[38;5;241;43m.\u001b[39;49m\u001b[43msum\u001b[49m\u001b[43m(\u001b[49m\u001b[43maxis\u001b[49m\u001b[38;5;241;43m=\u001b[39;49m\u001b[38;5;241;43m0\u001b[39;49m\u001b[43m)\u001b[49m\n\u001b[1;32m    304\u001b[0m \u001b[38;5;28;01mif\u001b[39;00m coef\u001b[38;5;241m.\u001b[39mndim \u001b[38;5;241m==\u001b[39m \u001b[38;5;241m1\u001b[39m:\n\u001b[1;32m    305\u001b[0m     grad \u001b[38;5;241m=\u001b[39m grad\u001b[38;5;241m.\u001b[39mravel(order\u001b[38;5;241m=\u001b[39m\u001b[38;5;124m\"\u001b[39m\u001b[38;5;124mF\u001b[39m\u001b[38;5;124m\"\u001b[39m)\n",
      "File \u001b[0;32m/opt/conda/lib/python3.11/site-packages/numpy/_core/_methods.py:51\u001b[0m, in \u001b[0;36m_sum\u001b[0;34m(a, axis, dtype, out, keepdims, initial, where)\u001b[0m\n\u001b[1;32m     47\u001b[0m \u001b[38;5;28;01mdef\u001b[39;00m \u001b[38;5;21m_amin\u001b[39m(a, axis\u001b[38;5;241m=\u001b[39m\u001b[38;5;28;01mNone\u001b[39;00m, out\u001b[38;5;241m=\u001b[39m\u001b[38;5;28;01mNone\u001b[39;00m, keepdims\u001b[38;5;241m=\u001b[39m\u001b[38;5;28;01mFalse\u001b[39;00m,\n\u001b[1;32m     48\u001b[0m           initial\u001b[38;5;241m=\u001b[39m_NoValue, where\u001b[38;5;241m=\u001b[39m\u001b[38;5;28;01mTrue\u001b[39;00m):\n\u001b[1;32m     49\u001b[0m     \u001b[38;5;28;01mreturn\u001b[39;00m umr_minimum(a, axis, \u001b[38;5;28;01mNone\u001b[39;00m, out, keepdims, initial, where)\n\u001b[0;32m---> 51\u001b[0m \u001b[38;5;28;01mdef\u001b[39;00m \u001b[38;5;21m_sum\u001b[39m(a, axis\u001b[38;5;241m=\u001b[39m\u001b[38;5;28;01mNone\u001b[39;00m, dtype\u001b[38;5;241m=\u001b[39m\u001b[38;5;28;01mNone\u001b[39;00m, out\u001b[38;5;241m=\u001b[39m\u001b[38;5;28;01mNone\u001b[39;00m, keepdims\u001b[38;5;241m=\u001b[39m\u001b[38;5;28;01mFalse\u001b[39;00m,\n\u001b[1;32m     52\u001b[0m          initial\u001b[38;5;241m=\u001b[39m_NoValue, where\u001b[38;5;241m=\u001b[39m\u001b[38;5;28;01mTrue\u001b[39;00m):\n\u001b[1;32m     53\u001b[0m     \u001b[38;5;28;01mreturn\u001b[39;00m umr_sum(a, axis, dtype, out, keepdims, initial, where)\n\u001b[1;32m     55\u001b[0m \u001b[38;5;28;01mdef\u001b[39;00m \u001b[38;5;21m_prod\u001b[39m(a, axis\u001b[38;5;241m=\u001b[39m\u001b[38;5;28;01mNone\u001b[39;00m, dtype\u001b[38;5;241m=\u001b[39m\u001b[38;5;28;01mNone\u001b[39;00m, out\u001b[38;5;241m=\u001b[39m\u001b[38;5;28;01mNone\u001b[39;00m, keepdims\u001b[38;5;241m=\u001b[39m\u001b[38;5;28;01mFalse\u001b[39;00m,\n\u001b[1;32m     56\u001b[0m           initial\u001b[38;5;241m=\u001b[39m_NoValue, where\u001b[38;5;241m=\u001b[39m\u001b[38;5;28;01mTrue\u001b[39;00m):\n",
      "\u001b[0;31mKeyboardInterrupt\u001b[0m: "
     ]
    }
   ],
   "execution_count": 13
  }
 ],
 "metadata": {
  "kernelspec": {
   "display_name": "Python 3",
   "language": "python",
   "name": "python3"
  },
  "language_info": {
   "codemirror_mode": {
    "name": "ipython",
    "version": 2
   },
   "file_extension": ".py",
   "mimetype": "text/x-python",
   "name": "python",
   "nbconvert_exporter": "python",
   "pygments_lexer": "ipython2",
   "version": "2.7.6"
  }
 },
 "nbformat": 4,
 "nbformat_minor": 5
}
